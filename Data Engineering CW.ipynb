{
 "cells": [
  {
   "cell_type": "markdown",
   "metadata": {},
   "source": [
    "Question 1 - Data Preprocessing"
   ]
  },
  {
   "cell_type": "code",
   "execution_count": 80,
   "metadata": {},
   "outputs": [],
   "source": [
    "import pandas as pd\n",
    "\n",
    "col_mat_nuw_output_df = pd.read_csv('col_mat_nuw_output.csv')"
   ]
  },
  {
   "cell_type": "code",
   "execution_count": 81,
   "metadata": {},
   "outputs": [
    {
     "data": {
      "text/html": [
       "<div>\n",
       "<style scoped>\n",
       "    .dataframe tbody tr th:only-of-type {\n",
       "        vertical-align: middle;\n",
       "    }\n",
       "\n",
       "    .dataframe tbody tr th {\n",
       "        vertical-align: top;\n",
       "    }\n",
       "\n",
       "    .dataframe thead th {\n",
       "        text-align: right;\n",
       "    }\n",
       "</style>\n",
       "<table border=\"1\" class=\"dataframe\">\n",
       "  <thead>\n",
       "    <tr style=\"text-align: right;\">\n",
       "      <th></th>\n",
       "      <th>HCHO Reading</th>\n",
       "      <th>Location</th>\n",
       "      <th>Current Date</th>\n",
       "      <th>Next Date</th>\n",
       "    </tr>\n",
       "  </thead>\n",
       "  <tbody>\n",
       "    <tr>\n",
       "      <th>0</th>\n",
       "      <td>0.000263</td>\n",
       "      <td>Colombo Proper</td>\n",
       "      <td>1/2/2019</td>\n",
       "      <td>1/3/2019</td>\n",
       "    </tr>\n",
       "    <tr>\n",
       "      <th>1</th>\n",
       "      <td>0.000099</td>\n",
       "      <td>Colombo Proper</td>\n",
       "      <td>1/3/2019</td>\n",
       "      <td>1/4/2019</td>\n",
       "    </tr>\n",
       "    <tr>\n",
       "      <th>2</th>\n",
       "      <td>0.000210</td>\n",
       "      <td>Colombo Proper</td>\n",
       "      <td>1/4/2019</td>\n",
       "      <td>1/5/2019</td>\n",
       "    </tr>\n",
       "    <tr>\n",
       "      <th>3</th>\n",
       "      <td>0.000179</td>\n",
       "      <td>Colombo Proper</td>\n",
       "      <td>1/5/2019</td>\n",
       "      <td>1/6/2019</td>\n",
       "    </tr>\n",
       "    <tr>\n",
       "      <th>4</th>\n",
       "      <td>0.000108</td>\n",
       "      <td>Colombo Proper</td>\n",
       "      <td>1/6/2019</td>\n",
       "      <td>1/7/2019</td>\n",
       "    </tr>\n",
       "    <tr>\n",
       "      <th>...</th>\n",
       "      <td>...</td>\n",
       "      <td>...</td>\n",
       "      <td>...</td>\n",
       "      <td>...</td>\n",
       "    </tr>\n",
       "    <tr>\n",
       "      <th>5472</th>\n",
       "      <td>NaN</td>\n",
       "      <td>Nuwara Eliya Proper</td>\n",
       "      <td>12/27/2023</td>\n",
       "      <td>12/28/2023</td>\n",
       "    </tr>\n",
       "    <tr>\n",
       "      <th>5473</th>\n",
       "      <td>NaN</td>\n",
       "      <td>Nuwara Eliya Proper</td>\n",
       "      <td>12/28/2023</td>\n",
       "      <td>12/29/2023</td>\n",
       "    </tr>\n",
       "    <tr>\n",
       "      <th>5474</th>\n",
       "      <td>NaN</td>\n",
       "      <td>Nuwara Eliya Proper</td>\n",
       "      <td>12/29/2023</td>\n",
       "      <td>12/30/2023</td>\n",
       "    </tr>\n",
       "    <tr>\n",
       "      <th>5475</th>\n",
       "      <td>NaN</td>\n",
       "      <td>Nuwara Eliya Proper</td>\n",
       "      <td>12/30/2023</td>\n",
       "      <td>12/31/2023</td>\n",
       "    </tr>\n",
       "    <tr>\n",
       "      <th>5476</th>\n",
       "      <td>NaN</td>\n",
       "      <td>Nuwara Eliya Proper</td>\n",
       "      <td>12/31/2023</td>\n",
       "      <td>1/1/2024</td>\n",
       "    </tr>\n",
       "  </tbody>\n",
       "</table>\n",
       "<p>5477 rows × 4 columns</p>\n",
       "</div>"
      ],
      "text/plain": [
       "      HCHO Reading             Location Current Date   Next Date\n",
       "0         0.000263       Colombo Proper     1/2/2019    1/3/2019\n",
       "1         0.000099       Colombo Proper     1/3/2019    1/4/2019\n",
       "2         0.000210       Colombo Proper     1/4/2019    1/5/2019\n",
       "3         0.000179       Colombo Proper     1/5/2019    1/6/2019\n",
       "4         0.000108       Colombo Proper     1/6/2019    1/7/2019\n",
       "...            ...                  ...          ...         ...\n",
       "5472           NaN  Nuwara Eliya Proper   12/27/2023  12/28/2023\n",
       "5473           NaN  Nuwara Eliya Proper   12/28/2023  12/29/2023\n",
       "5474           NaN  Nuwara Eliya Proper   12/29/2023  12/30/2023\n",
       "5475           NaN  Nuwara Eliya Proper   12/30/2023  12/31/2023\n",
       "5476           NaN  Nuwara Eliya Proper   12/31/2023    1/1/2024\n",
       "\n",
       "[5477 rows x 4 columns]"
      ]
     },
     "execution_count": 81,
     "metadata": {},
     "output_type": "execute_result"
    }
   ],
   "source": [
    "col_mat_nuw_output_df.columns = ['HCHO Reading', 'Location', 'Current Date', 'Next Date']\n",
    "col_mat_nuw_output_df"
   ]
  },
  {
   "cell_type": "code",
   "execution_count": 85,
   "metadata": {},
   "outputs": [
    {
     "data": {
      "text/plain": [
       "(5477, 4)"
      ]
     },
     "execution_count": 85,
     "metadata": {},
     "output_type": "execute_result"
    }
   ],
   "source": [
    "col_mat_nuw_output_df.shape"
   ]
  },
  {
   "cell_type": "markdown",
   "metadata": {},
   "source": [
    "Identifying Unique Values in the dataframe"
   ]
  },
  {
   "cell_type": "code",
   "execution_count": 86,
   "metadata": {},
   "outputs": [
    {
     "name": "stdout",
     "output_type": "stream",
     "text": [
      "HCHO Reading unique values\n",
      "Number of unique values: 3021\n",
      "[2.62552000e-04 9.85211890e-05 2.09932000e-04 ... 1.07861000e-04\n",
      " 5.93039927e-06 2.36988000e-04]\n",
      "\n",
      "\n",
      "Location unique values\n",
      "Number of unique values: 3\n",
      "['Colombo Proper' 'Deniyaya, Matara' 'Nuwara Eliya Proper']\n",
      "\n",
      "\n",
      "Current Date unique values\n",
      "Number of unique values: 1826\n",
      "['1/2/2019' '1/3/2019' '1/4/2019' ... '12/30/2023' '12/31/2023' '1/1/2019']\n",
      "\n",
      "\n",
      "Next Date unique values\n",
      "Number of unique values: 1826\n",
      "['1/3/2019' '1/4/2019' '1/5/2019' ... '12/31/2023' '1/1/2024' '1/2/2019']\n",
      "\n",
      "\n"
     ]
    }
   ],
   "source": [
    "for column in col_mat_nuw_output_df.columns:\n",
    "    unique_values = col_mat_nuw_output_df[column].unique()\n",
    "    print((f\"{column} unique values\"))\n",
    "    count = col_mat_nuw_output_df[column].nunique()  # Count the number of unique values\n",
    "    print(\"Number of unique values:\", count)\n",
    "    print(unique_values)\n",
    "    print('\\n')"
   ]
  },
  {
   "cell_type": "code",
   "execution_count": 87,
   "metadata": {},
   "outputs": [
    {
     "name": "stdout",
     "output_type": "stream",
     "text": [
      "Non-numeric values in 'HCHO Reading' column:\n",
      "      HCHO Reading             Location Current Date   Next Date\n",
      "11             NaN       Colombo Proper    1/13/2019   1/14/2019\n",
      "27             NaN       Colombo Proper    1/29/2019   1/30/2019\n",
      "33             NaN       Colombo Proper     2/4/2019    2/5/2019\n",
      "43             NaN       Colombo Proper    2/14/2019   2/15/2019\n",
      "58             NaN       Colombo Proper     3/1/2019    3/2/2019\n",
      "...            ...                  ...          ...         ...\n",
      "5472           NaN  Nuwara Eliya Proper   12/27/2023  12/28/2023\n",
      "5473           NaN  Nuwara Eliya Proper   12/28/2023  12/29/2023\n",
      "5474           NaN  Nuwara Eliya Proper   12/29/2023  12/30/2023\n",
      "5475           NaN  Nuwara Eliya Proper   12/30/2023  12/31/2023\n",
      "5476           NaN  Nuwara Eliya Proper   12/31/2023    1/1/2024\n",
      "\n",
      "[2419 rows x 4 columns]\n"
     ]
    }
   ],
   "source": [
    "# Identify rows with NaN values\n",
    "non_numeric_rows = col_mat_nuw_output_df[col_mat_nuw_output_df['HCHO Reading'].isna()]\n",
    "print(\"Non-numeric values in 'HCHO Reading' column:\")\n",
    "print(non_numeric_rows)"
   ]
  },
  {
   "cell_type": "code",
   "execution_count": 89,
   "metadata": {},
   "outputs": [
    {
     "data": {
      "text/plain": [
       "0.00012001784979701027"
      ]
     },
     "execution_count": 89,
     "metadata": {},
     "output_type": "execute_result"
    }
   ],
   "source": [
    "correct_values_in_HCHO_Reading = col_mat_nuw_output_df[pd.notna(col_mat_nuw_output_df[\"HCHO Reading\"])]\n",
    "mean_Correct_values_in_HCHO_Reading = correct_values_in_HCHO_Reading[\"HCHO Reading\"].mean()\n",
    "mean_Correct_values_in_HCHO_Reading"
   ]
  },
  {
   "cell_type": "markdown",
   "metadata": {},
   "source": [
    "Replacing NaN values in HCHO Reading column"
   ]
  },
  {
   "cell_type": "code",
   "execution_count": 90,
   "metadata": {},
   "outputs": [
    {
     "name": "stderr",
     "output_type": "stream",
     "text": [
      "C:\\Users\\deela\\AppData\\Local\\Temp\\ipykernel_14028\\694971784.py:2: FutureWarning: A value is trying to be set on a copy of a DataFrame or Series through chained assignment using an inplace method.\n",
      "The behavior will change in pandas 3.0. This inplace method will never work because the intermediate object on which we are setting values always behaves as a copy.\n",
      "\n",
      "For example, when doing 'df[col].method(value, inplace=True)', try using 'df.method({col: value}, inplace=True)' or df[col] = df[col].method(value) instead, to perform the operation inplace on the original object.\n",
      "\n",
      "\n",
      "  col_mat_nuw_output_df[\"HCHO Reading\"].fillna(mean_Correct_values_in_HCHO_Reading, inplace=True)\n"
     ]
    }
   ],
   "source": [
    "# Replace NaN values in the \"HCHO Reading\" column with the mean\n",
    "col_mat_nuw_output_df[\"HCHO Reading\"].fillna(mean_Correct_values_in_HCHO_Reading, inplace=True)"
   ]
  },
  {
   "cell_type": "code",
   "execution_count": 91,
   "metadata": {},
   "outputs": [
    {
     "data": {
      "text/plain": [
       "HCHO Reading    0\n",
       "Location        0\n",
       "Current Date    0\n",
       "Next Date       0\n",
       "dtype: int64"
      ]
     },
     "execution_count": 91,
     "metadata": {},
     "output_type": "execute_result"
    }
   ],
   "source": [
    "col_mat_nuw_output_df.isnull().sum()"
   ]
  },
  {
   "cell_type": "code",
   "execution_count": 92,
   "metadata": {},
   "outputs": [
    {
     "data": {
      "text/html": [
       "<div>\n",
       "<style scoped>\n",
       "    .dataframe tbody tr th:only-of-type {\n",
       "        vertical-align: middle;\n",
       "    }\n",
       "\n",
       "    .dataframe tbody tr th {\n",
       "        vertical-align: top;\n",
       "    }\n",
       "\n",
       "    .dataframe thead th {\n",
       "        text-align: right;\n",
       "    }\n",
       "</style>\n",
       "<table border=\"1\" class=\"dataframe\">\n",
       "  <thead>\n",
       "    <tr style=\"text-align: right;\">\n",
       "      <th></th>\n",
       "      <th>HCHO Reading</th>\n",
       "    </tr>\n",
       "  </thead>\n",
       "  <tbody>\n",
       "    <tr>\n",
       "      <th>count</th>\n",
       "      <td>5477.000000</td>\n",
       "    </tr>\n",
       "    <tr>\n",
       "      <th>mean</th>\n",
       "      <td>0.000120</td>\n",
       "    </tr>\n",
       "    <tr>\n",
       "      <th>std</th>\n",
       "      <td>0.000075</td>\n",
       "    </tr>\n",
       "    <tr>\n",
       "      <th>min</th>\n",
       "      <td>-0.000259</td>\n",
       "    </tr>\n",
       "    <tr>\n",
       "      <th>25%</th>\n",
       "      <td>0.000099</td>\n",
       "    </tr>\n",
       "    <tr>\n",
       "      <th>50%</th>\n",
       "      <td>0.000120</td>\n",
       "    </tr>\n",
       "    <tr>\n",
       "      <th>75%</th>\n",
       "      <td>0.000121</td>\n",
       "    </tr>\n",
       "    <tr>\n",
       "      <th>max</th>\n",
       "      <td>0.000900</td>\n",
       "    </tr>\n",
       "  </tbody>\n",
       "</table>\n",
       "</div>"
      ],
      "text/plain": [
       "       HCHO Reading\n",
       "count   5477.000000\n",
       "mean       0.000120\n",
       "std        0.000075\n",
       "min       -0.000259\n",
       "25%        0.000099\n",
       "50%        0.000120\n",
       "75%        0.000121\n",
       "max        0.000900"
      ]
     },
     "execution_count": 92,
     "metadata": {},
     "output_type": "execute_result"
    }
   ],
   "source": [
    "col_mat_nuw_output_df.describe()"
   ]
  }
 ],
 "metadata": {
  "kernelspec": {
   "display_name": "Python 3",
   "language": "python",
   "name": "python3"
  },
  "language_info": {
   "codemirror_mode": {
    "name": "ipython",
    "version": 3
   },
   "file_extension": ".py",
   "mimetype": "text/x-python",
   "name": "python",
   "nbconvert_exporter": "python",
   "pygments_lexer": "ipython3",
   "version": "3.12.1"
  }
 },
 "nbformat": 4,
 "nbformat_minor": 2
}
