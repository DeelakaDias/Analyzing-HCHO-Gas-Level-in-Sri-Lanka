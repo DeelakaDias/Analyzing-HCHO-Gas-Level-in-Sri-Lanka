{
 "cells": [
  {
   "cell_type": "markdown",
   "metadata": {},
   "source": [
    "Question 1 - Data Preprocessing"
   ]
  },
  {
   "cell_type": "code",
   "execution_count": 140,
   "metadata": {},
   "outputs": [],
   "source": [
    "import pandas as pd\n",
    "\n",
    "col_mat_nuw_output_df = pd.read_csv('col_mat_nuw_output.csv')\n",
    "kan_output_df = pd.read_csv('kan_output.csv')\n",
    "mon_kur_jaf_output = pd.read_csv('mon_kur_jaf_output.csv')"
   ]
  },
  {
   "cell_type": "code",
   "execution_count": 141,
   "metadata": {},
   "outputs": [],
   "source": [
    "col_mat_nuw_output_df.columns = ['HCHO Reading', 'Location', 'Current Date', 'Next Date']\n",
    "kan_output_df.columns = ['HCHO Reading', 'Location', 'Current Date', 'Next Date']\n",
    "mon_kur_jaf_output.columns = ['HCHO Reading', 'Location', 'Current Date', 'Next Date']\n"
   ]
  },
  {
   "cell_type": "code",
   "execution_count": 142,
   "metadata": {},
   "outputs": [
    {
     "data": {
      "text/html": [
       "<div>\n",
       "<style scoped>\n",
       "    .dataframe tbody tr th:only-of-type {\n",
       "        vertical-align: middle;\n",
       "    }\n",
       "\n",
       "    .dataframe tbody tr th {\n",
       "        vertical-align: top;\n",
       "    }\n",
       "\n",
       "    .dataframe thead th {\n",
       "        text-align: right;\n",
       "    }\n",
       "</style>\n",
       "<table border=\"1\" class=\"dataframe\">\n",
       "  <thead>\n",
       "    <tr style=\"text-align: right;\">\n",
       "      <th></th>\n",
       "      <th>HCHO Reading</th>\n",
       "      <th>Location</th>\n",
       "      <th>Current Date</th>\n",
       "      <th>Next Date</th>\n",
       "    </tr>\n",
       "  </thead>\n",
       "  <tbody>\n",
       "    <tr>\n",
       "      <th>0</th>\n",
       "      <td>0.000263</td>\n",
       "      <td>Colombo Proper</td>\n",
       "      <td>1/2/2019</td>\n",
       "      <td>1/3/2019</td>\n",
       "    </tr>\n",
       "    <tr>\n",
       "      <th>1</th>\n",
       "      <td>0.000099</td>\n",
       "      <td>Colombo Proper</td>\n",
       "      <td>1/3/2019</td>\n",
       "      <td>1/4/2019</td>\n",
       "    </tr>\n",
       "    <tr>\n",
       "      <th>2</th>\n",
       "      <td>0.000210</td>\n",
       "      <td>Colombo Proper</td>\n",
       "      <td>1/4/2019</td>\n",
       "      <td>1/5/2019</td>\n",
       "    </tr>\n",
       "    <tr>\n",
       "      <th>3</th>\n",
       "      <td>0.000179</td>\n",
       "      <td>Colombo Proper</td>\n",
       "      <td>1/5/2019</td>\n",
       "      <td>1/6/2019</td>\n",
       "    </tr>\n",
       "    <tr>\n",
       "      <th>4</th>\n",
       "      <td>0.000108</td>\n",
       "      <td>Colombo Proper</td>\n",
       "      <td>1/6/2019</td>\n",
       "      <td>1/7/2019</td>\n",
       "    </tr>\n",
       "    <tr>\n",
       "      <th>...</th>\n",
       "      <td>...</td>\n",
       "      <td>...</td>\n",
       "      <td>...</td>\n",
       "      <td>...</td>\n",
       "    </tr>\n",
       "    <tr>\n",
       "      <th>5472</th>\n",
       "      <td>NaN</td>\n",
       "      <td>Nuwara Eliya Proper</td>\n",
       "      <td>12/27/2023</td>\n",
       "      <td>12/28/2023</td>\n",
       "    </tr>\n",
       "    <tr>\n",
       "      <th>5473</th>\n",
       "      <td>NaN</td>\n",
       "      <td>Nuwara Eliya Proper</td>\n",
       "      <td>12/28/2023</td>\n",
       "      <td>12/29/2023</td>\n",
       "    </tr>\n",
       "    <tr>\n",
       "      <th>5474</th>\n",
       "      <td>NaN</td>\n",
       "      <td>Nuwara Eliya Proper</td>\n",
       "      <td>12/29/2023</td>\n",
       "      <td>12/30/2023</td>\n",
       "    </tr>\n",
       "    <tr>\n",
       "      <th>5475</th>\n",
       "      <td>NaN</td>\n",
       "      <td>Nuwara Eliya Proper</td>\n",
       "      <td>12/30/2023</td>\n",
       "      <td>12/31/2023</td>\n",
       "    </tr>\n",
       "    <tr>\n",
       "      <th>5476</th>\n",
       "      <td>NaN</td>\n",
       "      <td>Nuwara Eliya Proper</td>\n",
       "      <td>12/31/2023</td>\n",
       "      <td>1/1/2024</td>\n",
       "    </tr>\n",
       "  </tbody>\n",
       "</table>\n",
       "<p>5477 rows × 4 columns</p>\n",
       "</div>"
      ],
      "text/plain": [
       "      HCHO Reading             Location Current Date   Next Date\n",
       "0         0.000263       Colombo Proper     1/2/2019    1/3/2019\n",
       "1         0.000099       Colombo Proper     1/3/2019    1/4/2019\n",
       "2         0.000210       Colombo Proper     1/4/2019    1/5/2019\n",
       "3         0.000179       Colombo Proper     1/5/2019    1/6/2019\n",
       "4         0.000108       Colombo Proper     1/6/2019    1/7/2019\n",
       "...            ...                  ...          ...         ...\n",
       "5472           NaN  Nuwara Eliya Proper   12/27/2023  12/28/2023\n",
       "5473           NaN  Nuwara Eliya Proper   12/28/2023  12/29/2023\n",
       "5474           NaN  Nuwara Eliya Proper   12/29/2023  12/30/2023\n",
       "5475           NaN  Nuwara Eliya Proper   12/30/2023  12/31/2023\n",
       "5476           NaN  Nuwara Eliya Proper   12/31/2023    1/1/2024\n",
       "\n",
       "[5477 rows x 4 columns]"
      ]
     },
     "execution_count": 142,
     "metadata": {},
     "output_type": "execute_result"
    }
   ],
   "source": [
    "col_mat_nuw_output_df"
   ]
  },
  {
   "cell_type": "code",
   "execution_count": 143,
   "metadata": {},
   "outputs": [
    {
     "data": {
      "text/html": [
       "<div>\n",
       "<style scoped>\n",
       "    .dataframe tbody tr th:only-of-type {\n",
       "        vertical-align: middle;\n",
       "    }\n",
       "\n",
       "    .dataframe tbody tr th {\n",
       "        vertical-align: top;\n",
       "    }\n",
       "\n",
       "    .dataframe thead th {\n",
       "        text-align: right;\n",
       "    }\n",
       "</style>\n",
       "<table border=\"1\" class=\"dataframe\">\n",
       "  <thead>\n",
       "    <tr style=\"text-align: right;\">\n",
       "      <th></th>\n",
       "      <th>HCHO Reading</th>\n",
       "      <th>Location</th>\n",
       "      <th>Current Date</th>\n",
       "      <th>Next Date</th>\n",
       "    </tr>\n",
       "  </thead>\n",
       "  <tbody>\n",
       "    <tr>\n",
       "      <th>0</th>\n",
       "      <td>0.000092</td>\n",
       "      <td>Kandy Proper</td>\n",
       "      <td>1/2/2019</td>\n",
       "      <td>1/3/2019</td>\n",
       "    </tr>\n",
       "    <tr>\n",
       "      <th>1</th>\n",
       "      <td>NaN</td>\n",
       "      <td>Kandy Proper</td>\n",
       "      <td>1/3/2019</td>\n",
       "      <td>1/4/2019</td>\n",
       "    </tr>\n",
       "    <tr>\n",
       "      <th>2</th>\n",
       "      <td>0.000191</td>\n",
       "      <td>Kandy Proper</td>\n",
       "      <td>1/4/2019</td>\n",
       "      <td>1/5/2019</td>\n",
       "    </tr>\n",
       "    <tr>\n",
       "      <th>3</th>\n",
       "      <td>0.000122</td>\n",
       "      <td>Kandy Proper</td>\n",
       "      <td>1/5/2019</td>\n",
       "      <td>1/6/2019</td>\n",
       "    </tr>\n",
       "    <tr>\n",
       "      <th>4</th>\n",
       "      <td>-0.000065</td>\n",
       "      <td>Kandy Proper</td>\n",
       "      <td>1/6/2019</td>\n",
       "      <td>1/7/2019</td>\n",
       "    </tr>\n",
       "    <tr>\n",
       "      <th>...</th>\n",
       "      <td>...</td>\n",
       "      <td>...</td>\n",
       "      <td>...</td>\n",
       "      <td>...</td>\n",
       "    </tr>\n",
       "    <tr>\n",
       "      <th>1820</th>\n",
       "      <td>NaN</td>\n",
       "      <td>Kandy Proper</td>\n",
       "      <td>12/27/2023</td>\n",
       "      <td>12/28/2023</td>\n",
       "    </tr>\n",
       "    <tr>\n",
       "      <th>1821</th>\n",
       "      <td>NaN</td>\n",
       "      <td>Kandy Proper</td>\n",
       "      <td>12/28/2023</td>\n",
       "      <td>12/29/2023</td>\n",
       "    </tr>\n",
       "    <tr>\n",
       "      <th>1822</th>\n",
       "      <td>NaN</td>\n",
       "      <td>Kandy Proper</td>\n",
       "      <td>12/29/2023</td>\n",
       "      <td>12/30/2023</td>\n",
       "    </tr>\n",
       "    <tr>\n",
       "      <th>1823</th>\n",
       "      <td>0.000056</td>\n",
       "      <td>Kandy Proper</td>\n",
       "      <td>12/30/2023</td>\n",
       "      <td>12/31/2023</td>\n",
       "    </tr>\n",
       "    <tr>\n",
       "      <th>1824</th>\n",
       "      <td>NaN</td>\n",
       "      <td>Kandy Proper</td>\n",
       "      <td>12/31/2023</td>\n",
       "      <td>1/1/2024</td>\n",
       "    </tr>\n",
       "  </tbody>\n",
       "</table>\n",
       "<p>1825 rows × 4 columns</p>\n",
       "</div>"
      ],
      "text/plain": [
       "      HCHO Reading      Location Current Date   Next Date\n",
       "0         0.000092  Kandy Proper     1/2/2019    1/3/2019\n",
       "1              NaN  Kandy Proper     1/3/2019    1/4/2019\n",
       "2         0.000191  Kandy Proper     1/4/2019    1/5/2019\n",
       "3         0.000122  Kandy Proper     1/5/2019    1/6/2019\n",
       "4        -0.000065  Kandy Proper     1/6/2019    1/7/2019\n",
       "...            ...           ...          ...         ...\n",
       "1820           NaN  Kandy Proper   12/27/2023  12/28/2023\n",
       "1821           NaN  Kandy Proper   12/28/2023  12/29/2023\n",
       "1822           NaN  Kandy Proper   12/29/2023  12/30/2023\n",
       "1823      0.000056  Kandy Proper   12/30/2023  12/31/2023\n",
       "1824           NaN  Kandy Proper   12/31/2023    1/1/2024\n",
       "\n",
       "[1825 rows x 4 columns]"
      ]
     },
     "execution_count": 143,
     "metadata": {},
     "output_type": "execute_result"
    }
   ],
   "source": [
    "kan_output_df"
   ]
  },
  {
   "cell_type": "code",
   "execution_count": 144,
   "metadata": {},
   "outputs": [
    {
     "data": {
      "text/html": [
       "<div>\n",
       "<style scoped>\n",
       "    .dataframe tbody tr th:only-of-type {\n",
       "        vertical-align: middle;\n",
       "    }\n",
       "\n",
       "    .dataframe tbody tr th {\n",
       "        vertical-align: top;\n",
       "    }\n",
       "\n",
       "    .dataframe thead th {\n",
       "        text-align: right;\n",
       "    }\n",
       "</style>\n",
       "<table border=\"1\" class=\"dataframe\">\n",
       "  <thead>\n",
       "    <tr style=\"text-align: right;\">\n",
       "      <th></th>\n",
       "      <th>HCHO Reading</th>\n",
       "      <th>Location</th>\n",
       "      <th>Current Date</th>\n",
       "      <th>Next Date</th>\n",
       "    </tr>\n",
       "  </thead>\n",
       "  <tbody>\n",
       "    <tr>\n",
       "      <th>0</th>\n",
       "      <td>0.000019</td>\n",
       "      <td>Bibile, Monaragala</td>\n",
       "      <td>1/2/2019</td>\n",
       "      <td>1/3/2019</td>\n",
       "    </tr>\n",
       "    <tr>\n",
       "      <th>1</th>\n",
       "      <td>0.000028</td>\n",
       "      <td>Bibile, Monaragala</td>\n",
       "      <td>1/3/2019</td>\n",
       "      <td>1/4/2019</td>\n",
       "    </tr>\n",
       "    <tr>\n",
       "      <th>2</th>\n",
       "      <td>0.000037</td>\n",
       "      <td>Bibile, Monaragala</td>\n",
       "      <td>1/4/2019</td>\n",
       "      <td>1/5/2019</td>\n",
       "    </tr>\n",
       "    <tr>\n",
       "      <th>3</th>\n",
       "      <td>-0.000018</td>\n",
       "      <td>Bibile, Monaragala</td>\n",
       "      <td>1/5/2019</td>\n",
       "      <td>1/6/2019</td>\n",
       "    </tr>\n",
       "    <tr>\n",
       "      <th>4</th>\n",
       "      <td>0.000146</td>\n",
       "      <td>Bibile, Monaragala</td>\n",
       "      <td>1/6/2019</td>\n",
       "      <td>1/7/2019</td>\n",
       "    </tr>\n",
       "    <tr>\n",
       "      <th>...</th>\n",
       "      <td>...</td>\n",
       "      <td>...</td>\n",
       "      <td>...</td>\n",
       "      <td>...</td>\n",
       "    </tr>\n",
       "    <tr>\n",
       "      <th>5472</th>\n",
       "      <td>NaN</td>\n",
       "      <td>Jaffna Proper</td>\n",
       "      <td>12/27/2023</td>\n",
       "      <td>12/28/2023</td>\n",
       "    </tr>\n",
       "    <tr>\n",
       "      <th>5473</th>\n",
       "      <td>0.000051</td>\n",
       "      <td>Jaffna Proper</td>\n",
       "      <td>12/28/2023</td>\n",
       "      <td>12/29/2023</td>\n",
       "    </tr>\n",
       "    <tr>\n",
       "      <th>5474</th>\n",
       "      <td>0.000127</td>\n",
       "      <td>Jaffna Proper</td>\n",
       "      <td>12/29/2023</td>\n",
       "      <td>12/30/2023</td>\n",
       "    </tr>\n",
       "    <tr>\n",
       "      <th>5475</th>\n",
       "      <td>0.000117</td>\n",
       "      <td>Jaffna Proper</td>\n",
       "      <td>12/30/2023</td>\n",
       "      <td>12/31/2023</td>\n",
       "    </tr>\n",
       "    <tr>\n",
       "      <th>5476</th>\n",
       "      <td>0.000065</td>\n",
       "      <td>Jaffna Proper</td>\n",
       "      <td>12/31/2023</td>\n",
       "      <td>1/1/2024</td>\n",
       "    </tr>\n",
       "  </tbody>\n",
       "</table>\n",
       "<p>5477 rows × 4 columns</p>\n",
       "</div>"
      ],
      "text/plain": [
       "      HCHO Reading            Location Current Date   Next Date\n",
       "0         0.000019  Bibile, Monaragala     1/2/2019    1/3/2019\n",
       "1         0.000028  Bibile, Monaragala     1/3/2019    1/4/2019\n",
       "2         0.000037  Bibile, Monaragala     1/4/2019    1/5/2019\n",
       "3        -0.000018  Bibile, Monaragala     1/5/2019    1/6/2019\n",
       "4         0.000146  Bibile, Monaragala     1/6/2019    1/7/2019\n",
       "...            ...                 ...          ...         ...\n",
       "5472           NaN       Jaffna Proper   12/27/2023  12/28/2023\n",
       "5473      0.000051       Jaffna Proper   12/28/2023  12/29/2023\n",
       "5474      0.000127       Jaffna Proper   12/29/2023  12/30/2023\n",
       "5475      0.000117       Jaffna Proper   12/30/2023  12/31/2023\n",
       "5476      0.000065       Jaffna Proper   12/31/2023    1/1/2024\n",
       "\n",
       "[5477 rows x 4 columns]"
      ]
     },
     "execution_count": 144,
     "metadata": {},
     "output_type": "execute_result"
    }
   ],
   "source": [
    "mon_kur_jaf_output"
   ]
  },
  {
   "cell_type": "code",
   "execution_count": 145,
   "metadata": {},
   "outputs": [
    {
     "data": {
      "text/plain": [
       "(5477, 4)"
      ]
     },
     "execution_count": 145,
     "metadata": {},
     "output_type": "execute_result"
    }
   ],
   "source": [
    "col_mat_nuw_output_df.shape"
   ]
  },
  {
   "cell_type": "code",
   "execution_count": 146,
   "metadata": {},
   "outputs": [
    {
     "data": {
      "text/plain": [
       "(1825, 4)"
      ]
     },
     "execution_count": 146,
     "metadata": {},
     "output_type": "execute_result"
    }
   ],
   "source": [
    "kan_output_df.shape"
   ]
  },
  {
   "cell_type": "code",
   "execution_count": 147,
   "metadata": {},
   "outputs": [
    {
     "data": {
      "text/plain": [
       "(5477, 4)"
      ]
     },
     "execution_count": 147,
     "metadata": {},
     "output_type": "execute_result"
    }
   ],
   "source": [
    "mon_kur_jaf_output.shape"
   ]
  },
  {
   "cell_type": "markdown",
   "metadata": {},
   "source": [
    "Identifying Unique Values in the Col_Mat_Nuwara dataframe "
   ]
  },
  {
   "cell_type": "code",
   "execution_count": 148,
   "metadata": {},
   "outputs": [
    {
     "name": "stdout",
     "output_type": "stream",
     "text": [
      "HCHO Reading unique values\n",
      "Number of unique values: 3021\n",
      "[2.62552000e-04 9.85211890e-05 2.09932000e-04 ... 1.07861000e-04\n",
      " 5.93039927e-06 2.36988000e-04]\n",
      "\n",
      "\n",
      "Location unique values\n",
      "Number of unique values: 3\n",
      "['Colombo Proper' 'Deniyaya, Matara' 'Nuwara Eliya Proper']\n",
      "\n",
      "\n",
      "Current Date unique values\n",
      "Number of unique values: 1826\n",
      "['1/2/2019' '1/3/2019' '1/4/2019' ... '12/30/2023' '12/31/2023' '1/1/2019']\n",
      "\n",
      "\n",
      "Next Date unique values\n",
      "Number of unique values: 1826\n",
      "['1/3/2019' '1/4/2019' '1/5/2019' ... '12/31/2023' '1/1/2024' '1/2/2019']\n",
      "\n",
      "\n"
     ]
    }
   ],
   "source": [
    "for column in col_mat_nuw_output_df.columns:\n",
    "    unique_values = col_mat_nuw_output_df[column].unique()\n",
    "    print((f\"{column} unique values\"))\n",
    "    count = col_mat_nuw_output_df[column].nunique()  # Count the number of unique values\n",
    "    print(\"Number of unique values:\", count)\n",
    "    print(unique_values)\n",
    "    print('\\n')"
   ]
  },
  {
   "cell_type": "markdown",
   "metadata": {},
   "source": [
    "Identifying Unique Values in the Kandy dataframe "
   ]
  },
  {
   "cell_type": "code",
   "execution_count": 149,
   "metadata": {},
   "outputs": [
    {
     "name": "stdout",
     "output_type": "stream",
     "text": [
      "HCHO Reading unique values\n",
      "Number of unique values: 1030\n",
      "[ 9.22039125e-05             nan  1.90868000e-04 ... -6.90000000e-06\n",
      "  1.16311000e-04  5.59012026e-05]\n",
      "\n",
      "\n",
      "Location unique values\n",
      "Number of unique values: 1\n",
      "['Kandy Proper']\n",
      "\n",
      "\n",
      "Current Date unique values\n",
      "Number of unique values: 1825\n",
      "['1/2/2019' '1/3/2019' '1/4/2019' ... '12/29/2023' '12/30/2023'\n",
      " '12/31/2023']\n",
      "\n",
      "\n",
      "Next Date unique values\n",
      "Number of unique values: 1825\n",
      "['1/3/2019' '1/4/2019' '1/5/2019' ... '12/30/2023' '12/31/2023' '1/1/2024']\n",
      "\n",
      "\n"
     ]
    }
   ],
   "source": [
    "for column in kan_output_df.columns:\n",
    "    unique_values = kan_output_df[column].unique()\n",
    "    print((f\"{column} unique values\"))\n",
    "    count = kan_output_df[column].nunique()  # Count the number of unique values\n",
    "    print(\"Number of unique values:\", count)\n",
    "    print(unique_values)\n",
    "    print('\\n')"
   ]
  },
  {
   "cell_type": "markdown",
   "metadata": {},
   "source": [
    "Identifying Unique Values in the Mon_Kurun_Jaff dataframe "
   ]
  },
  {
   "cell_type": "code",
   "execution_count": 150,
   "metadata": {},
   "outputs": [
    {
     "name": "stdout",
     "output_type": "stream",
     "text": [
      "HCHO Reading unique values\n",
      "Number of unique values: 3808\n",
      "[1.91991465e-05 2.81144794e-05 3.74799818e-05 ... 1.26724000e-04\n",
      " 1.16659000e-04 6.54085299e-05]\n",
      "\n",
      "\n",
      "Location unique values\n",
      "Number of unique values: 3\n",
      "['Bibile, Monaragala' 'Kurunegala Proper' 'Jaffna Proper']\n",
      "\n",
      "\n",
      "Current Date unique values\n",
      "Number of unique values: 1826\n",
      "['1/2/2019' '1/3/2019' '1/4/2019' ... '12/30/2023' '12/31/2023' '1/1/2019']\n",
      "\n",
      "\n",
      "Next Date unique values\n",
      "Number of unique values: 1826\n",
      "['1/3/2019' '1/4/2019' '1/5/2019' ... '12/31/2023' '1/1/2024' '1/2/2019']\n",
      "\n",
      "\n"
     ]
    }
   ],
   "source": [
    "for column in mon_kur_jaf_output.columns:\n",
    "    unique_values = mon_kur_jaf_output[column].unique()\n",
    "    print((f\"{column} unique values\"))\n",
    "    count = mon_kur_jaf_output[column].nunique()  # Count the number of unique values\n",
    "    print(\"Number of unique values:\", count)\n",
    "    print(unique_values)\n",
    "    print('\\n')"
   ]
  },
  {
   "cell_type": "markdown",
   "metadata": {},
   "source": [
    "Identify rows with NaN values in Col_Mat_Nuwara dataframe"
   ]
  },
  {
   "cell_type": "code",
   "execution_count": 151,
   "metadata": {},
   "outputs": [
    {
     "name": "stdout",
     "output_type": "stream",
     "text": [
      "Non-numeric values in 'HCHO Reading' column:\n",
      "      HCHO Reading             Location Current Date   Next Date\n",
      "11             NaN       Colombo Proper    1/13/2019   1/14/2019\n",
      "27             NaN       Colombo Proper    1/29/2019   1/30/2019\n",
      "33             NaN       Colombo Proper     2/4/2019    2/5/2019\n",
      "43             NaN       Colombo Proper    2/14/2019   2/15/2019\n",
      "58             NaN       Colombo Proper     3/1/2019    3/2/2019\n",
      "...            ...                  ...          ...         ...\n",
      "5472           NaN  Nuwara Eliya Proper   12/27/2023  12/28/2023\n",
      "5473           NaN  Nuwara Eliya Proper   12/28/2023  12/29/2023\n",
      "5474           NaN  Nuwara Eliya Proper   12/29/2023  12/30/2023\n",
      "5475           NaN  Nuwara Eliya Proper   12/30/2023  12/31/2023\n",
      "5476           NaN  Nuwara Eliya Proper   12/31/2023    1/1/2024\n",
      "\n",
      "[2419 rows x 4 columns]\n"
     ]
    }
   ],
   "source": [
    "non_numeric_rows = col_mat_nuw_output_df[col_mat_nuw_output_df['HCHO Reading'].isna()]\n",
    "print(\"Non-numeric values in 'HCHO Reading' column:\")\n",
    "print(non_numeric_rows)"
   ]
  },
  {
   "cell_type": "markdown",
   "metadata": {},
   "source": [
    "Identify rows with NaN values in Kandy dataframe"
   ]
  },
  {
   "cell_type": "code",
   "execution_count": 152,
   "metadata": {},
   "outputs": [
    {
     "name": "stdout",
     "output_type": "stream",
     "text": [
      "Non-numeric values in 'HCHO Reading' column:\n",
      "      HCHO Reading      Location Current Date   Next Date\n",
      "1              NaN  Kandy Proper     1/3/2019    1/4/2019\n",
      "11             NaN  Kandy Proper    1/13/2019   1/14/2019\n",
      "12             NaN  Kandy Proper    1/14/2019   1/15/2019\n",
      "14             NaN  Kandy Proper    1/16/2019   1/17/2019\n",
      "32             NaN  Kandy Proper     2/3/2019    2/4/2019\n",
      "...            ...           ...          ...         ...\n",
      "1819           NaN  Kandy Proper   12/26/2023  12/27/2023\n",
      "1820           NaN  Kandy Proper   12/27/2023  12/28/2023\n",
      "1821           NaN  Kandy Proper   12/28/2023  12/29/2023\n",
      "1822           NaN  Kandy Proper   12/29/2023  12/30/2023\n",
      "1824           NaN  Kandy Proper   12/31/2023    1/1/2024\n",
      "\n",
      "[793 rows x 4 columns]\n"
     ]
    }
   ],
   "source": [
    "non_numeric_rows = kan_output_df[kan_output_df['HCHO Reading'].isna()]\n",
    "print(\"Non-numeric values in 'HCHO Reading' column:\")\n",
    "print(non_numeric_rows)"
   ]
  },
  {
   "cell_type": "markdown",
   "metadata": {},
   "source": [
    "Identify rows with NaN values in Mon_Kurun_Jaff dataframe"
   ]
  },
  {
   "cell_type": "code",
   "execution_count": 153,
   "metadata": {},
   "outputs": [
    {
     "name": "stdout",
     "output_type": "stream",
     "text": [
      "Non-numeric values in 'HCHO Reading' column:\n",
      "      HCHO Reading            Location Current Date   Next Date\n",
      "6              NaN  Bibile, Monaragala     1/8/2019    1/9/2019\n",
      "8              NaN  Bibile, Monaragala    1/10/2019   1/11/2019\n",
      "11             NaN  Bibile, Monaragala    1/13/2019   1/14/2019\n",
      "12             NaN  Bibile, Monaragala    1/14/2019   1/15/2019\n",
      "16             NaN  Bibile, Monaragala    1/18/2019   1/19/2019\n",
      "...            ...                 ...          ...         ...\n",
      "5466           NaN       Jaffna Proper   12/21/2023  12/22/2023\n",
      "5467           NaN       Jaffna Proper   12/22/2023  12/23/2023\n",
      "5468           NaN       Jaffna Proper   12/23/2023  12/24/2023\n",
      "5470           NaN       Jaffna Proper   12/25/2023  12/26/2023\n",
      "5472           NaN       Jaffna Proper   12/27/2023  12/28/2023\n",
      "\n",
      "[1651 rows x 4 columns]\n"
     ]
    }
   ],
   "source": [
    "non_numeric_rows = mon_kur_jaf_output[mon_kur_jaf_output['HCHO Reading'].isna()]\n",
    "print(\"Non-numeric values in 'HCHO Reading' column:\")\n",
    "print(non_numeric_rows)"
   ]
  },
  {
   "cell_type": "markdown",
   "metadata": {},
   "source": [
    "Finding mean of correct values in HCHO Reading column in Col_Mat_Nuwara dataframe"
   ]
  },
  {
   "cell_type": "code",
   "execution_count": 154,
   "metadata": {},
   "outputs": [
    {
     "data": {
      "text/plain": [
       "0.00012001784979701027"
      ]
     },
     "execution_count": 154,
     "metadata": {},
     "output_type": "execute_result"
    }
   ],
   "source": [
    "correct_values_in_HCHO_Reading_Col_Mat_Nuw = col_mat_nuw_output_df[pd.notna(col_mat_nuw_output_df[\"HCHO Reading\"])]\n",
    "mean_Correct_values_in_HCHO_Reading_Col_Mat_Nuw = correct_values_in_HCHO_Reading_Col_Mat_Nuw[\"HCHO Reading\"].mean()\n",
    "mean_Correct_values_in_HCHO_Reading_Col_Mat_Nuw"
   ]
  },
  {
   "cell_type": "markdown",
   "metadata": {},
   "source": [
    "Finding mean of correct values in HCHO Reading column in Kandy dataframe"
   ]
  },
  {
   "cell_type": "code",
   "execution_count": 155,
   "metadata": {},
   "outputs": [
    {
     "data": {
      "text/plain": [
       "0.00010630901268010904"
      ]
     },
     "execution_count": 155,
     "metadata": {},
     "output_type": "execute_result"
    }
   ],
   "source": [
    "correct_values_in_HCHO_Reading_Kandy = kan_output_df[pd.notna(kan_output_df[\"HCHO Reading\"])]\n",
    "mean_Correct_values_in_HCHO_Reading_Kandy = correct_values_in_HCHO_Reading_Kandy[\"HCHO Reading\"].mean()\n",
    "mean_Correct_values_in_HCHO_Reading_Kandy"
   ]
  },
  {
   "cell_type": "markdown",
   "metadata": {},
   "source": [
    "Finding mean of correct values in HCHO Reading column in Mon_Kurun_Jaff dataframe"
   ]
  },
  {
   "cell_type": "code",
   "execution_count": 156,
   "metadata": {},
   "outputs": [
    {
     "data": {
      "text/plain": [
       "0.00012214968209882217"
      ]
     },
     "execution_count": 156,
     "metadata": {},
     "output_type": "execute_result"
    }
   ],
   "source": [
    "correct_values_in_HCHO_Reading_Mon_Kuru_Jaf = mon_kur_jaf_output[pd.notna(mon_kur_jaf_output[\"HCHO Reading\"])]\n",
    "mean_Correct_values_in_HCHO_Reading_Mon_Kuru_Jaff = correct_values_in_HCHO_Reading_Mon_Kuru_Jaf[\"HCHO Reading\"].mean()\n",
    "mean_Correct_values_in_HCHO_Reading_Mon_Kuru_Jaff"
   ]
  },
  {
   "cell_type": "markdown",
   "metadata": {},
   "source": [
    "Replacing NaN values in HCHO Reading column in Col_Mat_Nuwara dataframe"
   ]
  },
  {
   "cell_type": "code",
   "execution_count": 157,
   "metadata": {},
   "outputs": [
    {
     "name": "stderr",
     "output_type": "stream",
     "text": [
      "C:\\Users\\deela\\AppData\\Local\\Temp\\ipykernel_14028\\1125163092.py:1: FutureWarning: A value is trying to be set on a copy of a DataFrame or Series through chained assignment using an inplace method.\n",
      "The behavior will change in pandas 3.0. This inplace method will never work because the intermediate object on which we are setting values always behaves as a copy.\n",
      "\n",
      "For example, when doing 'df[col].method(value, inplace=True)', try using 'df.method({col: value}, inplace=True)' or df[col] = df[col].method(value) instead, to perform the operation inplace on the original object.\n",
      "\n",
      "\n",
      "  col_mat_nuw_output_df[\"HCHO Reading\"].fillna(mean_Correct_values_in_HCHO_Reading_Col_Mat_Nuw, inplace=True)\n"
     ]
    }
   ],
   "source": [
    "col_mat_nuw_output_df[\"HCHO Reading\"].fillna(mean_Correct_values_in_HCHO_Reading_Col_Mat_Nuw, inplace=True)"
   ]
  },
  {
   "cell_type": "markdown",
   "metadata": {},
   "source": [
    "Replacing NaN values in HCHO Reading column in Kandy dataframe"
   ]
  },
  {
   "cell_type": "code",
   "execution_count": 158,
   "metadata": {},
   "outputs": [
    {
     "name": "stderr",
     "output_type": "stream",
     "text": [
      "C:\\Users\\deela\\AppData\\Local\\Temp\\ipykernel_14028\\1797203038.py:1: FutureWarning: A value is trying to be set on a copy of a DataFrame or Series through chained assignment using an inplace method.\n",
      "The behavior will change in pandas 3.0. This inplace method will never work because the intermediate object on which we are setting values always behaves as a copy.\n",
      "\n",
      "For example, when doing 'df[col].method(value, inplace=True)', try using 'df.method({col: value}, inplace=True)' or df[col] = df[col].method(value) instead, to perform the operation inplace on the original object.\n",
      "\n",
      "\n",
      "  kan_output_df[\"HCHO Reading\"].fillna(mean_Correct_values_in_HCHO_Reading_Kandy, inplace=True)\n"
     ]
    }
   ],
   "source": [
    "kan_output_df[\"HCHO Reading\"].fillna(mean_Correct_values_in_HCHO_Reading_Kandy, inplace=True)"
   ]
  },
  {
   "cell_type": "markdown",
   "metadata": {},
   "source": [
    "Replacing NaN values in HCHO Reading column in Mon_Kurun_Jaff dataframe"
   ]
  },
  {
   "cell_type": "code",
   "execution_count": 159,
   "metadata": {},
   "outputs": [
    {
     "name": "stderr",
     "output_type": "stream",
     "text": [
      "C:\\Users\\deela\\AppData\\Local\\Temp\\ipykernel_14028\\2508255905.py:1: FutureWarning: A value is trying to be set on a copy of a DataFrame or Series through chained assignment using an inplace method.\n",
      "The behavior will change in pandas 3.0. This inplace method will never work because the intermediate object on which we are setting values always behaves as a copy.\n",
      "\n",
      "For example, when doing 'df[col].method(value, inplace=True)', try using 'df.method({col: value}, inplace=True)' or df[col] = df[col].method(value) instead, to perform the operation inplace on the original object.\n",
      "\n",
      "\n",
      "  mon_kur_jaf_output[\"HCHO Reading\"].fillna(mean_Correct_values_in_HCHO_Reading_Mon_Kuru_Jaff, inplace=True)\n"
     ]
    }
   ],
   "source": [
    "mon_kur_jaf_output[\"HCHO Reading\"].fillna(mean_Correct_values_in_HCHO_Reading_Mon_Kuru_Jaff, inplace=True)"
   ]
  },
  {
   "cell_type": "markdown",
   "metadata": {},
   "source": [
    "Make sure no missing values in Col_Mat_Nuwara Data Frame"
   ]
  },
  {
   "cell_type": "code",
   "execution_count": 160,
   "metadata": {},
   "outputs": [
    {
     "data": {
      "text/plain": [
       "HCHO Reading    0\n",
       "Location        0\n",
       "Current Date    0\n",
       "Next Date       0\n",
       "dtype: int64"
      ]
     },
     "execution_count": 160,
     "metadata": {},
     "output_type": "execute_result"
    }
   ],
   "source": [
    "col_mat_nuw_output_df.isnull().sum()"
   ]
  },
  {
   "cell_type": "markdown",
   "metadata": {},
   "source": [
    "Make sure no missing values in Kandy Data Frame"
   ]
  },
  {
   "cell_type": "code",
   "execution_count": 161,
   "metadata": {},
   "outputs": [
    {
     "data": {
      "text/plain": [
       "HCHO Reading    0\n",
       "Location        0\n",
       "Current Date    0\n",
       "Next Date       0\n",
       "dtype: int64"
      ]
     },
     "execution_count": 161,
     "metadata": {},
     "output_type": "execute_result"
    }
   ],
   "source": [
    "kan_output_df.isnull().sum()"
   ]
  },
  {
   "cell_type": "markdown",
   "metadata": {},
   "source": [
    "Make sure no missing values in Mon_Kurun_Jaff Data Frame"
   ]
  },
  {
   "cell_type": "code",
   "execution_count": 162,
   "metadata": {},
   "outputs": [
    {
     "data": {
      "text/plain": [
       "HCHO Reading    0\n",
       "Location        0\n",
       "Current Date    0\n",
       "Next Date       0\n",
       "dtype: int64"
      ]
     },
     "execution_count": 162,
     "metadata": {},
     "output_type": "execute_result"
    }
   ],
   "source": [
    "mon_kur_jaf_output.isnull().sum()"
   ]
  },
  {
   "cell_type": "markdown",
   "metadata": {},
   "source": [
    "Retrieving a statistical overniew about Col_Mat_Nuwara DataFrame"
   ]
  },
  {
   "cell_type": "code",
   "execution_count": 163,
   "metadata": {},
   "outputs": [
    {
     "data": {
      "text/html": [
       "<div>\n",
       "<style scoped>\n",
       "    .dataframe tbody tr th:only-of-type {\n",
       "        vertical-align: middle;\n",
       "    }\n",
       "\n",
       "    .dataframe tbody tr th {\n",
       "        vertical-align: top;\n",
       "    }\n",
       "\n",
       "    .dataframe thead th {\n",
       "        text-align: right;\n",
       "    }\n",
       "</style>\n",
       "<table border=\"1\" class=\"dataframe\">\n",
       "  <thead>\n",
       "    <tr style=\"text-align: right;\">\n",
       "      <th></th>\n",
       "      <th>HCHO Reading</th>\n",
       "    </tr>\n",
       "  </thead>\n",
       "  <tbody>\n",
       "    <tr>\n",
       "      <th>count</th>\n",
       "      <td>5477.000000</td>\n",
       "    </tr>\n",
       "    <tr>\n",
       "      <th>mean</th>\n",
       "      <td>0.000120</td>\n",
       "    </tr>\n",
       "    <tr>\n",
       "      <th>std</th>\n",
       "      <td>0.000075</td>\n",
       "    </tr>\n",
       "    <tr>\n",
       "      <th>min</th>\n",
       "      <td>-0.000259</td>\n",
       "    </tr>\n",
       "    <tr>\n",
       "      <th>25%</th>\n",
       "      <td>0.000099</td>\n",
       "    </tr>\n",
       "    <tr>\n",
       "      <th>50%</th>\n",
       "      <td>0.000120</td>\n",
       "    </tr>\n",
       "    <tr>\n",
       "      <th>75%</th>\n",
       "      <td>0.000121</td>\n",
       "    </tr>\n",
       "    <tr>\n",
       "      <th>max</th>\n",
       "      <td>0.000900</td>\n",
       "    </tr>\n",
       "  </tbody>\n",
       "</table>\n",
       "</div>"
      ],
      "text/plain": [
       "       HCHO Reading\n",
       "count   5477.000000\n",
       "mean       0.000120\n",
       "std        0.000075\n",
       "min       -0.000259\n",
       "25%        0.000099\n",
       "50%        0.000120\n",
       "75%        0.000121\n",
       "max        0.000900"
      ]
     },
     "execution_count": 163,
     "metadata": {},
     "output_type": "execute_result"
    }
   ],
   "source": [
    "col_mat_nuw_output_df.describe()"
   ]
  },
  {
   "cell_type": "markdown",
   "metadata": {},
   "source": [
    "Retrieving a statistical overniew about Kandy DataFrame"
   ]
  },
  {
   "cell_type": "code",
   "execution_count": 164,
   "metadata": {},
   "outputs": [
    {
     "data": {
      "text/html": [
       "<div>\n",
       "<style scoped>\n",
       "    .dataframe tbody tr th:only-of-type {\n",
       "        vertical-align: middle;\n",
       "    }\n",
       "\n",
       "    .dataframe tbody tr th {\n",
       "        vertical-align: top;\n",
       "    }\n",
       "\n",
       "    .dataframe thead th {\n",
       "        text-align: right;\n",
       "    }\n",
       "</style>\n",
       "<table border=\"1\" class=\"dataframe\">\n",
       "  <thead>\n",
       "    <tr style=\"text-align: right;\">\n",
       "      <th></th>\n",
       "      <th>HCHO Reading</th>\n",
       "    </tr>\n",
       "  </thead>\n",
       "  <tbody>\n",
       "    <tr>\n",
       "      <th>count</th>\n",
       "      <td>1825.000000</td>\n",
       "    </tr>\n",
       "    <tr>\n",
       "      <th>mean</th>\n",
       "      <td>0.000106</td>\n",
       "    </tr>\n",
       "    <tr>\n",
       "      <th>std</th>\n",
       "      <td>0.000069</td>\n",
       "    </tr>\n",
       "    <tr>\n",
       "      <th>min</th>\n",
       "      <td>-0.000300</td>\n",
       "    </tr>\n",
       "    <tr>\n",
       "      <th>25%</th>\n",
       "      <td>0.000093</td>\n",
       "    </tr>\n",
       "    <tr>\n",
       "      <th>50%</th>\n",
       "      <td>0.000106</td>\n",
       "    </tr>\n",
       "    <tr>\n",
       "      <th>75%</th>\n",
       "      <td>0.000116</td>\n",
       "    </tr>\n",
       "    <tr>\n",
       "      <th>max</th>\n",
       "      <td>0.000705</td>\n",
       "    </tr>\n",
       "  </tbody>\n",
       "</table>\n",
       "</div>"
      ],
      "text/plain": [
       "       HCHO Reading\n",
       "count   1825.000000\n",
       "mean       0.000106\n",
       "std        0.000069\n",
       "min       -0.000300\n",
       "25%        0.000093\n",
       "50%        0.000106\n",
       "75%        0.000116\n",
       "max        0.000705"
      ]
     },
     "execution_count": 164,
     "metadata": {},
     "output_type": "execute_result"
    }
   ],
   "source": [
    "kan_output_df.describe()"
   ]
  },
  {
   "cell_type": "markdown",
   "metadata": {},
   "source": [
    "Retrieving a statistical overniew about Mon_Kurun_Jaff DataFrame"
   ]
  },
  {
   "cell_type": "code",
   "execution_count": 165,
   "metadata": {},
   "outputs": [
    {
     "data": {
      "text/html": [
       "<div>\n",
       "<style scoped>\n",
       "    .dataframe tbody tr th:only-of-type {\n",
       "        vertical-align: middle;\n",
       "    }\n",
       "\n",
       "    .dataframe tbody tr th {\n",
       "        vertical-align: top;\n",
       "    }\n",
       "\n",
       "    .dataframe thead th {\n",
       "        text-align: right;\n",
       "    }\n",
       "</style>\n",
       "<table border=\"1\" class=\"dataframe\">\n",
       "  <thead>\n",
       "    <tr style=\"text-align: right;\">\n",
       "      <th></th>\n",
       "      <th>HCHO Reading</th>\n",
       "    </tr>\n",
       "  </thead>\n",
       "  <tbody>\n",
       "    <tr>\n",
       "      <th>count</th>\n",
       "      <td>5477.000000</td>\n",
       "    </tr>\n",
       "    <tr>\n",
       "      <th>mean</th>\n",
       "      <td>0.000122</td>\n",
       "    </tr>\n",
       "    <tr>\n",
       "      <th>std</th>\n",
       "      <td>0.000072</td>\n",
       "    </tr>\n",
       "    <tr>\n",
       "      <th>min</th>\n",
       "      <td>-0.000352</td>\n",
       "    </tr>\n",
       "    <tr>\n",
       "      <th>25%</th>\n",
       "      <td>0.000088</td>\n",
       "    </tr>\n",
       "    <tr>\n",
       "      <th>50%</th>\n",
       "      <td>0.000122</td>\n",
       "    </tr>\n",
       "    <tr>\n",
       "      <th>75%</th>\n",
       "      <td>0.000145</td>\n",
       "    </tr>\n",
       "    <tr>\n",
       "      <th>max</th>\n",
       "      <td>0.000584</td>\n",
       "    </tr>\n",
       "  </tbody>\n",
       "</table>\n",
       "</div>"
      ],
      "text/plain": [
       "       HCHO Reading\n",
       "count   5477.000000\n",
       "mean       0.000122\n",
       "std        0.000072\n",
       "min       -0.000352\n",
       "25%        0.000088\n",
       "50%        0.000122\n",
       "75%        0.000145\n",
       "max        0.000584"
      ]
     },
     "execution_count": 165,
     "metadata": {},
     "output_type": "execute_result"
    }
   ],
   "source": [
    "mon_kur_jaf_output.describe()"
   ]
  }
 ],
 "metadata": {
  "kernelspec": {
   "display_name": "Python 3",
   "language": "python",
   "name": "python3"
  },
  "language_info": {
   "codemirror_mode": {
    "name": "ipython",
    "version": 3
   },
   "file_extension": ".py",
   "mimetype": "text/x-python",
   "name": "python",
   "nbconvert_exporter": "python",
   "pygments_lexer": "ipython3",
   "version": "3.12.1"
  }
 },
 "nbformat": 4,
 "nbformat_minor": 2
}
