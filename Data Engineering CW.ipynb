{
 "cells": [
  {
   "cell_type": "markdown",
   "metadata": {},
   "source": [
    "Question 1 - Data Preprocessing"
   ]
  },
  {
   "cell_type": "code",
   "execution_count": 89,
   "metadata": {},
   "outputs": [],
   "source": [
    "import pandas as pd\n",
    "import numpy as np\n",
    "import seaborn as sns\n",
    "import matplotlib.pyplot as plt"
   ]
  },
  {
   "cell_type": "code",
   "execution_count": 90,
   "metadata": {},
   "outputs": [],
   "source": [
    "col_mat_nuw_output_df = pd.read_csv('col_mat_nuw_output.csv')\n",
    "kandy_df = pd.read_csv('kan_output.csv')\n",
    "mon_kur_jaf_output_df = pd.read_csv('mon_kur_jaf_output.csv')"
   ]
  },
  {
   "cell_type": "code",
   "execution_count": 91,
   "metadata": {},
   "outputs": [],
   "source": [
    "col_mat_nuw_output_df.columns = ['HCHO Reading', 'Location', 'Current Date', 'Next Date']\n",
    "kandy_df.columns = ['HCHO Reading', 'Location', 'Current Date', 'Next Date']\n",
    "mon_kur_jaf_output_df.columns = ['HCHO Reading', 'Location', 'Current Date', 'Next Date']"
   ]
  },
  {
   "cell_type": "code",
   "execution_count": 92,
   "metadata": {},
   "outputs": [],
   "source": [
    "colombo_df = col_mat_nuw_output_df[col_mat_nuw_output_df['Location'] == 'Colombo Proper']\n",
    "nuwaraeliya_df = col_mat_nuw_output_df[col_mat_nuw_output_df['Location'] == 'Nuwara Eliya Proper']\n",
    "matara_df = col_mat_nuw_output_df[col_mat_nuw_output_df['Location'] == 'Deniyaya, Matara']\n",
    "kandy_df\n",
    "monaragala_df = mon_kur_jaf_output_df[mon_kur_jaf_output_df['Location'] == 'Bibile, Monaragala']\n",
    "kurunegala_df = mon_kur_jaf_output_df[mon_kur_jaf_output_df['Location'] == 'Kurunegala Proper']\n",
    "jaffna_df = mon_kur_jaf_output_df[mon_kur_jaf_output_df['Location'] == 'Jaffna Proper']"
   ]
  },
  {
   "cell_type": "code",
   "execution_count": null,
   "metadata": {},
   "outputs": [],
   "source": [
    "colombo_df"
   ]
  },
  {
   "cell_type": "code",
   "execution_count": null,
   "metadata": {},
   "outputs": [],
   "source": [
    "# Reset the index to the default integer index\n",
    "nuwaraeliya_df.reset_index(drop=True, inplace=True)\n",
    "nuwaraeliya_df"
   ]
  },
  {
   "cell_type": "code",
   "execution_count": null,
   "metadata": {},
   "outputs": [],
   "source": [
    "# Reset the index to the default integer index\n",
    "matara_df.reset_index(drop=True, inplace=True)\n",
    "matara_df"
   ]
  },
  {
   "cell_type": "code",
   "execution_count": null,
   "metadata": {},
   "outputs": [],
   "source": [
    "# Reset the index to the default integer index\n",
    "kandy_df.reset_index(drop=True, inplace=True)\n",
    "kandy_df"
   ]
  },
  {
   "cell_type": "code",
   "execution_count": null,
   "metadata": {},
   "outputs": [],
   "source": [
    "# Reset the index to the default integer index\n",
    "monaragala_df.reset_index(drop=True, inplace=True)\n",
    "monaragala_df"
   ]
  },
  {
   "cell_type": "code",
   "execution_count": null,
   "metadata": {},
   "outputs": [],
   "source": [
    "# Reset the index to the default integer index\n",
    "kurunegala_df.reset_index(drop=True, inplace=True)\n",
    "kurunegala_df"
   ]
  },
  {
   "cell_type": "code",
   "execution_count": null,
   "metadata": {},
   "outputs": [],
   "source": [
    "# Reset the index to the default integer index\n",
    "jaffna_df.reset_index(drop=True, inplace=True)\n",
    "jaffna_df"
   ]
  },
  {
   "cell_type": "markdown",
   "metadata": {},
   "source": [
    "Identifying Unique Values in the Colombo dataframe "
   ]
  },
  {
   "cell_type": "code",
   "execution_count": null,
   "metadata": {},
   "outputs": [],
   "source": [
    "for column in colombo_df.columns:\n",
    "    unique_values = colombo_df[column].unique()\n",
    "    print((f\"{column} unique values\"))\n",
    "    count = colombo_df[column].nunique()  # Count the number of unique values\n",
    "    print(\"Number of unique values:\", count)\n",
    "    print(unique_values)\n",
    "    print('\\n')"
   ]
  },
  {
   "cell_type": "markdown",
   "metadata": {},
   "source": [
    "Identifying Unique Values in the Nuwara Eliya Proper dataframe "
   ]
  },
  {
   "cell_type": "code",
   "execution_count": null,
   "metadata": {},
   "outputs": [],
   "source": [
    "for column in nuwaraeliya_df.columns:\n",
    "    unique_values = nuwaraeliya_df[column].unique()\n",
    "    print((f\"{column} unique values\"))\n",
    "    count = nuwaraeliya_df[column].nunique()  # Count the number of unique values\n",
    "    print(\"Number of unique values:\", count)\n",
    "    print(unique_values)\n",
    "    print('\\n')"
   ]
  },
  {
   "cell_type": "markdown",
   "metadata": {},
   "source": [
    "Identifying Unique Values in the Matara dataframe "
   ]
  },
  {
   "cell_type": "code",
   "execution_count": null,
   "metadata": {},
   "outputs": [],
   "source": [
    "for column in matara_df.columns:\n",
    "    unique_values = matara_df[column].unique()\n",
    "    print((f\"{column} unique values\"))\n",
    "    count = matara_df[column].nunique()  # Count the number of unique values\n",
    "    print(\"Number of unique values:\", count)\n",
    "    print(unique_values)\n",
    "    print('\\n')"
   ]
  },
  {
   "cell_type": "markdown",
   "metadata": {},
   "source": [
    "Identifying Unique Values in the Kandy dataframe "
   ]
  },
  {
   "cell_type": "code",
   "execution_count": null,
   "metadata": {},
   "outputs": [],
   "source": [
    "for column in kandy_df.columns:\n",
    "    unique_values = kandy_df[column].unique()\n",
    "    print((f\"{column} unique values\"))\n",
    "    count = kandy_df[column].nunique()  # Count the number of unique values\n",
    "    print(\"Number of unique values:\", count)\n",
    "    print(unique_values)\n",
    "    print('\\n')"
   ]
  },
  {
   "cell_type": "markdown",
   "metadata": {},
   "source": [
    "Identifying Unique Values in the Monaragala dataframe "
   ]
  },
  {
   "cell_type": "code",
   "execution_count": null,
   "metadata": {},
   "outputs": [],
   "source": [
    "for column in monaragala_df.columns:\n",
    "    unique_values = monaragala_df[column].unique()\n",
    "    print((f\"{column} unique values\"))\n",
    "    count = monaragala_df[column].nunique()  # Count the number of unique values\n",
    "    print(\"Number of unique values:\", count)\n",
    "    print(unique_values)\n",
    "    print('\\n')"
   ]
  },
  {
   "cell_type": "markdown",
   "metadata": {},
   "source": [
    "Identifying Unique Values in the Kurunegala dataframe "
   ]
  },
  {
   "cell_type": "code",
   "execution_count": null,
   "metadata": {},
   "outputs": [],
   "source": [
    "for column in kurunegala_df.columns:\n",
    "    unique_values = kurunegala_df[column].unique()\n",
    "    print((f\"{column} unique values\"))\n",
    "    count = kurunegala_df[column].nunique()  # Count the number of unique values\n",
    "    print(\"Number of unique values:\", count)\n",
    "    print(unique_values)\n",
    "    print('\\n')"
   ]
  },
  {
   "cell_type": "markdown",
   "metadata": {},
   "source": [
    "Identifying Unique Values in the Jaffna dataframe "
   ]
  },
  {
   "cell_type": "code",
   "execution_count": null,
   "metadata": {},
   "outputs": [],
   "source": [
    "for column in jaffna_df.columns:\n",
    "    unique_values = jaffna_df[column].unique()\n",
    "    print((f\"{column} unique values\"))\n",
    "    count = jaffna_df[column].nunique()  # Count the number of unique values\n",
    "    print(\"Number of unique values:\", count)\n",
    "    print(unique_values)\n",
    "    print('\\n')"
   ]
  },
  {
   "cell_type": "markdown",
   "metadata": {},
   "source": [
    "Identify rows with NaN values in Colombo dataframe"
   ]
  },
  {
   "cell_type": "code",
   "execution_count": null,
   "metadata": {},
   "outputs": [],
   "source": [
    "non_numeric_rows = colombo_df[colombo_df['HCHO Reading'].isna()]\n",
    "print(\"Non-numeric values in 'HCHO Reading' column:\")\n",
    "print(non_numeric_rows)"
   ]
  },
  {
   "cell_type": "markdown",
   "metadata": {},
   "source": [
    "Finding mean of correct values in HCHO Reading column in Colombo dataframe"
   ]
  },
  {
   "cell_type": "code",
   "execution_count": null,
   "metadata": {},
   "outputs": [],
   "source": [
    "correct_values_in_HCHO_Reading_Colombo = colombo_df[pd.notna(colombo_df[\"HCHO Reading\"])]\n",
    "mean_Correct_values_in_HCHO_Reading_Colombo = correct_values_in_HCHO_Reading_Colombo[\"HCHO Reading\"].mean()\n",
    "mean_Correct_values_in_HCHO_Reading_Colombo"
   ]
  },
  {
   "cell_type": "markdown",
   "metadata": {},
   "source": [
    "Replacing NaN values in HCHO Reading column in Colombo dataframe"
   ]
  },
  {
   "cell_type": "code",
   "execution_count": null,
   "metadata": {},
   "outputs": [],
   "source": [
    "colombo_df[\"HCHO Reading\"].fillna(mean_Correct_values_in_HCHO_Reading_Colombo, inplace=True)"
   ]
  },
  {
   "cell_type": "markdown",
   "metadata": {},
   "source": [
    "Identify rows with NaN values in Nuwara Eliya dataframe"
   ]
  },
  {
   "cell_type": "code",
   "execution_count": null,
   "metadata": {},
   "outputs": [],
   "source": [
    "non_numeric_rows = nuwaraeliya_df[nuwaraeliya_df['HCHO Reading'].isna()]\n",
    "print(\"Non-numeric values in 'HCHO Reading' column:\")\n",
    "print(non_numeric_rows)"
   ]
  },
  {
   "cell_type": "markdown",
   "metadata": {},
   "source": [
    "Finding mean of correct values in HCHO Reading column in Nuwara Eliya dataframe"
   ]
  },
  {
   "cell_type": "code",
   "execution_count": null,
   "metadata": {},
   "outputs": [],
   "source": [
    "correct_values_in_HCHO_Reading_NuwaraEliya = nuwaraeliya_df[pd.notna(nuwaraeliya_df[\"HCHO Reading\"])]\n",
    "mean_Correct_values_in_HCHO_Reading_NuwaraEliya = correct_values_in_HCHO_Reading_NuwaraEliya[\"HCHO Reading\"].mean()\n",
    "mean_Correct_values_in_HCHO_Reading_NuwaraEliya"
   ]
  },
  {
   "cell_type": "markdown",
   "metadata": {},
   "source": [
    "Replacing NaN values in HCHO Reading column in Nuwara Eliya dataframe"
   ]
  },
  {
   "cell_type": "code",
   "execution_count": null,
   "metadata": {},
   "outputs": [],
   "source": [
    "nuwaraeliya_df[\"HCHO Reading\"].fillna(mean_Correct_values_in_HCHO_Reading_NuwaraEliya, inplace=True)"
   ]
  },
  {
   "cell_type": "markdown",
   "metadata": {},
   "source": [
    "Identify rows with NaN values in Matara dataframe"
   ]
  },
  {
   "cell_type": "code",
   "execution_count": null,
   "metadata": {},
   "outputs": [],
   "source": [
    "non_numeric_rows = matara_df[matara_df['HCHO Reading'].isna()]\n",
    "print(\"Non-numeric values in 'HCHO Reading' column:\")\n",
    "print(non_numeric_rows)"
   ]
  },
  {
   "cell_type": "markdown",
   "metadata": {},
   "source": [
    "Finding mean of correct values in HCHO Reading column in Matara dataframe"
   ]
  },
  {
   "cell_type": "code",
   "execution_count": null,
   "metadata": {},
   "outputs": [],
   "source": [
    "correct_values_in_HCHO_Reading_Matara= matara_df[pd.notna(matara_df[\"HCHO Reading\"])]\n",
    "mean_Correct_values_in_HCHO_Reading_Matara = correct_values_in_HCHO_Reading_Matara[\"HCHO Reading\"].mean()\n",
    "mean_Correct_values_in_HCHO_Reading_Matara"
   ]
  },
  {
   "cell_type": "markdown",
   "metadata": {},
   "source": [
    "Replacing NaN values in HCHO Reading column in Matara dataframe"
   ]
  },
  {
   "cell_type": "code",
   "execution_count": null,
   "metadata": {},
   "outputs": [],
   "source": [
    "matara_df[\"HCHO Reading\"].fillna(mean_Correct_values_in_HCHO_Reading_Matara, inplace=True)"
   ]
  },
  {
   "cell_type": "markdown",
   "metadata": {},
   "source": [
    "Identify rows with NaN values in Kandy dataframe"
   ]
  },
  {
   "cell_type": "code",
   "execution_count": null,
   "metadata": {},
   "outputs": [],
   "source": [
    "non_numeric_rows = kandy_df[kandy_df['HCHO Reading'].isna()]\n",
    "print(\"Non-numeric values in 'HCHO Reading' column:\")\n",
    "print(non_numeric_rows)"
   ]
  },
  {
   "cell_type": "markdown",
   "metadata": {},
   "source": [
    "Finding mean of correct values in HCHO Reading column in Kandy dataframe"
   ]
  },
  {
   "cell_type": "code",
   "execution_count": null,
   "metadata": {},
   "outputs": [],
   "source": [
    "correct_values_in_HCHO_Reading_Kandy= kandy_df[pd.notna(kandy_df[\"HCHO Reading\"])]\n",
    "mean_Correct_values_in_HCHO_Reading_Kandy = correct_values_in_HCHO_Reading_Kandy[\"HCHO Reading\"].mean()\n",
    "mean_Correct_values_in_HCHO_Reading_Kandy"
   ]
  },
  {
   "cell_type": "markdown",
   "metadata": {},
   "source": [
    "Replacing NaN values in HCHO Reading column in Kandy dataframe"
   ]
  },
  {
   "cell_type": "code",
   "execution_count": null,
   "metadata": {},
   "outputs": [],
   "source": [
    "kandy_df[\"HCHO Reading\"].fillna(mean_Correct_values_in_HCHO_Reading_Kandy, inplace=True)"
   ]
  },
  {
   "cell_type": "markdown",
   "metadata": {},
   "source": [
    "Identify rows with NaN values in Monaragala dataframe"
   ]
  },
  {
   "cell_type": "code",
   "execution_count": null,
   "metadata": {},
   "outputs": [],
   "source": [
    "non_numeric_rows = monaragala_df[monaragala_df['HCHO Reading'].isna()]\n",
    "print(\"Non-numeric values in 'HCHO Reading' column:\")\n",
    "print(non_numeric_rows)"
   ]
  },
  {
   "cell_type": "markdown",
   "metadata": {},
   "source": [
    "Finding mean of correct values in HCHO Reading column in Monaragala dataframe"
   ]
  },
  {
   "cell_type": "code",
   "execution_count": null,
   "metadata": {},
   "outputs": [],
   "source": [
    "correct_values_in_HCHO_Reading_Monaragala= monaragala_df[pd.notna(monaragala_df[\"HCHO Reading\"])]\n",
    "mean_Correct_values_in_HCHO_Reading_Monaragala = correct_values_in_HCHO_Reading_Monaragala[\"HCHO Reading\"].mean()\n",
    "mean_Correct_values_in_HCHO_Reading_Monaragala"
   ]
  },
  {
   "cell_type": "markdown",
   "metadata": {},
   "source": [
    "Replacing NaN values in HCHO Reading column in Monaragala dataframe"
   ]
  },
  {
   "cell_type": "code",
   "execution_count": null,
   "metadata": {},
   "outputs": [],
   "source": [
    "monaragala_df[\"HCHO Reading\"].fillna(mean_Correct_values_in_HCHO_Reading_Monaragala, inplace=True)"
   ]
  },
  {
   "cell_type": "markdown",
   "metadata": {},
   "source": [
    "Identify rows with NaN values in Kurunegala dataframe"
   ]
  },
  {
   "cell_type": "code",
   "execution_count": null,
   "metadata": {},
   "outputs": [],
   "source": [
    "non_numeric_rows = kurunegala_df[kurunegala_df['HCHO Reading'].isna()]\n",
    "print(\"Non-numeric values in 'HCHO Reading' column:\")\n",
    "print(non_numeric_rows)"
   ]
  },
  {
   "cell_type": "markdown",
   "metadata": {},
   "source": [
    "Finding mean of correct values in HCHO Reading column in Kurunegala dataframe"
   ]
  },
  {
   "cell_type": "code",
   "execution_count": null,
   "metadata": {},
   "outputs": [],
   "source": [
    "correct_values_in_HCHO_Reading_Kurunegala= kurunegala_df[pd.notna(kurunegala_df[\"HCHO Reading\"])]\n",
    "mean_Correct_values_in_HCHO_Reading_Kurunegala = correct_values_in_HCHO_Reading_Kurunegala[\"HCHO Reading\"].mean()\n",
    "mean_Correct_values_in_HCHO_Reading_Kurunegala"
   ]
  },
  {
   "cell_type": "markdown",
   "metadata": {},
   "source": [
    "Replacing NaN values in HCHO Reading column in Kurunegala dataframe"
   ]
  },
  {
   "cell_type": "code",
   "execution_count": null,
   "metadata": {},
   "outputs": [],
   "source": [
    "kurunegala_df[\"HCHO Reading\"].fillna(mean_Correct_values_in_HCHO_Reading_Kurunegala, inplace=True)"
   ]
  },
  {
   "cell_type": "markdown",
   "metadata": {},
   "source": [
    "Identify rows with NaN values in Jaffna dataframe"
   ]
  },
  {
   "cell_type": "code",
   "execution_count": null,
   "metadata": {},
   "outputs": [],
   "source": [
    "non_numeric_rows = jaffna_df[jaffna_df['HCHO Reading'].isna()]\n",
    "print(\"Non-numeric values in 'HCHO Reading' column:\")\n",
    "print(non_numeric_rows)"
   ]
  },
  {
   "cell_type": "markdown",
   "metadata": {},
   "source": [
    "Finding mean of correct values in HCHO Reading column in Jaffna dataframe"
   ]
  },
  {
   "cell_type": "code",
   "execution_count": null,
   "metadata": {},
   "outputs": [],
   "source": [
    "correct_values_in_HCHO_Reading_Jaffna= jaffna_df[pd.notna(jaffna_df[\"HCHO Reading\"])]\n",
    "mean_Correct_values_in_HCHO_Reading_Jaffna = correct_values_in_HCHO_Reading_Jaffna[\"HCHO Reading\"].mean()\n",
    "mean_Correct_values_in_HCHO_Reading_Jaffna"
   ]
  },
  {
   "cell_type": "markdown",
   "metadata": {},
   "source": [
    "Replacing NaN values in HCHO Reading column in Jaffna dataframe"
   ]
  },
  {
   "cell_type": "code",
   "execution_count": null,
   "metadata": {},
   "outputs": [],
   "source": [
    "jaffna_df[\"HCHO Reading\"].fillna(mean_Correct_values_in_HCHO_Reading_Jaffna, inplace=True)"
   ]
  },
  {
   "cell_type": "markdown",
   "metadata": {},
   "source": [
    "Identifying outliers in Colombo DataFrame"
   ]
  },
  {
   "cell_type": "code",
   "execution_count": null,
   "metadata": {},
   "outputs": [],
   "source": [
    "plt.hist(colombo_df['HCHO Reading'])\n",
    "plt.xlabel('HCHO Reading')\n",
    "plt.ylabel('Value')\n",
    "plt.title('Histogram of Colombo DataFrame')"
   ]
  },
  {
   "cell_type": "markdown",
   "metadata": {},
   "source": [
    "Finding Z-Score in Colombo Dataframe "
   ]
  },
  {
   "cell_type": "code",
   "execution_count": null,
   "metadata": {},
   "outputs": [],
   "source": [
    "mean_Correct_values_in_HCHO_Reading_Colombo\n",
    "std_Colombo = np.std(colombo_df['HCHO Reading'])\n",
    "Z_Score_of_Colombo= (colombo_df['HCHO Reading']- mean_Correct_values_in_HCHO_Reading_Colombo)/std_Colombo\n",
    "Z_Score_of_Colombo"
   ]
  },
  {
   "cell_type": "markdown",
   "metadata": {},
   "source": [
    "Adding another column to Colombo DataFrame as HCHO Reading Z-Score"
   ]
  },
  {
   "cell_type": "code",
   "execution_count": null,
   "metadata": {},
   "outputs": [],
   "source": [
    "colombo_df['HCHO Reading Z-Score'] = Z_Score_of_Colombo\n",
    "colombo_df"
   ]
  },
  {
   "cell_type": "code",
   "execution_count": null,
   "metadata": {},
   "outputs": [],
   "source": [
    "# Count the number of rows in the filtered DataFrame\n",
    "num_outliers = len(colombo_df[colombo_df['HCHO Reading Z-Score']>2])\n",
    "print(\"Number of outliers:\", num_outliers)"
   ]
  },
  {
   "cell_type": "code",
   "execution_count": null,
   "metadata": {},
   "outputs": [],
   "source": [
    "# Count the number of rows in the filtered DataFrame\n",
    "num_outliers = len(colombo_df[colombo_df['HCHO Reading Z-Score']<-2])\n",
    "print(\"Number of outliers:\", num_outliers)"
   ]
  },
  {
   "cell_type": "markdown",
   "metadata": {},
   "source": [
    "Removing outliers in Colombo"
   ]
  },
  {
   "cell_type": "code",
   "execution_count": 133,
   "metadata": {},
   "outputs": [],
   "source": [
    "outlier_indexes = []\n",
    "outlier_indexes.extend(colombo_df.index[colombo_df['HCHO Reading Z-Score']>2].tolist())\n",
    "outlier_indexes.extend(colombo_df.index[colombo_df['HCHO Reading Z-Score']<-2].tolist())\n",
    "new_colombo_df = colombo_df.drop(colombo_df.index[outlier_indexes])"
   ]
  },
  {
   "cell_type": "markdown",
   "metadata": {},
   "source": [
    "Checking the difference of the dataframes "
   ]
  },
  {
   "cell_type": "code",
   "execution_count": null,
   "metadata": {},
   "outputs": [],
   "source": [
    "colombo_df.shape[0], new_colombo_df.shape[0]"
   ]
  },
  {
   "cell_type": "markdown",
   "metadata": {},
   "source": [
    "Dropping HCHO Reading Z-Score column from the new dataframe"
   ]
  },
  {
   "cell_type": "code",
   "execution_count": null,
   "metadata": {},
   "outputs": [],
   "source": [
    "new_colombo_df.drop('HCHO Reading Z-Score', axis = 1)"
   ]
  },
  {
   "cell_type": "markdown",
   "metadata": {},
   "source": [
    "After removing outliers in Colombo dataframe"
   ]
  },
  {
   "cell_type": "code",
   "execution_count": null,
   "metadata": {},
   "outputs": [],
   "source": [
    "plt.hist(new_colombo_df['HCHO Reading'])\n",
    "plt.xlabel('HCHO Reading')\n",
    "plt.ylabel('Value')\n",
    "plt.title('Histogram of Colombo DataFrame')"
   ]
  },
  {
   "cell_type": "markdown",
   "metadata": {},
   "source": [
    "Identifying outliers in Nuwara Eliya Proper DataFrame"
   ]
  },
  {
   "cell_type": "code",
   "execution_count": null,
   "metadata": {},
   "outputs": [],
   "source": [
    "plt.hist(nuwaraeliya_df['HCHO Reading'])\n",
    "plt.xlabel('HCHO Reading')\n",
    "plt.ylabel('Value')\n",
    "plt.title('Histogram of Nuwara Eliya Proper DataFrame')"
   ]
  },
  {
   "cell_type": "markdown",
   "metadata": {},
   "source": [
    "Finding Z-Score in Nuwara Eliya Proper DataFrame"
   ]
  },
  {
   "cell_type": "code",
   "execution_count": null,
   "metadata": {},
   "outputs": [],
   "source": [
    "mean_Correct_values_in_HCHO_Reading_NuwaraEliya\n",
    "std_Nuwara_Eliya = np.std(nuwaraeliya_df['HCHO Reading'])\n",
    "Z_Score_of_Nuwara_Eliya = (nuwaraeliya_df['HCHO Reading']- mean_Correct_values_in_HCHO_Reading_NuwaraEliya)/std_Nuwara_Eliya\n",
    "Z_Score_of_Nuwara_Eliya"
   ]
  },
  {
   "cell_type": "markdown",
   "metadata": {},
   "source": [
    "Adding another column to Kandy as HCHO Reading Z-Score"
   ]
  },
  {
   "cell_type": "code",
   "execution_count": null,
   "metadata": {},
   "outputs": [],
   "source": [
    "nuwaraeliya_df['HCHO Reading Z-Score'] = Z_Score_of_Nuwara_Eliya\n",
    "nuwaraeliya_df"
   ]
  },
  {
   "cell_type": "code",
   "execution_count": 161,
   "metadata": {},
   "outputs": [
    {
     "name": "stdout",
     "output_type": "stream",
     "text": [
      "Number of outliers: 74\n"
     ]
    }
   ],
   "source": [
    "# Count the number of rows in the filtered DataFrame\n",
    "num_outliers = len(nuwaraeliya_df[nuwaraeliya_df['HCHO Reading Z-Score']>2])\n",
    "print(\"Number of outliers:\", num_outliers)"
   ]
  },
  {
   "cell_type": "code",
   "execution_count": 160,
   "metadata": {},
   "outputs": [
    {
     "name": "stdout",
     "output_type": "stream",
     "text": [
      "Number of outliers: 65\n"
     ]
    }
   ],
   "source": [
    "# Count the number of rows in the filtered DataFrame\n",
    "num_outliers = len(nuwaraeliya_df[nuwaraeliya_df['HCHO Reading Z-Score']<-2])\n",
    "print(\"Number of outliers:\", num_outliers)"
   ]
  },
  {
   "cell_type": "markdown",
   "metadata": {},
   "source": [
    "Removing outliers in Nuwara Eliya Proper"
   ]
  },
  {
   "cell_type": "code",
   "execution_count": 159,
   "metadata": {},
   "outputs": [],
   "source": [
    "outlier_indexes = []\n",
    "outlier_indexes.extend(nuwaraeliya_df.index[nuwaraeliya_df['HCHO Reading Z-Score']>2].tolist())\n",
    "outlier_indexes.extend(nuwaraeliya_df.index[nuwaraeliya_df['HCHO Reading Z-Score']<-2].tolist())\n",
    "new_nuwaraeliya_df = nuwaraeliya_df.drop(nuwaraeliya_df.index[outlier_indexes])"
   ]
  },
  {
   "cell_type": "markdown",
   "metadata": {},
   "source": [
    "Checking the difference between the dataframes "
   ]
  },
  {
   "cell_type": "code",
   "execution_count": 162,
   "metadata": {},
   "outputs": [
    {
     "data": {
      "text/plain": [
       "(1687, 1826)"
      ]
     },
     "execution_count": 162,
     "metadata": {},
     "output_type": "execute_result"
    }
   ],
   "source": [
    "new_nuwaraeliya_df.shape[0], nuwaraeliya_df.shape[0]"
   ]
  },
  {
   "cell_type": "markdown",
   "metadata": {},
   "source": [
    "Dropping HCHO Reading Z-Score column from the new dataframe"
   ]
  },
  {
   "cell_type": "code",
   "execution_count": null,
   "metadata": {},
   "outputs": [],
   "source": [
    "new_nuwaraeliya_df.drop('HCHO Reading Z-Score', axis = 1)"
   ]
  },
  {
   "cell_type": "markdown",
   "metadata": {},
   "source": [
    "After removing outliers in Nuwara Eliya Porper dataframe"
   ]
  },
  {
   "cell_type": "code",
   "execution_count": null,
   "metadata": {},
   "outputs": [],
   "source": [
    "plt.hist(new_nuwaraeliya_df['HCHO Reading'])\n",
    "plt.xlabel('HCHO Reading')\n",
    "plt.ylabel('Value')\n",
    "plt.title('Histogram of Nuwara Eliya Proper DataFrame')"
   ]
  },
  {
   "cell_type": "markdown",
   "metadata": {},
   "source": [
    "Identifying outliers in Matara DataFrame"
   ]
  },
  {
   "cell_type": "code",
   "execution_count": null,
   "metadata": {},
   "outputs": [],
   "source": [
    "plt.hist(matara_df['HCHO Reading'])\n",
    "plt.xlabel('HCHO Reading')\n",
    "plt.ylabel('Value')\n",
    "plt.title('Histogram of Matara DataFrame')"
   ]
  },
  {
   "cell_type": "markdown",
   "metadata": {},
   "source": [
    "Finding Z-Score in Matara Dataframe "
   ]
  },
  {
   "cell_type": "code",
   "execution_count": null,
   "metadata": {},
   "outputs": [],
   "source": [
    "mean_Correct_values_in_HCHO_Reading_Matara\n",
    "std_Matara = np.std(matara_df['HCHO Reading'])\n",
    "Z_Score_of_Matara = (matara_df['HCHO Reading']- mean_Correct_values_in_HCHO_Reading_Matara)/std_Matara\n",
    "Z_Score_of_Matara"
   ]
  },
  {
   "cell_type": "markdown",
   "metadata": {},
   "source": [
    "Adding another column to Matara as HCHO Reading Z-Score"
   ]
  },
  {
   "cell_type": "code",
   "execution_count": null,
   "metadata": {},
   "outputs": [],
   "source": [
    "matara_df['HCHO Reading Z-Score'] = Z_Score_of_Matara\n",
    "matara_df"
   ]
  },
  {
   "cell_type": "code",
   "execution_count": null,
   "metadata": {},
   "outputs": [],
   "source": [
    "# Count the number of rows in the filtered DataFrame\n",
    "num_outliers = len(matara_df[matara_df['HCHO Reading Z-Score']>2.5])\n",
    "print(\"Number of outliers:\", num_outliers)"
   ]
  },
  {
   "cell_type": "code",
   "execution_count": null,
   "metadata": {},
   "outputs": [],
   "source": [
    "# Count the number of rows in the filtered DataFrame\n",
    "num_outliers = len(matara_df[matara_df['HCHO Reading Z-Score']<-2.5])\n",
    "print(\"Number of outliers:\", num_outliers)"
   ]
  },
  {
   "cell_type": "markdown",
   "metadata": {},
   "source": [
    "Removing outliers in Matara"
   ]
  },
  {
   "cell_type": "code",
   "execution_count": 183,
   "metadata": {},
   "outputs": [],
   "source": [
    "outlier_indexes = []\n",
    "outlier_indexes.extend(matara_df.index[matara_df['HCHO Reading Z-Score']>2.5].tolist())\n",
    "outlier_indexes.extend(matara_df.index[matara_df['HCHO Reading Z-Score']<-2.5].tolist())\n",
    "new_matara_df = matara_df.drop(matara_df.index[outlier_indexes])"
   ]
  },
  {
   "cell_type": "markdown",
   "metadata": {},
   "source": [
    "Checking the difference between the dataframes "
   ]
  },
  {
   "cell_type": "code",
   "execution_count": null,
   "metadata": {},
   "outputs": [],
   "source": [
    "new_matara_df.shape[0], matara_df.shape[0]"
   ]
  },
  {
   "cell_type": "markdown",
   "metadata": {},
   "source": [
    "Dropping HCHO Reading Z-Score column from the new dataframe"
   ]
  },
  {
   "cell_type": "code",
   "execution_count": null,
   "metadata": {},
   "outputs": [],
   "source": [
    "new_matara_df.drop('HCHO Reading Z-Score', axis = 1)"
   ]
  },
  {
   "cell_type": "markdown",
   "metadata": {},
   "source": [
    "After removing outliers in Mon_Kurun_Jaff dataframe"
   ]
  },
  {
   "cell_type": "code",
   "execution_count": null,
   "metadata": {},
   "outputs": [],
   "source": [
    "plt.hist(new_matara_df['HCHO Reading'])\n",
    "plt.xlabel('HCHO Reading')\n",
    "plt.ylabel('Value')\n",
    "plt.title('Histogram of Matara DataFrame')"
   ]
  },
  {
   "cell_type": "markdown",
   "metadata": {},
   "source": [
    "Identifying outliers in Kandy DataFrame"
   ]
  },
  {
   "cell_type": "code",
   "execution_count": null,
   "metadata": {},
   "outputs": [],
   "source": [
    "plt.hist(kandy_df['HCHO Reading'])\n",
    "plt.xlabel('HCHO Reading')\n",
    "plt.ylabel('Value')\n",
    "plt.title('Histogram of Kandy DataFrame')"
   ]
  },
  {
   "cell_type": "markdown",
   "metadata": {},
   "source": [
    "Finding Z-Score in Kandy Dataframe "
   ]
  },
  {
   "cell_type": "code",
   "execution_count": null,
   "metadata": {},
   "outputs": [],
   "source": [
    "mean_Correct_values_in_HCHO_Reading_Kandy\n",
    "std_Kandy = np.std(kandy_df['HCHO Reading'])\n",
    "Z_Score_of_Kandy = (kandy_df['HCHO Reading']- mean_Correct_values_in_HCHO_Reading_Kandy)/std_Kandy\n",
    "Z_Score_of_Kandy"
   ]
  },
  {
   "cell_type": "markdown",
   "metadata": {},
   "source": [
    "Adding another column to Kandy as HCHO Reading Z-Score"
   ]
  },
  {
   "cell_type": "code",
   "execution_count": null,
   "metadata": {},
   "outputs": [],
   "source": [
    "kandy_df['HCHO Reading Z-Score'] = Z_Score_of_Kandy\n",
    "kandy_df"
   ]
  },
  {
   "cell_type": "code",
   "execution_count": null,
   "metadata": {},
   "outputs": [],
   "source": [
    "# Count the number of rows in the filtered DataFrame\n",
    "num_outliers = len(kandy_df[kandy_df['HCHO Reading Z-Score']>2.5])\n",
    "print(\"Number of outliers:\", num_outliers)"
   ]
  },
  {
   "cell_type": "code",
   "execution_count": null,
   "metadata": {},
   "outputs": [],
   "source": [
    "# Count the number of rows in the filtered DataFrame\n",
    "num_outliers = len(kandy_df[kandy_df['HCHO Reading Z-Score']<-2.5])\n",
    "print(\"Number of outliers:\", num_outliers)"
   ]
  },
  {
   "cell_type": "markdown",
   "metadata": {},
   "source": [
    "Removing outliers in Kandy"
   ]
  },
  {
   "cell_type": "code",
   "execution_count": 205,
   "metadata": {},
   "outputs": [],
   "source": [
    "outlier_indexes = []\n",
    "outlier_indexes.extend(kandy_df.index[kandy_df['HCHO Reading Z-Score']>2.5].tolist())\n",
    "outlier_indexes.extend(kandy_df.index[kandy_df['HCHO Reading Z-Score']<-2.5].tolist())\n",
    "new_kandy_df = kandy_df.drop(kandy_df.index[outlier_indexes])"
   ]
  },
  {
   "cell_type": "markdown",
   "metadata": {},
   "source": [
    "Checking the difference of the dataframes "
   ]
  },
  {
   "cell_type": "code",
   "execution_count": null,
   "metadata": {},
   "outputs": [],
   "source": [
    "new_kandy_df.shape[0], kandy_df.shape[0]"
   ]
  },
  {
   "cell_type": "markdown",
   "metadata": {},
   "source": [
    "Dropping HCHO Reading Z-Score column from the new dataframe"
   ]
  },
  {
   "cell_type": "code",
   "execution_count": null,
   "metadata": {},
   "outputs": [],
   "source": [
    "new_kandy_df.drop('HCHO Reading Z-Score', axis = 1)"
   ]
  },
  {
   "cell_type": "markdown",
   "metadata": {},
   "source": [
    "After removing outliers in Kandy dataframe"
   ]
  },
  {
   "cell_type": "code",
   "execution_count": null,
   "metadata": {},
   "outputs": [],
   "source": [
    "plt.hist(new_kandy_df['HCHO Reading'])\n",
    "plt.xlabel('HCHO Reading')\n",
    "plt.ylabel('Value')\n",
    "plt.title('Histogram of Kandy DataFrame')"
   ]
  },
  {
   "cell_type": "markdown",
   "metadata": {},
   "source": [
    "Identifying outliers in Monaragala DataFrame"
   ]
  },
  {
   "cell_type": "code",
   "execution_count": null,
   "metadata": {},
   "outputs": [],
   "source": [
    "plt.hist(monaragala_df['HCHO Reading'])\n",
    "plt.xlabel('HCHO Reading')\n",
    "plt.ylabel('Value')\n",
    "plt.title('Histogram of Monaragala DataFrame')"
   ]
  },
  {
   "cell_type": "markdown",
   "metadata": {},
   "source": [
    "Finding Z-Score in Monaragala Dataframe "
   ]
  },
  {
   "cell_type": "code",
   "execution_count": null,
   "metadata": {},
   "outputs": [],
   "source": [
    "mean_Correct_values_in_HCHO_Reading_Monaragala\n",
    "std_Monaragala= np.std(monaragala_df['HCHO Reading'])\n",
    "Z_Score_of_Monaragala = (monaragala_df['HCHO Reading']- mean_Correct_values_in_HCHO_Reading_Monaragala)/std_Monaragala\n",
    "Z_Score_of_Monaragala"
   ]
  },
  {
   "cell_type": "markdown",
   "metadata": {},
   "source": [
    "Adding another column to Monaragala as HCHO Reading Z-Score"
   ]
  },
  {
   "cell_type": "code",
   "execution_count": null,
   "metadata": {},
   "outputs": [],
   "source": [
    "monaragala_df['HCHO Reading Z-Score'] = Z_Score_of_Monaragala\n",
    "monaragala_df"
   ]
  },
  {
   "cell_type": "code",
   "execution_count": null,
   "metadata": {},
   "outputs": [],
   "source": [
    "# Count the number of rows in the filtered DataFrame\n",
    "num_outliers = len(monaragala_df[monaragala_df['HCHO Reading Z-Score']>2])\n",
    "print(\"Number of outliers:\", num_outliers)"
   ]
  },
  {
   "cell_type": "code",
   "execution_count": null,
   "metadata": {},
   "outputs": [],
   "source": [
    "# Count the number of rows in the filtered DataFrame\n",
    "num_outliers = len(monaragala_df[monaragala_df['HCHO Reading Z-Score']<-2])\n",
    "print(\"Number of outliers:\", num_outliers)"
   ]
  },
  {
   "cell_type": "markdown",
   "metadata": {},
   "source": [
    "Removing outliers in Monaragala"
   ]
  },
  {
   "cell_type": "code",
   "execution_count": 223,
   "metadata": {},
   "outputs": [],
   "source": [
    "outlier_indexes = []\n",
    "outlier_indexes.extend(monaragala_df.index[monaragala_df['HCHO Reading Z-Score']>2].tolist())\n",
    "outlier_indexes.extend(monaragala_df.index[monaragala_df['HCHO Reading Z-Score']<-2].tolist())\n",
    "new_monaragala_df = monaragala_df.drop(monaragala_df.index[outlier_indexes])"
   ]
  },
  {
   "cell_type": "markdown",
   "metadata": {},
   "source": [
    "Checking the difference of the dataframes "
   ]
  },
  {
   "cell_type": "code",
   "execution_count": null,
   "metadata": {},
   "outputs": [],
   "source": [
    "new_monaragala_df.shape[0], monaragala_df.shape[0]"
   ]
  },
  {
   "cell_type": "markdown",
   "metadata": {},
   "source": [
    "Dropping HCHO Reading Z-Score column from the new dataframe"
   ]
  },
  {
   "cell_type": "code",
   "execution_count": null,
   "metadata": {},
   "outputs": [],
   "source": [
    "new_monaragala_df.drop('HCHO Reading Z-Score', axis = 1)"
   ]
  },
  {
   "cell_type": "markdown",
   "metadata": {},
   "source": [
    "After removing outliers in Monaragala dataframe"
   ]
  },
  {
   "cell_type": "code",
   "execution_count": null,
   "metadata": {},
   "outputs": [],
   "source": [
    "plt.hist(new_monaragala_df['HCHO Reading'])\n",
    "plt.xlabel('HCHO Reading')\n",
    "plt.ylabel('Value')\n",
    "plt.title('Histogram of Monaragala DataFrame')"
   ]
  },
  {
   "cell_type": "markdown",
   "metadata": {},
   "source": [
    "Identifying outliers in Kurunegala DataFrame"
   ]
  },
  {
   "cell_type": "code",
   "execution_count": 227,
   "metadata": {},
   "outputs": [
    {
     "data": {
      "text/plain": [
       "Text(0.5, 1.0, 'Histogram of Kurunegala DataFrame')"
      ]
     },
     "execution_count": 227,
     "metadata": {},
     "output_type": "execute_result"
    },
    {
     "data": {
      "image/png": "[encoded data removed]",
      "text/plain": [
       "<Figure size 640x480 with 1 Axes>"
      ]
     },
     "metadata": {},
     "output_type": "display_data"
    }
   ],
   "source": [
    "plt.hist(kurunegala_df['HCHO Reading'])\n",
    "plt.xlabel('HCHO Reading')\n",
    "plt.ylabel('Value')\n",
    "plt.title('Histogram of Kurunegala DataFrame')"
   ]
  },
  {
   "cell_type": "markdown",
   "metadata": {},
   "source": [
    "Finding Z-Score in Kurunegala Dataframe "
   ]
  },
  {
   "cell_type": "code",
   "execution_count": 228,
   "metadata": {},
   "outputs": [
    {
     "data": {
      "text/plain": [
       "0      -0.641233\n",
       "1       0.042896\n",
       "2       0.196181\n",
       "3      -1.908288\n",
       "4       1.611287\n",
       "          ...   \n",
       "1821   -0.821114\n",
       "1822    0.000000\n",
       "1823    0.000000\n",
       "1824    0.334166\n",
       "1825    0.000000\n",
       "Name: HCHO Reading, Length: 1826, dtype: float64"
      ]
     },
     "execution_count": 228,
     "metadata": {},
     "output_type": "execute_result"
    }
   ],
   "source": [
    "mean_Correct_values_in_HCHO_Reading_Kurunegala\n",
    "std_Kurunegala = np.std(kurunegala_df['HCHO Reading'])\n",
    "Z_Score_of_Kurunegala = (kurunegala_df['HCHO Reading']- mean_Correct_values_in_HCHO_Reading_Kurunegala)/std_Kurunegala\n",
    "Z_Score_of_Kurunegala"
   ]
  },
  {
   "cell_type": "markdown",
   "metadata": {},
   "source": [
    "Adding another column to Kurunegala as HCHO Reading Z-Score"
   ]
  },
  {
   "cell_type": "code",
   "execution_count": 229,
   "metadata": {},
   "outputs": [
    {
     "name": "stderr",
     "output_type": "stream",
     "text": [
      "C:\\Users\\deela\\AppData\\Local\\Temp\\ipykernel_1248\\3324741367.py:1: SettingWithCopyWarning: \n",
      "A value is trying to be set on a copy of a slice from a DataFrame.\n",
      "Try using .loc[row_indexer,col_indexer] = value instead\n",
      "\n",
      "See the caveats in the documentation: https://pandas.pydata.org/pandas-docs/stable/user_guide/indexing.html#returning-a-view-versus-a-copy\n",
      "  kurunegala_df['HCHO Reading Z-Score'] = Z_Score_of_Kurunegala\n"
     ]
    },
    {
     "data": {
      "text/html": [
       "<div>\n",
       "<style scoped>\n",
       "    .dataframe tbody tr th:only-of-type {\n",
       "        vertical-align: middle;\n",
       "    }\n",
       "\n",
       "    .dataframe tbody tr th {\n",
       "        vertical-align: top;\n",
       "    }\n",
       "\n",
       "    .dataframe thead th {\n",
       "        text-align: right;\n",
       "    }\n",
       "</style>\n",
       "<table border=\"1\" class=\"dataframe\">\n",
       "  <thead>\n",
       "    <tr style=\"text-align: right;\">\n",
       "      <th></th>\n",
       "      <th>HCHO Reading</th>\n",
       "      <th>Location</th>\n",
       "      <th>Current Date</th>\n",
       "      <th>Next Date</th>\n",
       "      <th>HCHO Reading Z-Score</th>\n",
       "    </tr>\n",
       "  </thead>\n",
       "  <tbody>\n",
       "    <tr>\n",
       "      <th>0</th>\n",
       "      <td>0.000088</td>\n",
       "      <td>Kurunegala Proper</td>\n",
       "      <td>1/1/2019</td>\n",
       "      <td>1/2/2019</td>\n",
       "      <td>-0.641233</td>\n",
       "    </tr>\n",
       "    <tr>\n",
       "      <th>1</th>\n",
       "      <td>0.000137</td>\n",
       "      <td>Kurunegala Proper</td>\n",
       "      <td>1/2/2019</td>\n",
       "      <td>1/3/2019</td>\n",
       "      <td>0.042896</td>\n",
       "    </tr>\n",
       "    <tr>\n",
       "      <th>2</th>\n",
       "      <td>0.000148</td>\n",
       "      <td>Kurunegala Proper</td>\n",
       "      <td>1/3/2019</td>\n",
       "      <td>1/4/2019</td>\n",
       "      <td>0.196181</td>\n",
       "    </tr>\n",
       "    <tr>\n",
       "      <th>3</th>\n",
       "      <td>-0.000002</td>\n",
       "      <td>Kurunegala Proper</td>\n",
       "      <td>1/4/2019</td>\n",
       "      <td>1/5/2019</td>\n",
       "      <td>-1.908288</td>\n",
       "    </tr>\n",
       "    <tr>\n",
       "      <th>4</th>\n",
       "      <td>0.000249</td>\n",
       "      <td>Kurunegala Proper</td>\n",
       "      <td>1/5/2019</td>\n",
       "      <td>1/6/2019</td>\n",
       "      <td>1.611287</td>\n",
       "    </tr>\n",
       "    <tr>\n",
       "      <th>...</th>\n",
       "      <td>...</td>\n",
       "      <td>...</td>\n",
       "      <td>...</td>\n",
       "      <td>...</td>\n",
       "      <td>...</td>\n",
       "    </tr>\n",
       "    <tr>\n",
       "      <th>1821</th>\n",
       "      <td>0.000075</td>\n",
       "      <td>Kurunegala Proper</td>\n",
       "      <td>12/27/2023</td>\n",
       "      <td>12/28/2023</td>\n",
       "      <td>-0.821114</td>\n",
       "    </tr>\n",
       "    <tr>\n",
       "      <th>1822</th>\n",
       "      <td>0.000134</td>\n",
       "      <td>Kurunegala Proper</td>\n",
       "      <td>12/28/2023</td>\n",
       "      <td>12/29/2023</td>\n",
       "      <td>0.000000</td>\n",
       "    </tr>\n",
       "    <tr>\n",
       "      <th>1823</th>\n",
       "      <td>0.000134</td>\n",
       "      <td>Kurunegala Proper</td>\n",
       "      <td>12/29/2023</td>\n",
       "      <td>12/30/2023</td>\n",
       "      <td>0.000000</td>\n",
       "    </tr>\n",
       "    <tr>\n",
       "      <th>1824</th>\n",
       "      <td>0.000158</td>\n",
       "      <td>Kurunegala Proper</td>\n",
       "      <td>12/30/2023</td>\n",
       "      <td>12/31/2023</td>\n",
       "      <td>0.334166</td>\n",
       "    </tr>\n",
       "    <tr>\n",
       "      <th>1825</th>\n",
       "      <td>0.000134</td>\n",
       "      <td>Kurunegala Proper</td>\n",
       "      <td>12/31/2023</td>\n",
       "      <td>1/1/2024</td>\n",
       "      <td>0.000000</td>\n",
       "    </tr>\n",
       "  </tbody>\n",
       "</table>\n",
       "<p>1826 rows × 5 columns</p>\n",
       "</div>"
      ],
      "text/plain": [
       "      HCHO Reading           Location Current Date   Next Date  \\\n",
       "0         0.000088  Kurunegala Proper     1/1/2019    1/2/2019   \n",
       "1         0.000137  Kurunegala Proper     1/2/2019    1/3/2019   \n",
       "2         0.000148  Kurunegala Proper     1/3/2019    1/4/2019   \n",
       "3        -0.000002  Kurunegala Proper     1/4/2019    1/5/2019   \n",
       "4         0.000249  Kurunegala Proper     1/5/2019    1/6/2019   \n",
       "...            ...                ...          ...         ...   \n",
       "1821      0.000075  Kurunegala Proper   12/27/2023  12/28/2023   \n",
       "1822      0.000134  Kurunegala Proper   12/28/2023  12/29/2023   \n",
       "1823      0.000134  Kurunegala Proper   12/29/2023  12/30/2023   \n",
       "1824      0.000158  Kurunegala Proper   12/30/2023  12/31/2023   \n",
       "1825      0.000134  Kurunegala Proper   12/31/2023    1/1/2024   \n",
       "\n",
       "      HCHO Reading Z-Score  \n",
       "0                -0.641233  \n",
       "1                 0.042896  \n",
       "2                 0.196181  \n",
       "3                -1.908288  \n",
       "4                 1.611287  \n",
       "...                    ...  \n",
       "1821             -0.821114  \n",
       "1822              0.000000  \n",
       "1823              0.000000  \n",
       "1824              0.334166  \n",
       "1825              0.000000  \n",
       "\n",
       "[1826 rows x 5 columns]"
      ]
     },
     "execution_count": 229,
     "metadata": {},
     "output_type": "execute_result"
    }
   ],
   "source": [
    "kurunegala_df['HCHO Reading Z-Score'] = Z_Score_of_Kurunegala\n",
    "kurunegala_df"
   ]
  },
  {
   "cell_type": "code",
   "execution_count": 230,
   "metadata": {},
   "outputs": [
    {
     "name": "stdout",
     "output_type": "stream",
     "text": [
      "Number of outliers: 38\n"
     ]
    }
   ],
   "source": [
    "# Count the number of rows in the filtered DataFrame\n",
    "num_outliers = len(kurunegala_df[kurunegala_df['HCHO Reading Z-Score']>2.5])\n",
    "print(\"Number of outliers:\", num_outliers)"
   ]
  },
  {
   "cell_type": "code",
   "execution_count": 231,
   "metadata": {},
   "outputs": [
    {
     "name": "stdout",
     "output_type": "stream",
     "text": [
      "Number of outliers: 21\n"
     ]
    }
   ],
   "source": [
    "# Count the number of rows in the filtered DataFrame\n",
    "num_outliers = len(kurunegala_df[kurunegala_df['HCHO Reading Z-Score']<-2.5])\n",
    "print(\"Number of outliers:\", num_outliers)"
   ]
  },
  {
   "cell_type": "markdown",
   "metadata": {},
   "source": [
    "Removing outliers in Kurunegala"
   ]
  },
  {
   "cell_type": "code",
   "execution_count": null,
   "metadata": {},
   "outputs": [],
   "source": [
    "outlier_indexes = []\n",
    "outlier_indexes.extend(kurunegala_df.index[kurunegala_df['HCHO Reading Z-Score']>2.5].tolist())\n",
    "outlier_indexes.extend(kurunegala_df.index[kurunegala_df['HCHO Reading Z-Score']<-2.5].tolist())\n",
    "new_kurunegala_df = kurunegala_df.drop(kurunegala_df.index[outlier_indexes])"
   ]
  },
  {
   "cell_type": "markdown",
   "metadata": {},
   "source": [
    "Checking the difference of the dataframes "
   ]
  },
  {
   "cell_type": "code",
   "execution_count": null,
   "metadata": {},
   "outputs": [],
   "source": [
    "new_kurunegala_df.shape[0], kurunegala_df.shape[0]"
   ]
  },
  {
   "cell_type": "markdown",
   "metadata": {},
   "source": [
    "Dropping HCHO Reading Z-Score column from the new dataframe"
   ]
  },
  {
   "cell_type": "code",
   "execution_count": null,
   "metadata": {},
   "outputs": [],
   "source": [
    "new_kurunegala_df.drop('HCHO Reading Z-Score', axis = 1)"
   ]
  },
  {
   "cell_type": "markdown",
   "metadata": {},
   "source": [
    "After removing outliers in Kurunegala dataframe"
   ]
  },
  {
   "cell_type": "code",
   "execution_count": null,
   "metadata": {},
   "outputs": [],
   "source": [
    "plt.hist(new_kurunegala_df['HCHO Reading'])\n",
    "plt.xlabel('HCHO Reading')\n",
    "plt.ylabel('Value')\n",
    "plt.title('Histogram of Kurunegala DataFrame')"
   ]
  },
  {
   "cell_type": "markdown",
   "metadata": {},
   "source": [
    "#### Combining datasets"
   ]
  },
  {
   "cell_type": "code",
   "execution_count": null,
   "metadata": {},
   "outputs": [
    {
     "data": {
      "text/html": [
       "<div>\n",
       "<style scoped>\n",
       "    .dataframe tbody tr th:only-of-type {\n",
       "        vertical-align: middle;\n",
       "    }\n",
       "\n",
       "    .dataframe tbody tr th {\n",
       "        vertical-align: top;\n",
       "    }\n",
       "\n",
       "    .dataframe thead th {\n",
       "        text-align: right;\n",
       "    }\n",
       "</style>\n",
       "<table border=\"1\" class=\"dataframe\">\n",
       "  <thead>\n",
       "    <tr style=\"text-align: right;\">\n",
       "      <th></th>\n",
       "      <th>HCHO Reading</th>\n",
       "      <th>Location</th>\n",
       "      <th>Current Date</th>\n",
       "      <th>Next Date</th>\n",
       "      <th>HCHO Reading Z-Score</th>\n",
       "    </tr>\n",
       "  </thead>\n",
       "  <tbody>\n",
       "    <tr>\n",
       "      <th>0</th>\n",
       "      <td>0.000263</td>\n",
       "      <td>Colombo Proper</td>\n",
       "      <td>1/2/2019</td>\n",
       "      <td>1/3/2019</td>\n",
       "      <td>1.890288</td>\n",
       "    </tr>\n",
       "    <tr>\n",
       "      <th>1</th>\n",
       "      <td>0.000099</td>\n",
       "      <td>Colombo Proper</td>\n",
       "      <td>1/3/2019</td>\n",
       "      <td>1/4/2019</td>\n",
       "      <td>-0.285089</td>\n",
       "    </tr>\n",
       "    <tr>\n",
       "      <th>2</th>\n",
       "      <td>0.000210</td>\n",
       "      <td>Colombo Proper</td>\n",
       "      <td>1/4/2019</td>\n",
       "      <td>1/5/2019</td>\n",
       "      <td>1.192442</td>\n",
       "    </tr>\n",
       "    <tr>\n",
       "      <th>3</th>\n",
       "      <td>0.000179</td>\n",
       "      <td>Colombo Proper</td>\n",
       "      <td>1/5/2019</td>\n",
       "      <td>1/6/2019</td>\n",
       "      <td>0.776041</td>\n",
       "    </tr>\n",
       "    <tr>\n",
       "      <th>4</th>\n",
       "      <td>0.000108</td>\n",
       "      <td>Colombo Proper</td>\n",
       "      <td>1/6/2019</td>\n",
       "      <td>1/7/2019</td>\n",
       "      <td>-0.156330</td>\n",
       "    </tr>\n",
       "    <tr>\n",
       "      <th>...</th>\n",
       "      <td>...</td>\n",
       "      <td>...</td>\n",
       "      <td>...</td>\n",
       "      <td>...</td>\n",
       "      <td>...</td>\n",
       "    </tr>\n",
       "    <tr>\n",
       "      <th>5472</th>\n",
       "      <td>NaN</td>\n",
       "      <td>Jaffna Proper</td>\n",
       "      <td>12/27/2023</td>\n",
       "      <td>12/28/2023</td>\n",
       "      <td>NaN</td>\n",
       "    </tr>\n",
       "    <tr>\n",
       "      <th>5473</th>\n",
       "      <td>0.000051</td>\n",
       "      <td>Jaffna Proper</td>\n",
       "      <td>12/28/2023</td>\n",
       "      <td>12/29/2023</td>\n",
       "      <td>-0.816731</td>\n",
       "    </tr>\n",
       "    <tr>\n",
       "      <th>5474</th>\n",
       "      <td>0.000127</td>\n",
       "      <td>Jaffna Proper</td>\n",
       "      <td>12/29/2023</td>\n",
       "      <td>12/30/2023</td>\n",
       "      <td>0.052804</td>\n",
       "    </tr>\n",
       "    <tr>\n",
       "      <th>5475</th>\n",
       "      <td>0.000117</td>\n",
       "      <td>Jaffna Proper</td>\n",
       "      <td>12/30/2023</td>\n",
       "      <td>12/31/2023</td>\n",
       "      <td>-0.063382</td>\n",
       "    </tr>\n",
       "    <tr>\n",
       "      <th>5476</th>\n",
       "      <td>0.000065</td>\n",
       "      <td>Jaffna Proper</td>\n",
       "      <td>12/31/2023</td>\n",
       "      <td>1/1/2024</td>\n",
       "      <td>-0.654996</td>\n",
       "    </tr>\n",
       "  </tbody>\n",
       "</table>\n",
       "<p>12444 rows × 5 columns</p>\n",
       "</div>"
      ],
      "text/plain": [
       "      HCHO Reading        Location Current Date   Next Date  \\\n",
       "0         0.000263  Colombo Proper     1/2/2019    1/3/2019   \n",
       "1         0.000099  Colombo Proper     1/3/2019    1/4/2019   \n",
       "2         0.000210  Colombo Proper     1/4/2019    1/5/2019   \n",
       "3         0.000179  Colombo Proper     1/5/2019    1/6/2019   \n",
       "4         0.000108  Colombo Proper     1/6/2019    1/7/2019   \n",
       "...            ...             ...          ...         ...   \n",
       "5472           NaN   Jaffna Proper   12/27/2023  12/28/2023   \n",
       "5473      0.000051   Jaffna Proper   12/28/2023  12/29/2023   \n",
       "5474      0.000127   Jaffna Proper   12/29/2023  12/30/2023   \n",
       "5475      0.000117   Jaffna Proper   12/30/2023  12/31/2023   \n",
       "5476      0.000065   Jaffna Proper   12/31/2023    1/1/2024   \n",
       "\n",
       "      HCHO Reading Z-Score  \n",
       "0                 1.890288  \n",
       "1                -0.285089  \n",
       "2                 1.192442  \n",
       "3                 0.776041  \n",
       "4                -0.156330  \n",
       "...                    ...  \n",
       "5472                   NaN  \n",
       "5473             -0.816731  \n",
       "5474              0.052804  \n",
       "5475             -0.063382  \n",
       "5476             -0.654996  \n",
       "\n",
       "[12444 rows x 5 columns]"
      ]
     },
     "execution_count": 740,
     "metadata": {},
     "output_type": "execute_result"
    }
   ],
   "source": [
    "the_dataset = pd.concat([new_col_mat_nuw_output_df, new_kan_output_df, new_mon_kur_jaf_output_df], axis=0)  # Concatenate along rows (stacking)\n",
    "the_dataset"
   ]
  },
  {
   "cell_type": "markdown",
   "metadata": {},
   "source": [
    "Getting city vise mean, median and standard deviation across the entire dataset"
   ]
  },
  {
   "cell_type": "code",
   "execution_count": null,
   "metadata": {},
   "outputs": [
    {
     "data": {
      "text/html": [
       "<div>\n",
       "<style scoped>\n",
       "    .dataframe tbody tr th:only-of-type {\n",
       "        vertical-align: middle;\n",
       "    }\n",
       "\n",
       "    .dataframe tbody tr th {\n",
       "        vertical-align: top;\n",
       "    }\n",
       "\n",
       "    .dataframe thead th {\n",
       "        text-align: right;\n",
       "    }\n",
       "</style>\n",
       "<table border=\"1\" class=\"dataframe\">\n",
       "  <thead>\n",
       "    <tr style=\"text-align: right;\">\n",
       "      <th></th>\n",
       "      <th>mean</th>\n",
       "      <th>median</th>\n",
       "      <th>std</th>\n",
       "    </tr>\n",
       "    <tr>\n",
       "      <th>Location</th>\n",
       "      <th></th>\n",
       "      <th></th>\n",
       "      <th></th>\n",
       "    </tr>\n",
       "  </thead>\n",
       "  <tbody>\n",
       "    <tr>\n",
       "      <th>Bibile, Monaragala</th>\n",
       "      <td>0.000126</td>\n",
       "      <td>0.000124</td>\n",
       "      <td>0.000081</td>\n",
       "    </tr>\n",
       "    <tr>\n",
       "      <th>Colombo Proper</th>\n",
       "      <td>0.000138</td>\n",
       "      <td>0.000120</td>\n",
       "      <td>0.000068</td>\n",
       "    </tr>\n",
       "    <tr>\n",
       "      <th>Deniyaya, Matara</th>\n",
       "      <td>0.000104</td>\n",
       "      <td>0.000120</td>\n",
       "      <td>0.000054</td>\n",
       "    </tr>\n",
       "    <tr>\n",
       "      <th>Jaffna Proper</th>\n",
       "      <td>0.000106</td>\n",
       "      <td>0.000101</td>\n",
       "      <td>0.000066</td>\n",
       "    </tr>\n",
       "    <tr>\n",
       "      <th>Kandy Proper</th>\n",
       "      <td>0.000105</td>\n",
       "      <td>0.000105</td>\n",
       "      <td>0.000074</td>\n",
       "    </tr>\n",
       "    <tr>\n",
       "      <th>Kurunegala Proper</th>\n",
       "      <td>0.000131</td>\n",
       "      <td>0.000125</td>\n",
       "      <td>0.000076</td>\n",
       "    </tr>\n",
       "    <tr>\n",
       "      <th>Nuwara Eliya Proper</th>\n",
       "      <td>0.000108</td>\n",
       "      <td>0.000120</td>\n",
       "      <td>0.000049</td>\n",
       "    </tr>\n",
       "  </tbody>\n",
       "</table>\n",
       "</div>"
      ],
      "text/plain": [
       "                         mean    median       std\n",
       "Location                                         \n",
       "Bibile, Monaragala   0.000126  0.000124  0.000081\n",
       "Colombo Proper       0.000138  0.000120  0.000068\n",
       "Deniyaya, Matara     0.000104  0.000120  0.000054\n",
       "Jaffna Proper        0.000106  0.000101  0.000066\n",
       "Kandy Proper         0.000105  0.000105  0.000074\n",
       "Kurunegala Proper    0.000131  0.000125  0.000076\n",
       "Nuwara Eliya Proper  0.000108  0.000120  0.000049"
      ]
     },
     "execution_count": 741,
     "metadata": {},
     "output_type": "execute_result"
    }
   ],
   "source": [
    "# city_stats is a DataFrame containing the calculated statistics\n",
    "# groupby will groups the dataset by unique values in the 'Location' column\n",
    "# agg will applies aggregation function to 'HCHO Reading' column, it is used to calculate statistics from large dataset\n",
    "city_stats = the_dataset.groupby('Location')['HCHO Reading'].agg(['mean', 'median', 'std'])\n",
    "\n",
    "# Rename the columns\n",
    "# city_stats.columns = ['Mean', 'Median', 'Standard Deviation']\n",
    "# print(city_stats)\n",
    "city_stats"
   ]
  },
  {
   "cell_type": "markdown",
   "metadata": {},
   "source": [
    "Visualization data distribution "
   ]
  },
  {
   "cell_type": "code",
   "execution_count": null,
   "metadata": {},
   "outputs": [
    {
     "name": "stderr",
     "output_type": "stream",
     "text": [
      "C:\\Users\\deela\\AppData\\Local\\Temp\\ipykernel_14028\\2545492642.py:11: FutureWarning: \n",
      "\n",
      "The `ci` parameter is deprecated. Use `errorbar=None` for the same effect.\n",
      "\n",
      "  sns.barplot(data=col_mat_nuw_output_df, x='Location', y='HCHO Reading', ax=axes[0, 0], estimator='mean', ci=None)\n"
     ]
    },
    {
     "data": {
      "image/png": "[encoded data removed]",
      "text/plain": [
       "<Figure size 1800x1000 with 5 Axes>"
      ]
     },
     "metadata": {},
     "output_type": "display_data"
    }
   ],
   "source": [
    "import seaborn as sns\n",
    "import matplotlib.pyplot as plt\n",
    "\n",
    "# Set the style of seaborn plots\n",
    "sns.set_style(\"whitegrid\")\n",
    "\n",
    "# Create a figure and axis object\n",
    "fig, axes = plt.subplots(nrows=2, ncols=3, figsize=(18, 10))\n",
    "\n",
    "# Plot mean HCHO readings for each city\n",
    "sns.barplot(data=col_mat_nuw_output_df, x='Location', y='HCHO Reading', ax=axes[0, 0], estimator='mean', ci=None)\n",
    "axes[0, 0].set_title('Mean HCHO Readings by City')\n",
    "axes[0, 0].set_xlabel('City')\n",
    "axes[0, 0].set_ylabel('Mean HCHO Reading')\n",
    "\n",
    "# Plot median HCHO readings for each city\n",
    "sns.boxplot(data=col_mat_nuw_output_df, x='Location', y='HCHO Reading', ax=axes[0, 1])\n",
    "axes[0, 1].set_title('Median HCHO Readings by City')\n",
    "axes[0, 1].set_xlabel('City')\n",
    "axes[0, 1].set_ylabel('HCHO Reading')\n",
    "\n",
    "# Iterate through each city and create histograms\n",
    "for i, (city, data) in enumerate(col_mat_nuw_output_df.groupby('Location')):\n",
    "    row = i // 3\n",
    "    col = i % 3\n",
    "    sns.histplot(data=data, x='HCHO Reading', ax=axes[1, i], bins=20, kde=True)\n",
    "    axes[1, i].set_title(f'Histogram of HCHO Readings in {city}')\n",
    "    axes[1, i].set_xlabel('HCHO Reading')\n",
    "    axes[1, i].set_ylabel('Frequency')\n",
    "\n",
    "# Remove empty subplot\n",
    "fig.delaxes(axes[1, 2])\n",
    "\n",
    "# Adjust layout\n",
    "plt.tight_layout()\n",
    "plt.show()"
   ]
  },
  {
   "cell_type": "code",
   "execution_count": null,
   "metadata": {},
   "outputs": [],
   "source": []
  }
 ],
 "metadata": {
  "kernelspec": {
   "display_name": "Python 3",
   "language": "python",
   "name": "python3"
  },
  "language_info": {
   "codemirror_mode": {
    "name": "ipython",
    "version": 3
   },
   "file_extension": ".py",
   "mimetype": "text/x-python",
   "name": "python",
   "nbconvert_exporter": "python",
   "pygments_lexer": "ipython3",
   "version": "3.12.1"
  }
 },
 "nbformat": 4,
 "nbformat_minor": 2
}
