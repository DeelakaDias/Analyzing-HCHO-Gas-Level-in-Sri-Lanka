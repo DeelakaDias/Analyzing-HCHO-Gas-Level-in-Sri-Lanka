{
 "cells": [
  {
   "cell_type": "markdown",
   "metadata": {},
   "source": [
    "Question 1 - Data Preprocessing"
   ]
  },
  {
   "cell_type": "code",
   "execution_count": 397,
   "metadata": {},
   "outputs": [],
   "source": [
    "import pandas as pd\n",
    "import numpy as np\n",
    "import seaborn as sns\n",
    "import matplotlib.pyplot as plt"
   ]
  },
  {
   "cell_type": "code",
   "execution_count": 398,
   "metadata": {},
   "outputs": [],
   "source": [
    "col_mat_nuw_output_df = pd.read_csv('col_mat_nuw_output.csv')\n",
    "kandy_df = pd.read_csv('kan_output.csv')\n",
    "mon_kur_jaf_output_df = pd.read_csv('mon_kur_jaf_output.csv')"
   ]
  },
  {
   "cell_type": "code",
   "execution_count": 399,
   "metadata": {},
   "outputs": [],
   "source": [
    "col_mat_nuw_output_df.columns = ['HCHO Reading', 'Location', 'Current Date', 'Next Date']\n",
    "kandy_df.columns = ['HCHO Reading', 'Location', 'Current Date', 'Next Date']\n",
    "mon_kur_jaf_output_df.columns = ['HCHO Reading', 'Location', 'Current Date', 'Next Date']"
   ]
  },
  {
   "cell_type": "code",
   "execution_count": 400,
   "metadata": {},
   "outputs": [],
   "source": [
    "colombo_df = col_mat_nuw_output_df[col_mat_nuw_output_df['Location'] == 'Colombo Proper']\n",
    "nuwaraeliya_df = col_mat_nuw_output_df[col_mat_nuw_output_df['Location'] == 'Nuwara Eliya Proper']\n",
    "matara_df = col_mat_nuw_output_df[col_mat_nuw_output_df['Location'] == 'Deniyaya, Matara']\n",
    "kandy_df\n",
    "monaragala_df = mon_kur_jaf_output_df[mon_kur_jaf_output_df['Location'] == 'Bibile, Monaragala']\n",
    "kurunegala_df = mon_kur_jaf_output_df[mon_kur_jaf_output_df['Location'] == 'Kurunegala Proper']\n",
    "jaffna_df = mon_kur_jaf_output_df[mon_kur_jaf_output_df['Location'] == 'Jaffna Proper']"
   ]
  },
  {
   "cell_type": "code",
   "execution_count": 401,
   "metadata": {},
   "outputs": [
    {
     "data": {
      "text/html": [
       "<div>\n",
       "<style scoped>\n",
       "    .dataframe tbody tr th:only-of-type {\n",
       "        vertical-align: middle;\n",
       "    }\n",
       "\n",
       "    .dataframe tbody tr th {\n",
       "        vertical-align: top;\n",
       "    }\n",
       "\n",
       "    .dataframe thead th {\n",
       "        text-align: right;\n",
       "    }\n",
       "</style>\n",
       "<table border=\"1\" class=\"dataframe\">\n",
       "  <thead>\n",
       "    <tr style=\"text-align: right;\">\n",
       "      <th></th>\n",
       "      <th>HCHO Reading</th>\n",
       "      <th>Location</th>\n",
       "      <th>Current Date</th>\n",
       "      <th>Next Date</th>\n",
       "    </tr>\n",
       "  </thead>\n",
       "  <tbody>\n",
       "    <tr>\n",
       "      <th>0</th>\n",
       "      <td>0.000263</td>\n",
       "      <td>Colombo Proper</td>\n",
       "      <td>1/2/2019</td>\n",
       "      <td>1/3/2019</td>\n",
       "    </tr>\n",
       "    <tr>\n",
       "      <th>1</th>\n",
       "      <td>0.000099</td>\n",
       "      <td>Colombo Proper</td>\n",
       "      <td>1/3/2019</td>\n",
       "      <td>1/4/2019</td>\n",
       "    </tr>\n",
       "    <tr>\n",
       "      <th>2</th>\n",
       "      <td>0.000210</td>\n",
       "      <td>Colombo Proper</td>\n",
       "      <td>1/4/2019</td>\n",
       "      <td>1/5/2019</td>\n",
       "    </tr>\n",
       "    <tr>\n",
       "      <th>3</th>\n",
       "      <td>0.000179</td>\n",
       "      <td>Colombo Proper</td>\n",
       "      <td>1/5/2019</td>\n",
       "      <td>1/6/2019</td>\n",
       "    </tr>\n",
       "    <tr>\n",
       "      <th>4</th>\n",
       "      <td>0.000108</td>\n",
       "      <td>Colombo Proper</td>\n",
       "      <td>1/6/2019</td>\n",
       "      <td>1/7/2019</td>\n",
       "    </tr>\n",
       "    <tr>\n",
       "      <th>...</th>\n",
       "      <td>...</td>\n",
       "      <td>...</td>\n",
       "      <td>...</td>\n",
       "      <td>...</td>\n",
       "    </tr>\n",
       "    <tr>\n",
       "      <th>1820</th>\n",
       "      <td>0.000118</td>\n",
       "      <td>Colombo Proper</td>\n",
       "      <td>12/27/2023</td>\n",
       "      <td>12/28/2023</td>\n",
       "    </tr>\n",
       "    <tr>\n",
       "      <th>1821</th>\n",
       "      <td>NaN</td>\n",
       "      <td>Colombo Proper</td>\n",
       "      <td>12/28/2023</td>\n",
       "      <td>12/29/2023</td>\n",
       "    </tr>\n",
       "    <tr>\n",
       "      <th>1822</th>\n",
       "      <td>NaN</td>\n",
       "      <td>Colombo Proper</td>\n",
       "      <td>12/29/2023</td>\n",
       "      <td>12/30/2023</td>\n",
       "    </tr>\n",
       "    <tr>\n",
       "      <th>1823</th>\n",
       "      <td>0.000140</td>\n",
       "      <td>Colombo Proper</td>\n",
       "      <td>12/30/2023</td>\n",
       "      <td>12/31/2023</td>\n",
       "    </tr>\n",
       "    <tr>\n",
       "      <th>1824</th>\n",
       "      <td>0.000080</td>\n",
       "      <td>Colombo Proper</td>\n",
       "      <td>12/31/2023</td>\n",
       "      <td>1/1/2024</td>\n",
       "    </tr>\n",
       "  </tbody>\n",
       "</table>\n",
       "<p>1825 rows × 4 columns</p>\n",
       "</div>"
      ],
      "text/plain": [
       "      HCHO Reading        Location Current Date   Next Date\n",
       "0         0.000263  Colombo Proper     1/2/2019    1/3/2019\n",
       "1         0.000099  Colombo Proper     1/3/2019    1/4/2019\n",
       "2         0.000210  Colombo Proper     1/4/2019    1/5/2019\n",
       "3         0.000179  Colombo Proper     1/5/2019    1/6/2019\n",
       "4         0.000108  Colombo Proper     1/6/2019    1/7/2019\n",
       "...            ...             ...          ...         ...\n",
       "1820      0.000118  Colombo Proper   12/27/2023  12/28/2023\n",
       "1821           NaN  Colombo Proper   12/28/2023  12/29/2023\n",
       "1822           NaN  Colombo Proper   12/29/2023  12/30/2023\n",
       "1823      0.000140  Colombo Proper   12/30/2023  12/31/2023\n",
       "1824      0.000080  Colombo Proper   12/31/2023    1/1/2024\n",
       "\n",
       "[1825 rows x 4 columns]"
      ]
     },
     "execution_count": 401,
     "metadata": {},
     "output_type": "execute_result"
    }
   ],
   "source": [
    "colombo_df"
   ]
  },
  {
   "cell_type": "code",
   "execution_count": 402,
   "metadata": {},
   "outputs": [
    {
     "data": {
      "text/html": [
       "<div>\n",
       "<style scoped>\n",
       "    .dataframe tbody tr th:only-of-type {\n",
       "        vertical-align: middle;\n",
       "    }\n",
       "\n",
       "    .dataframe tbody tr th {\n",
       "        vertical-align: top;\n",
       "    }\n",
       "\n",
       "    .dataframe thead th {\n",
       "        text-align: right;\n",
       "    }\n",
       "</style>\n",
       "<table border=\"1\" class=\"dataframe\">\n",
       "  <thead>\n",
       "    <tr style=\"text-align: right;\">\n",
       "      <th></th>\n",
       "      <th>HCHO Reading</th>\n",
       "      <th>Location</th>\n",
       "      <th>Current Date</th>\n",
       "      <th>Next Date</th>\n",
       "    </tr>\n",
       "  </thead>\n",
       "  <tbody>\n",
       "    <tr>\n",
       "      <th>0</th>\n",
       "      <td>NaN</td>\n",
       "      <td>Nuwara Eliya Proper</td>\n",
       "      <td>1/1/2019</td>\n",
       "      <td>1/2/2019</td>\n",
       "    </tr>\n",
       "    <tr>\n",
       "      <th>1</th>\n",
       "      <td>NaN</td>\n",
       "      <td>Nuwara Eliya Proper</td>\n",
       "      <td>1/2/2019</td>\n",
       "      <td>1/3/2019</td>\n",
       "    </tr>\n",
       "    <tr>\n",
       "      <th>2</th>\n",
       "      <td>0.000191</td>\n",
       "      <td>Nuwara Eliya Proper</td>\n",
       "      <td>1/3/2019</td>\n",
       "      <td>1/4/2019</td>\n",
       "    </tr>\n",
       "    <tr>\n",
       "      <th>3</th>\n",
       "      <td>0.000051</td>\n",
       "      <td>Nuwara Eliya Proper</td>\n",
       "      <td>1/4/2019</td>\n",
       "      <td>1/5/2019</td>\n",
       "    </tr>\n",
       "    <tr>\n",
       "      <th>4</th>\n",
       "      <td>0.000065</td>\n",
       "      <td>Nuwara Eliya Proper</td>\n",
       "      <td>1/5/2019</td>\n",
       "      <td>1/6/2019</td>\n",
       "    </tr>\n",
       "    <tr>\n",
       "      <th>...</th>\n",
       "      <td>...</td>\n",
       "      <td>...</td>\n",
       "      <td>...</td>\n",
       "      <td>...</td>\n",
       "    </tr>\n",
       "    <tr>\n",
       "      <th>1821</th>\n",
       "      <td>NaN</td>\n",
       "      <td>Nuwara Eliya Proper</td>\n",
       "      <td>12/27/2023</td>\n",
       "      <td>12/28/2023</td>\n",
       "    </tr>\n",
       "    <tr>\n",
       "      <th>1822</th>\n",
       "      <td>NaN</td>\n",
       "      <td>Nuwara Eliya Proper</td>\n",
       "      <td>12/28/2023</td>\n",
       "      <td>12/29/2023</td>\n",
       "    </tr>\n",
       "    <tr>\n",
       "      <th>1823</th>\n",
       "      <td>NaN</td>\n",
       "      <td>Nuwara Eliya Proper</td>\n",
       "      <td>12/29/2023</td>\n",
       "      <td>12/30/2023</td>\n",
       "    </tr>\n",
       "    <tr>\n",
       "      <th>1824</th>\n",
       "      <td>NaN</td>\n",
       "      <td>Nuwara Eliya Proper</td>\n",
       "      <td>12/30/2023</td>\n",
       "      <td>12/31/2023</td>\n",
       "    </tr>\n",
       "    <tr>\n",
       "      <th>1825</th>\n",
       "      <td>NaN</td>\n",
       "      <td>Nuwara Eliya Proper</td>\n",
       "      <td>12/31/2023</td>\n",
       "      <td>1/1/2024</td>\n",
       "    </tr>\n",
       "  </tbody>\n",
       "</table>\n",
       "<p>1826 rows × 4 columns</p>\n",
       "</div>"
      ],
      "text/plain": [
       "      HCHO Reading             Location Current Date   Next Date\n",
       "0              NaN  Nuwara Eliya Proper     1/1/2019    1/2/2019\n",
       "1              NaN  Nuwara Eliya Proper     1/2/2019    1/3/2019\n",
       "2         0.000191  Nuwara Eliya Proper     1/3/2019    1/4/2019\n",
       "3         0.000051  Nuwara Eliya Proper     1/4/2019    1/5/2019\n",
       "4         0.000065  Nuwara Eliya Proper     1/5/2019    1/6/2019\n",
       "...            ...                  ...          ...         ...\n",
       "1821           NaN  Nuwara Eliya Proper   12/27/2023  12/28/2023\n",
       "1822           NaN  Nuwara Eliya Proper   12/28/2023  12/29/2023\n",
       "1823           NaN  Nuwara Eliya Proper   12/29/2023  12/30/2023\n",
       "1824           NaN  Nuwara Eliya Proper   12/30/2023  12/31/2023\n",
       "1825           NaN  Nuwara Eliya Proper   12/31/2023    1/1/2024\n",
       "\n",
       "[1826 rows x 4 columns]"
      ]
     },
     "execution_count": 402,
     "metadata": {},
     "output_type": "execute_result"
    }
   ],
   "source": [
    "# Reset the index to the default integer index\n",
    "nuwaraeliya_df.reset_index(drop=True, inplace=True)\n",
    "nuwaraeliya_df"
   ]
  },
  {
   "cell_type": "code",
   "execution_count": 403,
   "metadata": {},
   "outputs": [
    {
     "data": {
      "text/html": [
       "<div>\n",
       "<style scoped>\n",
       "    .dataframe tbody tr th:only-of-type {\n",
       "        vertical-align: middle;\n",
       "    }\n",
       "\n",
       "    .dataframe tbody tr th {\n",
       "        vertical-align: top;\n",
       "    }\n",
       "\n",
       "    .dataframe thead th {\n",
       "        text-align: right;\n",
       "    }\n",
       "</style>\n",
       "<table border=\"1\" class=\"dataframe\">\n",
       "  <thead>\n",
       "    <tr style=\"text-align: right;\">\n",
       "      <th></th>\n",
       "      <th>HCHO Reading</th>\n",
       "      <th>Location</th>\n",
       "      <th>Current Date</th>\n",
       "      <th>Next Date</th>\n",
       "    </tr>\n",
       "  </thead>\n",
       "  <tbody>\n",
       "    <tr>\n",
       "      <th>0</th>\n",
       "      <td>NaN</td>\n",
       "      <td>Deniyaya, Matara</td>\n",
       "      <td>1/1/2019</td>\n",
       "      <td>1/2/2019</td>\n",
       "    </tr>\n",
       "    <tr>\n",
       "      <th>1</th>\n",
       "      <td>0.000006</td>\n",
       "      <td>Deniyaya, Matara</td>\n",
       "      <td>1/2/2019</td>\n",
       "      <td>1/3/2019</td>\n",
       "    </tr>\n",
       "    <tr>\n",
       "      <th>2</th>\n",
       "      <td>0.000236</td>\n",
       "      <td>Deniyaya, Matara</td>\n",
       "      <td>1/3/2019</td>\n",
       "      <td>1/4/2019</td>\n",
       "    </tr>\n",
       "    <tr>\n",
       "      <th>3</th>\n",
       "      <td>0.000064</td>\n",
       "      <td>Deniyaya, Matara</td>\n",
       "      <td>1/4/2019</td>\n",
       "      <td>1/5/2019</td>\n",
       "    </tr>\n",
       "    <tr>\n",
       "      <th>4</th>\n",
       "      <td>0.000053</td>\n",
       "      <td>Deniyaya, Matara</td>\n",
       "      <td>1/5/2019</td>\n",
       "      <td>1/6/2019</td>\n",
       "    </tr>\n",
       "    <tr>\n",
       "      <th>...</th>\n",
       "      <td>...</td>\n",
       "      <td>...</td>\n",
       "      <td>...</td>\n",
       "      <td>...</td>\n",
       "    </tr>\n",
       "    <tr>\n",
       "      <th>1821</th>\n",
       "      <td>0.000228</td>\n",
       "      <td>Deniyaya, Matara</td>\n",
       "      <td>12/27/2023</td>\n",
       "      <td>12/28/2023</td>\n",
       "    </tr>\n",
       "    <tr>\n",
       "      <th>1822</th>\n",
       "      <td>NaN</td>\n",
       "      <td>Deniyaya, Matara</td>\n",
       "      <td>12/28/2023</td>\n",
       "      <td>12/29/2023</td>\n",
       "    </tr>\n",
       "    <tr>\n",
       "      <th>1823</th>\n",
       "      <td>NaN</td>\n",
       "      <td>Deniyaya, Matara</td>\n",
       "      <td>12/29/2023</td>\n",
       "      <td>12/30/2023</td>\n",
       "    </tr>\n",
       "    <tr>\n",
       "      <th>1824</th>\n",
       "      <td>0.000116</td>\n",
       "      <td>Deniyaya, Matara</td>\n",
       "      <td>12/30/2023</td>\n",
       "      <td>12/31/2023</td>\n",
       "    </tr>\n",
       "    <tr>\n",
       "      <th>1825</th>\n",
       "      <td>NaN</td>\n",
       "      <td>Deniyaya, Matara</td>\n",
       "      <td>12/31/2023</td>\n",
       "      <td>1/1/2024</td>\n",
       "    </tr>\n",
       "  </tbody>\n",
       "</table>\n",
       "<p>1826 rows × 4 columns</p>\n",
       "</div>"
      ],
      "text/plain": [
       "      HCHO Reading          Location Current Date   Next Date\n",
       "0              NaN  Deniyaya, Matara     1/1/2019    1/2/2019\n",
       "1         0.000006  Deniyaya, Matara     1/2/2019    1/3/2019\n",
       "2         0.000236  Deniyaya, Matara     1/3/2019    1/4/2019\n",
       "3         0.000064  Deniyaya, Matara     1/4/2019    1/5/2019\n",
       "4         0.000053  Deniyaya, Matara     1/5/2019    1/6/2019\n",
       "...            ...               ...          ...         ...\n",
       "1821      0.000228  Deniyaya, Matara   12/27/2023  12/28/2023\n",
       "1822           NaN  Deniyaya, Matara   12/28/2023  12/29/2023\n",
       "1823           NaN  Deniyaya, Matara   12/29/2023  12/30/2023\n",
       "1824      0.000116  Deniyaya, Matara   12/30/2023  12/31/2023\n",
       "1825           NaN  Deniyaya, Matara   12/31/2023    1/1/2024\n",
       "\n",
       "[1826 rows x 4 columns]"
      ]
     },
     "execution_count": 403,
     "metadata": {},
     "output_type": "execute_result"
    }
   ],
   "source": [
    "# Reset the index to the default integer index\n",
    "matara_df.reset_index(drop=True, inplace=True)\n",
    "matara_df"
   ]
  },
  {
   "cell_type": "code",
   "execution_count": 404,
   "metadata": {},
   "outputs": [
    {
     "data": {
      "text/html": [
       "<div>\n",
       "<style scoped>\n",
       "    .dataframe tbody tr th:only-of-type {\n",
       "        vertical-align: middle;\n",
       "    }\n",
       "\n",
       "    .dataframe tbody tr th {\n",
       "        vertical-align: top;\n",
       "    }\n",
       "\n",
       "    .dataframe thead th {\n",
       "        text-align: right;\n",
       "    }\n",
       "</style>\n",
       "<table border=\"1\" class=\"dataframe\">\n",
       "  <thead>\n",
       "    <tr style=\"text-align: right;\">\n",
       "      <th></th>\n",
       "      <th>HCHO Reading</th>\n",
       "      <th>Location</th>\n",
       "      <th>Current Date</th>\n",
       "      <th>Next Date</th>\n",
       "    </tr>\n",
       "  </thead>\n",
       "  <tbody>\n",
       "    <tr>\n",
       "      <th>0</th>\n",
       "      <td>0.000092</td>\n",
       "      <td>Kandy Proper</td>\n",
       "      <td>1/2/2019</td>\n",
       "      <td>1/3/2019</td>\n",
       "    </tr>\n",
       "    <tr>\n",
       "      <th>1</th>\n",
       "      <td>NaN</td>\n",
       "      <td>Kandy Proper</td>\n",
       "      <td>1/3/2019</td>\n",
       "      <td>1/4/2019</td>\n",
       "    </tr>\n",
       "    <tr>\n",
       "      <th>2</th>\n",
       "      <td>0.000191</td>\n",
       "      <td>Kandy Proper</td>\n",
       "      <td>1/4/2019</td>\n",
       "      <td>1/5/2019</td>\n",
       "    </tr>\n",
       "    <tr>\n",
       "      <th>3</th>\n",
       "      <td>0.000122</td>\n",
       "      <td>Kandy Proper</td>\n",
       "      <td>1/5/2019</td>\n",
       "      <td>1/6/2019</td>\n",
       "    </tr>\n",
       "    <tr>\n",
       "      <th>4</th>\n",
       "      <td>-0.000065</td>\n",
       "      <td>Kandy Proper</td>\n",
       "      <td>1/6/2019</td>\n",
       "      <td>1/7/2019</td>\n",
       "    </tr>\n",
       "    <tr>\n",
       "      <th>...</th>\n",
       "      <td>...</td>\n",
       "      <td>...</td>\n",
       "      <td>...</td>\n",
       "      <td>...</td>\n",
       "    </tr>\n",
       "    <tr>\n",
       "      <th>1820</th>\n",
       "      <td>NaN</td>\n",
       "      <td>Kandy Proper</td>\n",
       "      <td>12/27/2023</td>\n",
       "      <td>12/28/2023</td>\n",
       "    </tr>\n",
       "    <tr>\n",
       "      <th>1821</th>\n",
       "      <td>NaN</td>\n",
       "      <td>Kandy Proper</td>\n",
       "      <td>12/28/2023</td>\n",
       "      <td>12/29/2023</td>\n",
       "    </tr>\n",
       "    <tr>\n",
       "      <th>1822</th>\n",
       "      <td>NaN</td>\n",
       "      <td>Kandy Proper</td>\n",
       "      <td>12/29/2023</td>\n",
       "      <td>12/30/2023</td>\n",
       "    </tr>\n",
       "    <tr>\n",
       "      <th>1823</th>\n",
       "      <td>0.000056</td>\n",
       "      <td>Kandy Proper</td>\n",
       "      <td>12/30/2023</td>\n",
       "      <td>12/31/2023</td>\n",
       "    </tr>\n",
       "    <tr>\n",
       "      <th>1824</th>\n",
       "      <td>NaN</td>\n",
       "      <td>Kandy Proper</td>\n",
       "      <td>12/31/2023</td>\n",
       "      <td>1/1/2024</td>\n",
       "    </tr>\n",
       "  </tbody>\n",
       "</table>\n",
       "<p>1825 rows × 4 columns</p>\n",
       "</div>"
      ],
      "text/plain": [
       "      HCHO Reading      Location Current Date   Next Date\n",
       "0         0.000092  Kandy Proper     1/2/2019    1/3/2019\n",
       "1              NaN  Kandy Proper     1/3/2019    1/4/2019\n",
       "2         0.000191  Kandy Proper     1/4/2019    1/5/2019\n",
       "3         0.000122  Kandy Proper     1/5/2019    1/6/2019\n",
       "4        -0.000065  Kandy Proper     1/6/2019    1/7/2019\n",
       "...            ...           ...          ...         ...\n",
       "1820           NaN  Kandy Proper   12/27/2023  12/28/2023\n",
       "1821           NaN  Kandy Proper   12/28/2023  12/29/2023\n",
       "1822           NaN  Kandy Proper   12/29/2023  12/30/2023\n",
       "1823      0.000056  Kandy Proper   12/30/2023  12/31/2023\n",
       "1824           NaN  Kandy Proper   12/31/2023    1/1/2024\n",
       "\n",
       "[1825 rows x 4 columns]"
      ]
     },
     "execution_count": 404,
     "metadata": {},
     "output_type": "execute_result"
    }
   ],
   "source": [
    "# Reset the index to the default integer index\n",
    "kandy_df.reset_index(drop=True, inplace=True)\n",
    "kandy_df"
   ]
  },
  {
   "cell_type": "code",
   "execution_count": 405,
   "metadata": {},
   "outputs": [
    {
     "data": {
      "text/html": [
       "<div>\n",
       "<style scoped>\n",
       "    .dataframe tbody tr th:only-of-type {\n",
       "        vertical-align: middle;\n",
       "    }\n",
       "\n",
       "    .dataframe tbody tr th {\n",
       "        vertical-align: top;\n",
       "    }\n",
       "\n",
       "    .dataframe thead th {\n",
       "        text-align: right;\n",
       "    }\n",
       "</style>\n",
       "<table border=\"1\" class=\"dataframe\">\n",
       "  <thead>\n",
       "    <tr style=\"text-align: right;\">\n",
       "      <th></th>\n",
       "      <th>HCHO Reading</th>\n",
       "      <th>Location</th>\n",
       "      <th>Current Date</th>\n",
       "      <th>Next Date</th>\n",
       "    </tr>\n",
       "  </thead>\n",
       "  <tbody>\n",
       "    <tr>\n",
       "      <th>0</th>\n",
       "      <td>0.000019</td>\n",
       "      <td>Bibile, Monaragala</td>\n",
       "      <td>1/2/2019</td>\n",
       "      <td>1/3/2019</td>\n",
       "    </tr>\n",
       "    <tr>\n",
       "      <th>1</th>\n",
       "      <td>0.000028</td>\n",
       "      <td>Bibile, Monaragala</td>\n",
       "      <td>1/3/2019</td>\n",
       "      <td>1/4/2019</td>\n",
       "    </tr>\n",
       "    <tr>\n",
       "      <th>2</th>\n",
       "      <td>0.000037</td>\n",
       "      <td>Bibile, Monaragala</td>\n",
       "      <td>1/4/2019</td>\n",
       "      <td>1/5/2019</td>\n",
       "    </tr>\n",
       "    <tr>\n",
       "      <th>3</th>\n",
       "      <td>-0.000018</td>\n",
       "      <td>Bibile, Monaragala</td>\n",
       "      <td>1/5/2019</td>\n",
       "      <td>1/6/2019</td>\n",
       "    </tr>\n",
       "    <tr>\n",
       "      <th>4</th>\n",
       "      <td>0.000146</td>\n",
       "      <td>Bibile, Monaragala</td>\n",
       "      <td>1/6/2019</td>\n",
       "      <td>1/7/2019</td>\n",
       "    </tr>\n",
       "    <tr>\n",
       "      <th>...</th>\n",
       "      <td>...</td>\n",
       "      <td>...</td>\n",
       "      <td>...</td>\n",
       "      <td>...</td>\n",
       "    </tr>\n",
       "    <tr>\n",
       "      <th>1820</th>\n",
       "      <td>NaN</td>\n",
       "      <td>Bibile, Monaragala</td>\n",
       "      <td>12/27/2023</td>\n",
       "      <td>12/28/2023</td>\n",
       "    </tr>\n",
       "    <tr>\n",
       "      <th>1821</th>\n",
       "      <td>NaN</td>\n",
       "      <td>Bibile, Monaragala</td>\n",
       "      <td>12/28/2023</td>\n",
       "      <td>12/29/2023</td>\n",
       "    </tr>\n",
       "    <tr>\n",
       "      <th>1822</th>\n",
       "      <td>NaN</td>\n",
       "      <td>Bibile, Monaragala</td>\n",
       "      <td>12/29/2023</td>\n",
       "      <td>12/30/2023</td>\n",
       "    </tr>\n",
       "    <tr>\n",
       "      <th>1823</th>\n",
       "      <td>NaN</td>\n",
       "      <td>Bibile, Monaragala</td>\n",
       "      <td>12/30/2023</td>\n",
       "      <td>12/31/2023</td>\n",
       "    </tr>\n",
       "    <tr>\n",
       "      <th>1824</th>\n",
       "      <td>NaN</td>\n",
       "      <td>Bibile, Monaragala</td>\n",
       "      <td>12/31/2023</td>\n",
       "      <td>1/1/2024</td>\n",
       "    </tr>\n",
       "  </tbody>\n",
       "</table>\n",
       "<p>1825 rows × 4 columns</p>\n",
       "</div>"
      ],
      "text/plain": [
       "      HCHO Reading            Location Current Date   Next Date\n",
       "0         0.000019  Bibile, Monaragala     1/2/2019    1/3/2019\n",
       "1         0.000028  Bibile, Monaragala     1/3/2019    1/4/2019\n",
       "2         0.000037  Bibile, Monaragala     1/4/2019    1/5/2019\n",
       "3        -0.000018  Bibile, Monaragala     1/5/2019    1/6/2019\n",
       "4         0.000146  Bibile, Monaragala     1/6/2019    1/7/2019\n",
       "...            ...                 ...          ...         ...\n",
       "1820           NaN  Bibile, Monaragala   12/27/2023  12/28/2023\n",
       "1821           NaN  Bibile, Monaragala   12/28/2023  12/29/2023\n",
       "1822           NaN  Bibile, Monaragala   12/29/2023  12/30/2023\n",
       "1823           NaN  Bibile, Monaragala   12/30/2023  12/31/2023\n",
       "1824           NaN  Bibile, Monaragala   12/31/2023    1/1/2024\n",
       "\n",
       "[1825 rows x 4 columns]"
      ]
     },
     "execution_count": 405,
     "metadata": {},
     "output_type": "execute_result"
    }
   ],
   "source": [
    "# Reset the index to the default integer index\n",
    "monaragala_df.reset_index(drop=True, inplace=True)\n",
    "monaragala_df"
   ]
  },
  {
   "cell_type": "code",
   "execution_count": 406,
   "metadata": {},
   "outputs": [
    {
     "data": {
      "text/html": [
       "<div>\n",
       "<style scoped>\n",
       "    .dataframe tbody tr th:only-of-type {\n",
       "        vertical-align: middle;\n",
       "    }\n",
       "\n",
       "    .dataframe tbody tr th {\n",
       "        vertical-align: top;\n",
       "    }\n",
       "\n",
       "    .dataframe thead th {\n",
       "        text-align: right;\n",
       "    }\n",
       "</style>\n",
       "<table border=\"1\" class=\"dataframe\">\n",
       "  <thead>\n",
       "    <tr style=\"text-align: right;\">\n",
       "      <th></th>\n",
       "      <th>HCHO Reading</th>\n",
       "      <th>Location</th>\n",
       "      <th>Current Date</th>\n",
       "      <th>Next Date</th>\n",
       "    </tr>\n",
       "  </thead>\n",
       "  <tbody>\n",
       "    <tr>\n",
       "      <th>0</th>\n",
       "      <td>0.000088</td>\n",
       "      <td>Kurunegala Proper</td>\n",
       "      <td>1/1/2019</td>\n",
       "      <td>1/2/2019</td>\n",
       "    </tr>\n",
       "    <tr>\n",
       "      <th>1</th>\n",
       "      <td>0.000137</td>\n",
       "      <td>Kurunegala Proper</td>\n",
       "      <td>1/2/2019</td>\n",
       "      <td>1/3/2019</td>\n",
       "    </tr>\n",
       "    <tr>\n",
       "      <th>2</th>\n",
       "      <td>0.000148</td>\n",
       "      <td>Kurunegala Proper</td>\n",
       "      <td>1/3/2019</td>\n",
       "      <td>1/4/2019</td>\n",
       "    </tr>\n",
       "    <tr>\n",
       "      <th>3</th>\n",
       "      <td>-0.000002</td>\n",
       "      <td>Kurunegala Proper</td>\n",
       "      <td>1/4/2019</td>\n",
       "      <td>1/5/2019</td>\n",
       "    </tr>\n",
       "    <tr>\n",
       "      <th>4</th>\n",
       "      <td>0.000249</td>\n",
       "      <td>Kurunegala Proper</td>\n",
       "      <td>1/5/2019</td>\n",
       "      <td>1/6/2019</td>\n",
       "    </tr>\n",
       "    <tr>\n",
       "      <th>...</th>\n",
       "      <td>...</td>\n",
       "      <td>...</td>\n",
       "      <td>...</td>\n",
       "      <td>...</td>\n",
       "    </tr>\n",
       "    <tr>\n",
       "      <th>1821</th>\n",
       "      <td>0.000075</td>\n",
       "      <td>Kurunegala Proper</td>\n",
       "      <td>12/27/2023</td>\n",
       "      <td>12/28/2023</td>\n",
       "    </tr>\n",
       "    <tr>\n",
       "      <th>1822</th>\n",
       "      <td>NaN</td>\n",
       "      <td>Kurunegala Proper</td>\n",
       "      <td>12/28/2023</td>\n",
       "      <td>12/29/2023</td>\n",
       "    </tr>\n",
       "    <tr>\n",
       "      <th>1823</th>\n",
       "      <td>NaN</td>\n",
       "      <td>Kurunegala Proper</td>\n",
       "      <td>12/29/2023</td>\n",
       "      <td>12/30/2023</td>\n",
       "    </tr>\n",
       "    <tr>\n",
       "      <th>1824</th>\n",
       "      <td>0.000158</td>\n",
       "      <td>Kurunegala Proper</td>\n",
       "      <td>12/30/2023</td>\n",
       "      <td>12/31/2023</td>\n",
       "    </tr>\n",
       "    <tr>\n",
       "      <th>1825</th>\n",
       "      <td>NaN</td>\n",
       "      <td>Kurunegala Proper</td>\n",
       "      <td>12/31/2023</td>\n",
       "      <td>1/1/2024</td>\n",
       "    </tr>\n",
       "  </tbody>\n",
       "</table>\n",
       "<p>1826 rows × 4 columns</p>\n",
       "</div>"
      ],
      "text/plain": [
       "      HCHO Reading           Location Current Date   Next Date\n",
       "0         0.000088  Kurunegala Proper     1/1/2019    1/2/2019\n",
       "1         0.000137  Kurunegala Proper     1/2/2019    1/3/2019\n",
       "2         0.000148  Kurunegala Proper     1/3/2019    1/4/2019\n",
       "3        -0.000002  Kurunegala Proper     1/4/2019    1/5/2019\n",
       "4         0.000249  Kurunegala Proper     1/5/2019    1/6/2019\n",
       "...            ...                ...          ...         ...\n",
       "1821      0.000075  Kurunegala Proper   12/27/2023  12/28/2023\n",
       "1822           NaN  Kurunegala Proper   12/28/2023  12/29/2023\n",
       "1823           NaN  Kurunegala Proper   12/29/2023  12/30/2023\n",
       "1824      0.000158  Kurunegala Proper   12/30/2023  12/31/2023\n",
       "1825           NaN  Kurunegala Proper   12/31/2023    1/1/2024\n",
       "\n",
       "[1826 rows x 4 columns]"
      ]
     },
     "execution_count": 406,
     "metadata": {},
     "output_type": "execute_result"
    }
   ],
   "source": [
    "# Reset the index to the default integer index\n",
    "kurunegala_df.reset_index(drop=True, inplace=True)\n",
    "kurunegala_df"
   ]
  },
  {
   "cell_type": "code",
   "execution_count": 407,
   "metadata": {},
   "outputs": [
    {
     "data": {
      "text/html": [
       "<div>\n",
       "<style scoped>\n",
       "    .dataframe tbody tr th:only-of-type {\n",
       "        vertical-align: middle;\n",
       "    }\n",
       "\n",
       "    .dataframe tbody tr th {\n",
       "        vertical-align: top;\n",
       "    }\n",
       "\n",
       "    .dataframe thead th {\n",
       "        text-align: right;\n",
       "    }\n",
       "</style>\n",
       "<table border=\"1\" class=\"dataframe\">\n",
       "  <thead>\n",
       "    <tr style=\"text-align: right;\">\n",
       "      <th></th>\n",
       "      <th>HCHO Reading</th>\n",
       "      <th>Location</th>\n",
       "      <th>Current Date</th>\n",
       "      <th>Next Date</th>\n",
       "    </tr>\n",
       "  </thead>\n",
       "  <tbody>\n",
       "    <tr>\n",
       "      <th>0</th>\n",
       "      <td>0.000058</td>\n",
       "      <td>Jaffna Proper</td>\n",
       "      <td>1/1/2019</td>\n",
       "      <td>1/2/2019</td>\n",
       "    </tr>\n",
       "    <tr>\n",
       "      <th>1</th>\n",
       "      <td>0.000102</td>\n",
       "      <td>Jaffna Proper</td>\n",
       "      <td>1/2/2019</td>\n",
       "      <td>1/3/2019</td>\n",
       "    </tr>\n",
       "    <tr>\n",
       "      <th>2</th>\n",
       "      <td>0.000039</td>\n",
       "      <td>Jaffna Proper</td>\n",
       "      <td>1/3/2019</td>\n",
       "      <td>1/4/2019</td>\n",
       "    </tr>\n",
       "    <tr>\n",
       "      <th>3</th>\n",
       "      <td>-0.000002</td>\n",
       "      <td>Jaffna Proper</td>\n",
       "      <td>1/4/2019</td>\n",
       "      <td>1/5/2019</td>\n",
       "    </tr>\n",
       "    <tr>\n",
       "      <th>4</th>\n",
       "      <td>0.000159</td>\n",
       "      <td>Jaffna Proper</td>\n",
       "      <td>1/5/2019</td>\n",
       "      <td>1/6/2019</td>\n",
       "    </tr>\n",
       "    <tr>\n",
       "      <th>...</th>\n",
       "      <td>...</td>\n",
       "      <td>...</td>\n",
       "      <td>...</td>\n",
       "      <td>...</td>\n",
       "    </tr>\n",
       "    <tr>\n",
       "      <th>1821</th>\n",
       "      <td>NaN</td>\n",
       "      <td>Jaffna Proper</td>\n",
       "      <td>12/27/2023</td>\n",
       "      <td>12/28/2023</td>\n",
       "    </tr>\n",
       "    <tr>\n",
       "      <th>1822</th>\n",
       "      <td>0.000051</td>\n",
       "      <td>Jaffna Proper</td>\n",
       "      <td>12/28/2023</td>\n",
       "      <td>12/29/2023</td>\n",
       "    </tr>\n",
       "    <tr>\n",
       "      <th>1823</th>\n",
       "      <td>0.000127</td>\n",
       "      <td>Jaffna Proper</td>\n",
       "      <td>12/29/2023</td>\n",
       "      <td>12/30/2023</td>\n",
       "    </tr>\n",
       "    <tr>\n",
       "      <th>1824</th>\n",
       "      <td>0.000117</td>\n",
       "      <td>Jaffna Proper</td>\n",
       "      <td>12/30/2023</td>\n",
       "      <td>12/31/2023</td>\n",
       "    </tr>\n",
       "    <tr>\n",
       "      <th>1825</th>\n",
       "      <td>0.000065</td>\n",
       "      <td>Jaffna Proper</td>\n",
       "      <td>12/31/2023</td>\n",
       "      <td>1/1/2024</td>\n",
       "    </tr>\n",
       "  </tbody>\n",
       "</table>\n",
       "<p>1826 rows × 4 columns</p>\n",
       "</div>"
      ],
      "text/plain": [
       "      HCHO Reading       Location Current Date   Next Date\n",
       "0         0.000058  Jaffna Proper     1/1/2019    1/2/2019\n",
       "1         0.000102  Jaffna Proper     1/2/2019    1/3/2019\n",
       "2         0.000039  Jaffna Proper     1/3/2019    1/4/2019\n",
       "3        -0.000002  Jaffna Proper     1/4/2019    1/5/2019\n",
       "4         0.000159  Jaffna Proper     1/5/2019    1/6/2019\n",
       "...            ...            ...          ...         ...\n",
       "1821           NaN  Jaffna Proper   12/27/2023  12/28/2023\n",
       "1822      0.000051  Jaffna Proper   12/28/2023  12/29/2023\n",
       "1823      0.000127  Jaffna Proper   12/29/2023  12/30/2023\n",
       "1824      0.000117  Jaffna Proper   12/30/2023  12/31/2023\n",
       "1825      0.000065  Jaffna Proper   12/31/2023    1/1/2024\n",
       "\n",
       "[1826 rows x 4 columns]"
      ]
     },
     "execution_count": 407,
     "metadata": {},
     "output_type": "execute_result"
    }
   ],
   "source": [
    "# Reset the index to the default integer index\n",
    "jaffna_df.reset_index(drop=True, inplace=True)\n",
    "jaffna_df"
   ]
  },
  {
   "cell_type": "markdown",
   "metadata": {},
   "source": [
    "Identifying Unique Values in the Colombo dataframe "
   ]
  },
  {
   "cell_type": "code",
   "execution_count": 408,
   "metadata": {},
   "outputs": [
    {
     "name": "stdout",
     "output_type": "stream",
     "text": [
      "HCHO Reading unique values\n",
      "Number of unique values: 1334\n",
      "[2.62552000e-04 9.85211890e-05 2.09932000e-04 ... 1.18177000e-04\n",
      " 1.39825000e-04 8.03631756e-05]\n",
      "\n",
      "\n",
      "Location unique values\n",
      "Number of unique values: 1\n",
      "['Colombo Proper']\n",
      "\n",
      "\n",
      "Current Date unique values\n",
      "Number of unique values: 1825\n",
      "['1/2/2019' '1/3/2019' '1/4/2019' ... '12/29/2023' '12/30/2023'\n",
      " '12/31/2023']\n",
      "\n",
      "\n",
      "Next Date unique values\n",
      "Number of unique values: 1825\n",
      "['1/3/2019' '1/4/2019' '1/5/2019' ... '12/30/2023' '12/31/2023' '1/1/2024']\n",
      "\n",
      "\n"
     ]
    }
   ],
   "source": [
    "for column in colombo_df.columns:\n",
    "    unique_values = colombo_df[column].unique()\n",
    "    print((f\"{column} unique values\"))\n",
    "    count = colombo_df[column].nunique()  # Count the number of unique values\n",
    "    print(\"Number of unique values:\", count)\n",
    "    print(unique_values)\n",
    "    print('\\n')"
   ]
  },
  {
   "cell_type": "markdown",
   "metadata": {},
   "source": [
    "Identifying Unique Values in the Nuwara Eliya Proper dataframe "
   ]
  },
  {
   "cell_type": "code",
   "execution_count": 409,
   "metadata": {},
   "outputs": [
    {
     "name": "stdout",
     "output_type": "stream",
     "text": [
      "HCHO Reading unique values\n",
      "Number of unique values: 736\n",
      "[            nan  1.90829000e-04  5.09762592e-05  6.45664550e-05\n",
      "  8.98234871e-05  4.09779765e-05  3.91467079e-05  4.21195073e-05\n",
      "  4.27055257e-05  1.07716000e-04  2.10219839e-05  3.51778226e-05\n",
      "  8.95718212e-06  1.16962000e-04  1.42318000e-04  5.38708622e-05\n",
      "  5.89143533e-05  3.34438000e-04  1.50902000e-04  1.84157000e-04\n",
      "  3.05440239e-05  3.60086104e-05  7.77807709e-05  8.96299652e-05\n",
      "  6.90284223e-05  5.53942951e-05  7.97233442e-05  1.73309000e-04\n",
      "  2.39569000e-04  1.07572000e-04 -7.77000000e-05 -2.50000000e-05\n",
      "  1.89522000e-04  2.73759000e-04  1.23541000e-04  1.47726000e-04\n",
      "  6.38419225e-05  1.67322000e-04  8.08444347e-05  6.54363296e-05\n",
      "  6.15293096e-05  2.62652000e-04  9.74569110e-05  1.54761000e-04\n",
      "  1.26522000e-04  3.81896059e-05 -4.17000000e-06  6.84548511e-05\n",
      "  1.18457000e-04  2.33706000e-04  5.82033919e-05  8.72299354e-05\n",
      "  9.74602725e-05  1.69282000e-04  1.94070000e-04  1.99954000e-04\n",
      "  1.03086000e-04  1.34549000e-04  1.44983000e-04  1.42528000e-04\n",
      "  1.19684000e-04  1.02917000e-04  6.75781542e-05 -3.02000000e-05\n",
      "  1.40836000e-04  1.90591000e-04 -5.74000000e-05  1.02500000e-04\n",
      "  1.74259000e-04  2.95512000e-04 -4.44000000e-05  7.11150193e-05\n",
      "  1.09327000e-04  1.20338000e-04  1.33692000e-04  7.00253350e-05\n",
      "  4.38834601e-05  1.05541000e-04  1.03646000e-04  5.81859057e-05\n",
      "  2.15186000e-04  1.52070000e-04  8.89659667e-05  2.79097000e-04\n",
      "  2.22136000e-04  1.34367000e-04  2.70244000e-04  8.03184896e-05\n",
      "  1.22287000e-04 -5.06000000e-05  3.63415616e-05  1.19564000e-04\n",
      "  9.84078342e-05  1.37013000e-04  5.09276990e-05  3.00916000e-04\n",
      "  5.58798216e-05  3.77253569e-05 -1.77000000e-05 -7.58000000e-05\n",
      "  1.04295000e-04  8.85870477e-05 -1.57000000e-05  1.98969000e-04\n",
      "  6.07448853e-05  1.01215000e-04  8.27565387e-05  8.29160231e-06\n",
      "  4.31764052e-05  9.22991980e-05  1.47937000e-04  6.17899932e-05\n",
      "  1.34803000e-04  8.07471131e-05  1.26000000e-04  1.10539000e-04\n",
      "  1.08616000e-04  5.76218820e-05  1.62349000e-04  1.73852000e-04\n",
      " -1.91000000e-05  1.17776000e-04  1.36927000e-04  1.86319000e-04\n",
      "  2.47797000e-04  1.29230000e-04  1.16964000e-04  5.91179841e-05\n",
      "  3.32988538e-05  9.43390869e-05  1.65933000e-04  1.18471000e-04\n",
      "  1.11455000e-04  4.18751719e-05  1.61724000e-04  1.08011000e-04\n",
      "  7.75167171e-05  1.32974000e-04  5.65116990e-05 -4.56000000e-05\n",
      " -3.06000000e-05 -6.11000000e-05  3.79950529e-05 -3.32000000e-05\n",
      " -4.96000000e-06  2.82110261e-05  9.44583937e-05  8.64964670e-05\n",
      "  3.34142338e-05  1.16730000e-04  4.98768137e-05  2.59387000e-04\n",
      "  8.98216414e-05  3.65725937e-05  4.00684437e-05  1.03721000e-04\n",
      " -3.03000000e-05  2.68005978e-05  8.08974291e-05  2.14473000e-04\n",
      "  1.06030000e-04 -1.45000000e-06  1.19749000e-04  2.01945000e-04\n",
      "  1.87574000e-04  1.79697000e-04  4.99043381e-05  1.06391702e-05\n",
      " -1.84000000e-05  1.71508000e-04  6.06012173e-05  5.14475688e-05\n",
      " -2.25000000e-05  1.51130100e-05 -3.05000000e-07  2.05930000e-04\n",
      "  2.44977946e-05  5.23851870e-06 -4.43000000e-05  8.49098855e-05\n",
      "  5.03709774e-05  1.93608000e-04  2.83713893e-05  1.80207747e-05\n",
      "  7.97194652e-05  2.22106000e-04  1.15958000e-04  6.42111969e-05\n",
      " -4.04000000e-05  1.25409000e-04  9.52797199e-05  5.42439143e-05\n",
      "  4.82814265e-05  3.19632636e-06  1.00858000e-04  3.27183000e-04\n",
      " -1.65262000e-04 -3.83000000e-05  2.33385000e-04  5.04457421e-06\n",
      " -4.99000000e-05  2.51456000e-04  1.59723222e-05  2.41623080e-05\n",
      "  8.76551196e-05  1.54718000e-04  1.33870000e-04 -2.01000000e-05\n",
      "  2.57027714e-05  7.98634058e-05  1.38218000e-04  1.31764000e-04\n",
      "  6.65018218e-05  1.97387000e-04  7.76533594e-05  1.41090000e-04\n",
      "  6.29920063e-05  1.50620000e-04  2.87754000e-04  2.17995000e-04\n",
      "  1.68092000e-04  1.58741000e-04  2.79084892e-05  8.69223078e-05\n",
      "  9.32195306e-05  1.18255000e-04  1.03830000e-04  1.61056000e-04\n",
      "  2.92621000e-04  1.56387000e-04  1.27607000e-04  1.53453000e-04\n",
      "  2.35833000e-04  1.26974000e-04  1.19620000e-04  1.16469000e-04\n",
      "  5.91303068e-05  8.65004017e-05  2.23096000e-04  1.47948000e-04\n",
      "  5.10346908e-05  1.21327000e-04  2.31002000e-04  4.42032388e-05\n",
      "  9.31143989e-05  2.30059000e-04  1.56172000e-04  1.74579000e-04\n",
      " -9.75000000e-05  1.70517000e-04  1.38219000e-04  9.98736802e-05\n",
      "  7.62493846e-05  5.38664869e-05  1.12223000e-04  1.59226000e-04\n",
      "  2.12387000e-04  1.61419000e-04  4.89365910e-05  1.31648000e-04\n",
      "  3.00987675e-05  1.53768000e-04  1.14110000e-04  2.80143753e-05\n",
      " -2.65000000e-05 -1.40000000e-05  4.44510878e-05  8.10286921e-05\n",
      "  1.41800270e-05  1.91463283e-05  2.08954000e-04  6.68503774e-05\n",
      "  8.12249954e-05  1.29812000e-04  4.55068793e-05  3.25383000e-04\n",
      " -1.54888000e-04  8.53139979e-05  3.39448907e-05  6.37920530e-05\n",
      "  2.41087000e-04 -6.67000000e-05  9.36165558e-05  2.93137581e-05\n",
      "  1.47083000e-04  2.25364000e-04  1.59411000e-04  6.76577105e-05\n",
      "  6.40892696e-05  8.56501958e-05  3.47148040e-05  1.54368000e-04\n",
      "  1.14113000e-04  7.77897684e-05  3.43412524e-05  1.58933000e-04\n",
      " -5.18000000e-06 -2.15000000e-05  1.44452000e-04  1.00770000e-04\n",
      "  2.81094245e-05  6.76439455e-06  1.18446000e-04  2.06212000e-04\n",
      "  1.44151457e-05  5.53378568e-05  5.53492541e-05  3.92583845e-05\n",
      " -8.45000000e-05  2.48701000e-04  2.95663383e-05  2.59855599e-05\n",
      "  7.66936586e-05  7.17762642e-05  1.63316000e-04  7.26861475e-05\n",
      "  4.08860572e-05  2.36039000e-04  1.64178000e-04  3.94012044e-05\n",
      "  1.83079144e-05  3.33866281e-05 -3.97000000e-05  8.66762611e-05\n",
      "  6.73548534e-05  2.37818781e-05  7.40532626e-05  1.29105000e-04\n",
      "  4.06618448e-05  1.08379000e-04 -4.88000000e-05  7.11275020e-05\n",
      "  6.44445403e-05  2.93592388e-05  1.86335692e-05  1.13733000e-04\n",
      "  7.76286731e-05  1.64054228e-06  1.06091000e-04  5.76526036e-05\n",
      "  8.45954719e-05  1.80144000e-04  2.14224000e-04 -2.95000000e-05\n",
      "  5.55212176e-05  4.10170750e-05  4.07221581e-05 -1.44000000e-05\n",
      " -3.54000000e-05  1.11855000e-04  5.38102830e-05  2.23121000e-04\n",
      " -6.76000000e-05  3.68967000e-04  6.40189803e-05  8.73690013e-05\n",
      "  2.77166000e-04 -8.61000000e-05  1.27904000e-04  2.57725032e-05\n",
      "  1.33266000e-04  1.06813000e-04  1.86930000e-04  1.06158000e-04\n",
      "  1.68855000e-04  1.02215167e-05  1.34302000e-04  1.22424000e-04\n",
      "  1.46926000e-04  1.82040000e-04  6.09919659e-05  1.87612736e-05\n",
      "  1.04209000e-04  1.97239000e-04  1.35993000e-04  1.50914000e-04\n",
      " -4.98000000e-06  6.94946206e-05  1.28825000e-04 -6.37000000e-05\n",
      "  1.05882000e-04  1.92948000e-04  2.18268000e-04  4.99387569e-05\n",
      "  6.66906459e-06  1.09858000e-04  1.52014000e-04  1.13247000e-04\n",
      " -4.84000000e-06 -2.55000000e-05 -2.37000000e-05  9.05799194e-05\n",
      "  5.10538630e-05  7.56114594e-05  1.03857000e-04  1.16170000e-04\n",
      "  2.09925000e-04  8.69614863e-05  2.62811000e-04  1.69288966e-05\n",
      "  1.19079000e-04  1.67591000e-04  1.37719000e-04  5.02203620e-05\n",
      "  2.28021000e-04  1.25729000e-04  2.57435000e-04  7.38946523e-05\n",
      "  1.07145809e-05  2.41336000e-04  1.03225000e-04 -1.08930000e-04\n",
      "  1.15540000e-04  2.16107000e-04  1.39869123e-06  6.81892385e-05\n",
      "  1.61143000e-04 -2.78000000e-05  1.34065000e-04  4.19136000e-04\n",
      "  7.45346962e-06 -9.33000000e-06  4.03665323e-05  1.49227000e-04\n",
      "  1.46783000e-04 -3.32000000e-06  1.66540000e-04  2.18691000e-04\n",
      " -3.69000000e-05  1.40962124e-05 -7.03000000e-06 -1.52000000e-05\n",
      "  8.86814207e-05  1.36913000e-04  8.49216169e-06  2.41592782e-05\n",
      "  7.45639532e-05  4.21258503e-05  1.65905000e-04  1.75636000e-04\n",
      "  6.10985245e-06 -4.12000000e-05  1.02903000e-04  2.43788885e-05\n",
      "  6.67102410e-05  1.11131000e-04  3.19935893e-05  1.25991000e-04\n",
      "  3.51133389e-05  2.46511147e-05  3.48995316e-05  3.69204919e-06\n",
      " -7.93000000e-06  1.56823000e-04 -2.99000000e-05  7.42778781e-05\n",
      " -3.37000000e-05  6.45055614e-05  4.56664905e-05  4.27022475e-05\n",
      "  1.60673000e-04  8.38161878e-06  1.11587676e-05  1.82135000e-04\n",
      " -1.10000000e-05  1.37563000e-04 -5.87000000e-05  1.66436000e-04\n",
      "  1.83896000e-04 -6.45000000e-07  4.26413939e-05  1.27754000e-04\n",
      "  5.22396207e-05  1.20468000e-04  4.48524190e-05  4.80690996e-05\n",
      "  6.30274219e-05  1.36849000e-04  3.77978574e-05  6.85470936e-05\n",
      "  1.75038000e-04  1.11189000e-04  8.70756150e-05  1.46049000e-04\n",
      "  5.59392501e-05  1.15798000e-04 -9.66000000e-05 -2.27000000e-05\n",
      "  6.38245963e-05  9.70064800e-05  9.59334189e-05  2.01339000e-04\n",
      "  2.13706000e-04 -3.81000000e-05  2.57569000e-04  1.75617000e-04\n",
      "  8.28998629e-05 -3.22000000e-05  1.18894000e-04  3.03485499e-05\n",
      "  4.70300326e-05  3.11301000e-04  3.30063000e-04  2.30738000e-04\n",
      "  8.89937271e-05  2.18921779e-05  3.83677140e-05  9.75711753e-05\n",
      "  1.91752000e-04  4.60632814e-05  6.17967067e-05  2.05872293e-05\n",
      "  9.14994820e-05  2.39154000e-04  7.42872456e-05  3.51786111e-05\n",
      "  7.60170813e-05  9.86136138e-05  1.54159000e-04  1.80558000e-04\n",
      "  4.08796188e-05  8.17421503e-05  3.23299974e-05  5.08280575e-05\n",
      "  6.37457919e-05  9.47335980e-06  1.78715000e-04  8.27662036e-05\n",
      "  2.41255000e-04  9.88581898e-05  1.25904639e-05  1.51968682e-05\n",
      "  2.50342000e-04  4.39645999e-05  1.44469000e-04  1.49948000e-04\n",
      "  8.29209909e-05  5.57560383e-05 -2.71000000e-05  1.29214614e-05\n",
      "  3.72286851e-05  1.05860000e-04  1.74515347e-05  1.17837000e-04\n",
      "  1.66913371e-05 -2.04000000e-05  5.17248893e-05  1.27098000e-04\n",
      "  6.21218884e-06  1.88747000e-04  7.25836810e-05  1.28354000e-04\n",
      " -1.11000000e-05  7.99317874e-05  7.26698801e-05  1.06762000e-04\n",
      "  2.68381464e-06  1.24740000e-04  4.41742582e-05  1.18233000e-04\n",
      "  8.16849287e-05  2.20305000e-04  4.55805473e-05  3.97321750e-05\n",
      "  2.92456156e-05  9.62327020e-05  1.71872056e-05 -3.24000000e-05\n",
      "  1.25491000e-04  1.61661000e-04  1.15123000e-04  1.19289000e-04\n",
      "  1.83582000e-04  5.85867484e-05  1.28586000e-04  6.42506175e-07\n",
      "  7.02417340e-05 -6.87000000e-06  2.56407000e-04  1.74066458e-05\n",
      "  1.19844000e-04  8.23826855e-05  1.18958000e-04 -1.65000000e-05\n",
      "  5.11456670e-05  1.02392000e-04  1.69761000e-04  1.55751000e-04\n",
      "  9.27530805e-05  1.17486699e-05  9.18903635e-06  2.07155463e-05\n",
      "  1.92524272e-05  1.86479000e-04 -8.92000000e-06  4.36330277e-07\n",
      "  1.22030000e-04  2.06941023e-05 -8.23000000e-05  1.08771000e-04\n",
      "  8.22908087e-05  2.79266520e-05 -3.57000000e-06  1.20528000e-04\n",
      "  6.25156020e-05  5.43835623e-05  7.92981529e-05  4.99045289e-05\n",
      "  1.18048000e-04  2.44325917e-05  1.46677000e-04  1.42860000e-04\n",
      " -3.23000000e-06  2.07565000e-04  2.33963000e-04  3.48115000e-04\n",
      "  9.00140756e-05  1.31280000e-04  1.17332000e-04  4.92908497e-05\n",
      "  1.55060000e-04  1.17487000e-04  8.97004273e-05  9.82315788e-05\n",
      "  1.60196000e-04  9.15179508e-05  2.03798992e-05  1.11787000e-04\n",
      "  1.10204000e-04  3.91837603e-05  1.16563000e-04  5.48234642e-05\n",
      "  2.62215639e-05  8.00202719e-05  7.25995280e-05  9.67145857e-05\n",
      "  1.79120000e-04  1.14927000e-04 -6.24000000e-06  1.26284000e-04\n",
      "  1.85385000e-04  1.52667000e-04 -8.97000000e-05  1.57742503e-05\n",
      "  7.19119068e-05 -3.45000000e-05  1.01809000e-04  5.14801112e-05\n",
      "  4.25042835e-05  3.52499620e-05  7.57397498e-05  1.34843000e-04\n",
      "  1.31085000e-04  1.68055000e-04  5.24645545e-05  5.65204014e-05\n",
      "  8.51418170e-05  1.13572000e-04 -1.24000000e-05  1.62145000e-04\n",
      "  1.20479000e-04  1.28260000e-04  5.30661323e-05  9.00591349e-05\n",
      "  1.76081000e-04  6.65411704e-05 -5.95000000e-05  1.22334000e-04\n",
      "  4.96450117e-05  1.17131000e-04  6.89554145e-05  2.60369123e-05\n",
      " -1.61000000e-05  1.15903000e-04  2.71877000e-04  2.22345000e-04\n",
      "  6.98768611e-05  1.91802000e-04  3.66724000e-04  2.69298134e-05\n",
      "  1.84799000e-04  4.55067468e-05  6.92919900e-05  5.51857908e-05\n",
      "  4.41175637e-05  8.48664379e-05  9.21464737e-06  2.24091000e-04\n",
      "  1.36361000e-04  6.09334242e-05 -7.69000000e-05  7.67273190e-05\n",
      "  2.26918000e-04  4.17935332e-05  5.49907992e-05 -7.92000000e-05\n",
      " -2.59000000e-06  6.81087572e-05  1.88080000e-04  1.65616000e-04\n",
      " -1.51581000e-04  2.23604000e-04 -3.19000000e-05  1.00633000e-04\n",
      "  1.37493000e-04 -6.67000000e-06  1.78898000e-04  1.01196000e-04\n",
      " -7.25000000e-05  5.30855877e-05  5.59952097e-05 -4.49000000e-05\n",
      "  1.36509000e-04  1.90781276e-05  1.07012000e-04  1.04120000e-04\n",
      "  4.31144003e-05  1.71964000e-04  6.45475874e-05  4.30639555e-05\n",
      "  1.08550837e-05  3.09695032e-05  1.21648000e-04  2.31531000e-04\n",
      " -2.92000000e-05  6.49224015e-05  8.88789285e-05  7.55069632e-05\n",
      "  2.25023958e-05  1.18919000e-04  8.27906377e-05  4.08670410e-05\n",
      "  3.63297718e-05 -1.78604000e-04  1.07861000e-04  5.93039927e-06\n",
      "  2.36988000e-04]\n",
      "\n",
      "\n",
      "Location unique values\n",
      "Number of unique values: 1\n",
      "['Nuwara Eliya Proper']\n",
      "\n",
      "\n",
      "Current Date unique values\n",
      "Number of unique values: 1826\n",
      "['1/1/2019' '1/2/2019' '1/3/2019' ... '12/29/2023' '12/30/2023'\n",
      " '12/31/2023']\n",
      "\n",
      "\n",
      "Next Date unique values\n",
      "Number of unique values: 1826\n",
      "['1/2/2019' '1/3/2019' '1/4/2019' ... '12/30/2023' '12/31/2023' '1/1/2024']\n",
      "\n",
      "\n"
     ]
    }
   ],
   "source": [
    "for column in nuwaraeliya_df.columns:\n",
    "    unique_values = nuwaraeliya_df[column].unique()\n",
    "    print((f\"{column} unique values\"))\n",
    "    count = nuwaraeliya_df[column].nunique()  # Count the number of unique values\n",
    "    print(\"Number of unique values:\", count)\n",
    "    print(unique_values)\n",
    "    print('\\n')"
   ]
  },
  {
   "cell_type": "markdown",
   "metadata": {},
   "source": [
    "Identifying Unique Values in the Matara dataframe "
   ]
  },
  {
   "cell_type": "code",
   "execution_count": 410,
   "metadata": {},
   "outputs": [
    {
     "name": "stdout",
     "output_type": "stream",
     "text": [
      "HCHO Reading unique values\n",
      "Number of unique values: 974\n",
      "[            nan  5.80353071e-06  2.36236000e-04  6.43724575e-05\n",
      "  5.34970709e-05  1.31559000e-04  6.26985990e-05  2.29826398e-05\n",
      "  7.19024719e-05  1.54209000e-04  1.40699000e-04  7.18731171e-05\n",
      "  3.50530754e-05  1.69485000e-04  3.08226000e-04  8.99710000e-04\n",
      "  6.03752663e-05 -7.58000000e-05  3.36379187e-05  1.75318000e-04\n",
      "  5.27933139e-05  1.58652000e-04  1.03772000e-04  4.76808427e-05\n",
      "  5.61716879e-05 -1.38000000e-06  1.02884000e-04  1.03548000e-04\n",
      "  8.41286736e-05 -2.01000000e-06  1.49580000e-04  2.42151000e-04\n",
      "  9.25327654e-05  1.57410000e-04  6.52399423e-05 -1.20239000e-04\n",
      "  8.03873262e-05  5.63853000e-04  1.29382000e-04  1.16862000e-04\n",
      "  8.33750954e-05  2.51451051e-05  1.42507000e-04  1.36669000e-04\n",
      "  1.62763000e-04  1.54368000e-04  1.66393000e-04 -2.72000000e-05\n",
      "  4.12266000e-04  9.97173860e-05  1.35665000e-04  9.87355640e-05\n",
      "  5.64669891e-05  1.59014000e-04  1.17149000e-04  2.67832000e-04\n",
      "  1.97349000e-04  5.13548233e-05  4.45751284e-05  2.55188000e-04\n",
      "  8.95472412e-05  1.08107000e-04  1.88346000e-04  1.71728000e-04\n",
      "  3.32652000e-04  1.65050000e-04  1.78949000e-04  1.81803000e-04\n",
      "  4.04484709e-05 -3.03000000e-05  1.04630000e-04  8.12857395e-05\n",
      "  6.14966879e-05  9.29697299e-05  1.65911000e-04  1.43890000e-04\n",
      "  6.20313630e-05  8.42621303e-05  1.65576000e-04  2.24345000e-04\n",
      "  1.07694000e-04  1.16701000e-04  5.12579767e-05  1.78367000e-04\n",
      "  1.87150000e-04  1.51388000e-04  5.43414416e-05  7.52190474e-05\n",
      "  6.47791913e-05  8.90368852e-05  1.26605000e-04  1.18626000e-04\n",
      "  8.90418779e-05  2.94911447e-05  4.16907598e-05  9.75838250e-05\n",
      "  1.89066000e-04  1.19734000e-04  1.04988000e-04  9.65826581e-05\n",
      "  1.06682719e-05  3.14141000e-04  8.36003287e-05  5.23825613e-05\n",
      "  1.12702000e-04  1.10648000e-04  1.11356000e-04  1.30962000e-04\n",
      "  7.86053906e-05  1.94756694e-05  8.82573061e-05  2.60654000e-04\n",
      "  1.03490000e-04  9.79486329e-05  1.21773000e-04 -1.13000000e-05\n",
      "  3.62654725e-05  3.06672373e-05  5.93847659e-05  1.50188000e-04\n",
      "  8.48560046e-08  1.86587076e-05  8.07628970e-05  1.56513000e-04\n",
      "  7.82288322e-05  6.49114847e-05  1.01566000e-04  1.85422000e-04\n",
      "  9.51953525e-05  1.22118000e-04  3.51688233e-05  9.39998536e-05\n",
      "  9.81520582e-05  1.55183000e-04  3.06090384e-05  3.92053426e-05\n",
      "  2.75304968e-05  1.91779501e-06 -1.74000000e-05  1.64068739e-05\n",
      " -5.00000000e-06  1.33929000e-04 -7.04000000e-05  3.69348418e-05\n",
      "  6.79387627e-05  1.02711000e-04  7.76326130e-05  5.24553336e-05\n",
      " -1.66000000e-05  4.87077592e-05  1.18730250e-05  2.37394000e-04\n",
      "  6.79823022e-05  1.00333000e-04  6.41190352e-05  9.78157385e-05\n",
      "  9.79166291e-05  7.90093187e-05 -1.98000000e-05  4.32648929e-05\n",
      "  4.26375355e-05  8.72010809e-05  7.85577087e-05  2.78876797e-05\n",
      "  8.32022495e-05  1.96476032e-05  1.17836000e-04 -1.22667000e-04\n",
      "  4.61276932e-06 -5.01000000e-06  7.59858494e-05  1.83682832e-05\n",
      "  2.31705000e-04  2.29092000e-04 -1.99638000e-04  2.16198000e-04\n",
      "  1.87719000e-04  7.55339217e-05  2.23472000e-04  1.12883000e-04\n",
      "  5.81596227e-05 -9.73000000e-05  6.11161986e-05  1.11350000e-04\n",
      "  8.66928265e-05  6.16758887e-05  8.32967027e-05  1.58744000e-04\n",
      " -9.13000000e-06 -9.88000000e-05 -1.49404000e-04  8.08262347e-05\n",
      "  1.03990000e-04  1.54573000e-04  2.29098000e-04  6.27913213e-05\n",
      "  3.66815075e-05  4.62315489e-06  1.48637000e-04  1.22717000e-04\n",
      "  1.22921000e-04  1.87735000e-04  5.33076345e-05  3.73786382e-05\n",
      "  8.23990160e-05  1.17590000e-04  6.32282794e-05  2.80168000e-04\n",
      "  2.50807710e-05  1.12515000e-04  5.95821267e-05  3.44333960e-05\n",
      "  5.58247719e-05  4.32333909e-05  1.34830000e-04  7.34519810e-05\n",
      "  2.32136249e-05  5.41606649e-05  8.05068343e-05  4.71689577e-05\n",
      "  1.57778000e-04  1.79348000e-04  9.41050513e-05  1.15276000e-04\n",
      "  3.03448237e-05  7.06163746e-06 -3.06000000e-05  2.38016000e-04\n",
      "  8.64978857e-05  5.91281262e-05  1.12706000e-04  4.17683519e-05\n",
      "  1.06559000e-04  1.66137000e-04  7.27685550e-05  6.94214496e-05\n",
      "  1.88797000e-04  7.28597257e-05  2.52902000e-04  1.41513000e-04\n",
      "  7.15529212e-05  3.03427487e-06  2.12889000e-04  9.20719009e-05\n",
      "  1.35497000e-04  1.61702000e-04  1.74229000e-04  2.54006000e-04\n",
      "  3.37111562e-05  1.79413000e-04  2.20935000e-04  6.67424180e-05\n",
      "  1.22247000e-04  8.88390496e-05 -1.51000000e-05  1.41544000e-04\n",
      "  6.46906633e-05  2.31337907e-05  6.43561646e-05  1.47411000e-04\n",
      "  7.26180289e-05  2.43275000e-04  1.37147000e-04  3.19633000e-04\n",
      "  9.59098285e-05  8.15125561e-05  2.13395000e-04  8.80731849e-05\n",
      "  1.21226000e-04  1.86605000e-04  2.16461000e-04  1.45127000e-04\n",
      "  7.10749419e-05  1.42191030e-05  2.33615000e-04  6.55097115e-05\n",
      "  4.25575310e-05  1.20550000e-04  1.70681000e-04  1.90274000e-04\n",
      "  1.62692000e-04  1.39841000e-04  2.14959000e-04  1.54850000e-04\n",
      "  1.65952000e-04  1.05045000e-04  2.20498000e-04  1.62386000e-04\n",
      "  1.38596000e-04  1.18832000e-04  1.93153000e-04  2.26384000e-04\n",
      "  1.08969000e-04  1.14722000e-04  1.32307000e-04  9.85519801e-05\n",
      "  6.88105995e-05  3.27301412e-05  3.62105633e-05  1.24181000e-04\n",
      "  6.52194626e-05  2.39588871e-06  6.94804864e-05  6.38424819e-05\n",
      "  1.38173000e-04  1.30326000e-04  3.48626300e-06 -7.57000000e-06\n",
      " -1.79830000e-04  8.07338451e-05  1.12188000e-04  2.02210000e-04\n",
      "  9.11130702e-05  1.92016000e-04  1.74998000e-04  5.82585385e-05\n",
      " -4.92000000e-05  1.06649000e-04  8.81354315e-05  1.30521000e-04\n",
      "  1.25077000e-04  1.08566000e-04  8.06608549e-05  1.06481000e-04\n",
      "  4.53888277e-05  5.45028304e-05  1.74519000e-04  9.74873221e-05\n",
      "  9.11275210e-05  8.76533112e-05  1.36599000e-04  4.75592584e-05\n",
      "  1.64277000e-04  2.94011180e-05  2.50764878e-05  4.23401442e-05\n",
      " -2.88000000e-05  2.19251166e-05  9.75546164e-05  5.99023990e-05\n",
      "  1.55286000e-04 -2.21000000e-05  1.35293000e-04  4.16229150e-05\n",
      "  2.09452000e-04  5.99089742e-05  2.05172000e-04  1.12474000e-04\n",
      "  5.66741748e-05  4.58897215e-05  8.01222160e-05  8.63934980e-05\n",
      "  1.22577000e-04  7.71959028e-05 -4.60000000e-05  1.13311000e-04\n",
      "  4.19976992e-05  1.57961000e-04  1.24635000e-04  1.63621000e-04\n",
      "  4.06991953e-05  4.56888000e-04  1.36420000e-04  2.14755402e-05\n",
      "  5.10486359e-05 -5.11000000e-05  2.92443724e-05  4.12956375e-05\n",
      "  3.09035687e-05  3.33698566e-05  2.06167344e-05  2.79478056e-05\n",
      "  6.37726538e-05  9.86481903e-05  4.92620401e-06  2.81903577e-05\n",
      "  1.86117000e-04  7.62131061e-05  6.43762970e-05  1.81128334e-05\n",
      "  1.19792000e-04  1.04361000e-04  1.43897000e-04 -1.01000000e-05\n",
      "  9.72279499e-06  6.35569128e-05  8.66113397e-05  7.49934534e-06\n",
      "  2.63229210e-05  2.22483000e-04  4.58358101e-05  7.91982205e-05\n",
      "  1.73057000e-04  2.15385000e-04  7.80549516e-05  5.11396382e-05\n",
      "  1.47035000e-04 -3.24000000e-05  7.42788727e-05  8.67287280e-05\n",
      "  1.77609000e-04 -8.38000000e-05  2.00625829e-05  6.74387232e-05\n",
      "  7.88039693e-05  8.14640136e-05  4.37521580e-05 -5.30000000e-05\n",
      "  2.86644312e-05  1.53375452e-05  9.32546544e-05  1.08923000e-04\n",
      "  4.23875000e-04  1.72643000e-04  5.73545642e-05  1.50144000e-04\n",
      "  3.04401000e-04  2.80808000e-04  1.26375000e-04 -2.44000000e-07\n",
      "  4.60426935e-05  1.64742000e-04 -6.97000000e-06  4.31211732e-05\n",
      "  1.04032000e-04  2.32857000e-04  2.86971475e-05  1.04358000e-04\n",
      "  6.68267656e-05  1.19671000e-04  7.59586389e-05  7.88675590e-06\n",
      "  8.53596431e-05  1.97116000e-04  1.28183000e-04  3.33539000e-04\n",
      "  5.12433626e-05  8.13926767e-05  2.55448000e-04  5.87073082e-05\n",
      " -9.29000000e-06  1.54408000e-04  3.10657000e-04  1.05623000e-04\n",
      "  7.40761459e-05  2.10423000e-04 -9.53000000e-05  1.97687488e-06\n",
      " -6.80000000e-05  9.54003542e-05  2.03902000e-04  1.46647000e-04\n",
      "  1.16427000e-04  5.41443757e-05  5.14800925e-05  5.33627987e-05\n",
      "  1.72124000e-04  1.18951813e-05  1.43108000e-04  7.30256648e-06\n",
      "  1.48311000e-04  6.96419242e-05  4.39818680e-05  9.56351366e-05\n",
      "  1.24798313e-05  4.65689941e-05  7.30403346e-05  7.13633183e-05\n",
      " -3.36000000e-05  1.45536000e-04  1.10947000e-04  7.77778199e-05\n",
      "  4.18243714e-05  8.89251762e-05  1.51515000e-04  2.87983000e-04\n",
      " -3.67000000e-05  2.90174676e-05  1.09218000e-04  5.84050981e-05\n",
      "  9.23141423e-05  1.20304000e-04  1.71191000e-04  4.25540000e-04\n",
      "  2.52283000e-04  6.04013807e-05  1.57567000e-04  3.34449000e-04\n",
      "  9.51227851e-05  9.47637015e-05  8.53519552e-05  7.71597020e-05\n",
      "  1.14438000e-04  1.47018000e-04  2.20235000e-04  8.99113151e-05\n",
      "  6.75889236e-05  1.47269000e-04  7.88609557e-05 -1.58000000e-05\n",
      "  7.97742924e-05  4.26910504e-05  1.62115000e-04  8.53660360e-05\n",
      "  1.04233000e-04  1.14125000e-04  1.21339000e-04  9.33991286e-05\n",
      "  1.15835000e-04  8.77418829e-05  7.98025503e-05  9.64425523e-05\n",
      "  1.01520000e-04 -3.31000000e-05 -2.09000000e-05 -3.21000000e-05\n",
      "  4.99561206e-05 -2.47000000e-05  5.85143464e-05  1.78742000e-04\n",
      "  9.68555044e-05  1.56424000e-04  1.23705000e-04  8.20108927e-05\n",
      "  6.65427500e-05  3.67210015e-05  9.06968482e-06  1.05527000e-04\n",
      "  1.12901000e-04 -2.71000000e-05  6.58282612e-05  8.04720806e-05\n",
      "  7.72874501e-05  1.13911000e-04 -8.46000000e-07  3.84870749e-05\n",
      "  3.59430000e-04 -1.14000000e-05  3.38061920e-06  4.78143030e-05\n",
      " -1.99000000e-05  1.60902000e-04 -7.74000000e-05 -2.59296000e-04\n",
      " -2.07189000e-04  1.12843000e-04  1.56417000e-04  1.58987000e-04\n",
      "  2.57816000e-04  8.30226874e-05 -5.36000000e-05  8.34507291e-05\n",
      "  2.03427000e-04 -1.50000000e-05 -1.70000000e-05  9.43045025e-05\n",
      "  4.64738392e-05 -7.13000000e-05 -2.65000000e-05  9.91379160e-05\n",
      "  2.47610092e-05  2.62787808e-06 -7.08000000e-06  1.51717612e-05\n",
      "  1.53656733e-05  1.57341000e-04  8.09266422e-05  4.33637804e-05\n",
      "  1.52604173e-05  8.04821562e-06  5.53783224e-05  6.96576538e-05\n",
      " -1.13000000e-07  4.94027936e-05  1.33456000e-04  3.62236000e-04\n",
      " -2.64000000e-06  1.60322000e-04  7.19295224e-05  1.01403000e-04\n",
      "  4.53107695e-05  8.32321353e-05  7.48042359e-05  3.75986916e-05\n",
      "  2.90493000e-04  4.66976012e-05  1.10207000e-04  9.82065783e-06\n",
      "  1.18026765e-05  3.18788071e-05 -8.42000000e-05 -3.74000000e-05\n",
      "  2.41506000e-04  8.61594238e-05  1.96361727e-05  1.74020000e-04\n",
      " -2.28000000e-05  1.41507000e-04  1.74041000e-04  5.85595332e-05\n",
      "  5.95260212e-05 -4.09000000e-05  9.68813156e-06  8.30804655e-05\n",
      "  1.87125527e-05  8.87634740e-05  7.06402203e-05  1.31652390e-05\n",
      "  3.77440032e-05  2.51225830e-05  1.90727000e-04  1.95487212e-05\n",
      "  1.46516000e-04  3.81282000e-04  1.67506759e-05  1.80772000e-04\n",
      "  1.76634000e-04  2.31614000e-04  9.94219943e-05  1.42666000e-04\n",
      " -1.88000000e-05  1.51179000e-04  1.39505000e-04  7.74003833e-06\n",
      "  8.81109741e-05  8.31194141e-05  2.79007356e-07  6.33369702e-05\n",
      "  2.30683000e-04 -1.63743000e-04  1.02265000e-04  1.03026000e-04\n",
      "  1.37850000e-04  2.12591000e-04  1.62550000e-04  5.19385685e-05\n",
      "  5.82936558e-05 -6.26000000e-06  1.45681000e-04  4.55781040e-05\n",
      "  2.10043000e-04  8.53566305e-05  7.50439957e-05  1.24316000e-04\n",
      "  1.40905000e-04  8.16785000e-04  1.73985000e-04  6.83730000e-04\n",
      "  8.42973896e-05  9.99563381e-05  1.44692000e-04  7.50256676e-05\n",
      "  4.12176215e-05 -4.06000000e-05  1.46573000e-04  1.69017000e-04\n",
      "  1.55024000e-04  7.93972597e-05  4.48436772e-05  2.42504000e-04\n",
      "  7.82852669e-05  2.19592000e-04  5.61289658e-05  1.56557120e-05\n",
      "  6.40012258e-05  9.91028429e-05  7.88488333e-05  3.95511643e-05\n",
      "  8.77377464e-05  8.46291296e-05 -7.17000000e-05  1.72645000e-04\n",
      "  5.75990769e-05  1.60688000e-04  3.37819830e-05  1.07088000e-04\n",
      "  2.04135609e-05  8.63086074e-05 -2.23000000e-05  4.07489606e-05\n",
      " -1.30000000e-05  9.68696399e-05  2.28683000e-04  1.08305000e-04\n",
      "  1.90276000e-04  1.15567000e-04  1.83797000e-04  1.13105000e-04\n",
      "  1.37612000e-04  2.06857000e-04  1.95023005e-05 -3.34000000e-05\n",
      " -7.02000000e-05  5.14111440e-05 -1.50573000e-04  4.91434836e-05\n",
      "  1.68617000e-04 -9.46000000e-06  1.20704000e-04  1.45034300e-05\n",
      "  7.78936534e-05  1.82489000e-04  9.90089071e-05  1.26945000e-04\n",
      "  2.55579000e-04  3.40143515e-05  9.85332074e-05  7.05725511e-05\n",
      "  1.71004000e-04  9.07912251e-06  4.86715990e-05 -1.27000000e-05\n",
      "  7.73811529e-05  2.72405621e-05  6.04422780e-07  1.33677000e-04\n",
      " -5.43000000e-06  5.68727338e-05  1.04094000e-04  2.52411419e-05\n",
      "  6.58368637e-05  2.87643259e-05 -1.44000000e-05  4.46412194e-05\n",
      "  6.06483952e-05  6.60661112e-05  1.81089000e-04  2.16214761e-05\n",
      "  4.80936461e-05  1.81790000e-04  2.06318000e-04  1.41188000e-04\n",
      "  7.95707209e-06  3.79736859e-05  5.59682649e-05 -7.39000000e-06\n",
      "  1.60671000e-04  3.88930972e-05  1.14818000e-04  1.49889555e-05\n",
      "  6.51284752e-06  1.50444000e-04  4.65933475e-05  1.78905000e-04\n",
      "  5.76152123e-05  1.85983000e-04  3.84651881e-05  9.81116642e-05\n",
      " -4.64000000e-06  1.55551000e-04  4.78786340e-05  1.11338000e-04\n",
      "  5.60987424e-05  6.17691231e-05  4.38470497e-05  4.21895337e-05\n",
      "  2.22747255e-05  8.16957695e-05  5.08467606e-05  4.20140437e-05\n",
      "  4.72513269e-05  6.40897412e-05 -9.38000000e-06  1.28843000e-04\n",
      "  1.36972000e-04  5.21742599e-05 -6.92000000e-05  3.58913470e-05\n",
      "  1.20753000e-04  3.50832954e-05  1.21062000e-04  2.65805000e-04\n",
      "  8.02674750e-05  4.64650000e-04  2.01135000e-04  2.60581022e-05\n",
      "  1.22059000e-04  1.21260000e-04  1.68228000e-04  1.37711000e-04\n",
      "  7.87134408e-05  6.07612621e-05  7.07224678e-05  1.92763000e-04\n",
      "  1.36416000e-04  1.20295000e-04  1.04456000e-04  4.84576467e-05\n",
      "  9.32062098e-05  1.06988000e-04 -2.13740000e-04  5.58332713e-06\n",
      "  1.90210987e-05  1.52590000e-04  8.53175658e-05  1.38018000e-04\n",
      "  1.87223000e-04  1.50518547e-06 -3.55000000e-05  3.50687000e-04\n",
      "  7.16946423e-05  9.36433217e-05  4.04428349e-05 -1.86000000e-06\n",
      "  1.63174000e-04  2.15594000e-04  2.13868469e-05 -2.97000000e-05\n",
      "  9.04950826e-05 -4.12000000e-05  8.39964962e-05  1.49663000e-04\n",
      "  9.54431724e-05  1.56400402e-05  2.15994000e-04  1.82566000e-04\n",
      "  3.43148265e-05  1.22895632e-05  2.34488000e-04  1.75089000e-04\n",
      "  1.08177000e-04  6.57824178e-05  6.18413215e-05 -3.50000000e-05\n",
      "  2.73607000e-04  5.67821665e-05  2.22390312e-05  4.30265449e-05\n",
      "  1.77144456e-06  3.06421000e-04  1.25009000e-04  1.13142000e-04\n",
      "  1.58768000e-04  5.34971454e-06  1.19866000e-04  8.97219660e-05\n",
      "  2.49081000e-04 -1.08000000e-05  1.53865000e-04  3.81731716e-05\n",
      "  1.78118000e-04  7.69851307e-05  5.97473104e-05  4.41874000e-04\n",
      "  1.23754000e-04  1.77689000e-04  7.87486271e-05  1.10968000e-04\n",
      "  6.20293373e-05  7.48401269e-05  1.42770000e-04  2.66766324e-05\n",
      "  1.37417000e-04  1.65029000e-04  1.39602000e-04  1.24198000e-04\n",
      "  1.29380953e-05  2.96453000e-04  1.48744000e-04  1.81127000e-04\n",
      "  6.63485339e-05  5.36798000e-04  1.52505000e-04  1.37558441e-05\n",
      "  2.94218000e-04  1.83436000e-04  7.82771207e-05  1.00970000e-04\n",
      "  1.44781000e-04  1.92256000e-04  2.18584000e-04  1.58884000e-04\n",
      "  2.12359000e-04  9.85495884e-05  6.30990879e-05 -8.60000000e-06\n",
      "  2.29667000e-04 -1.17993000e-04 -5.73000000e-05  7.87160408e-05\n",
      "  1.27416000e-04  9.88066964e-05  1.14374000e-04  2.19523007e-06\n",
      "  2.02430000e-04  1.06395000e-04 -2.24000000e-05 -1.47000000e-05\n",
      "  9.46276807e-05  1.37777000e-04  2.89287048e-05  6.38986046e-05\n",
      "  6.70485246e-05  1.10690000e-04 -7.53000000e-05  2.02136000e-04\n",
      "  1.37056000e-04  3.61652043e-05  5.50486241e-05  1.00874439e-05\n",
      "  6.87568966e-05 -2.67000000e-05 -4.87000000e-06  4.78890243e-05\n",
      " -2.97000000e-06  4.08665473e-05  2.03969750e-05 -6.42000000e-05\n",
      "  6.63198148e-06  1.70262938e-05 -3.66000000e-05  1.99423174e-05\n",
      " -3.87000000e-05 -7.14000000e-05  4.54687819e-06  4.75767865e-05\n",
      "  3.04953388e-05  1.82768000e-04  1.11771000e-04  7.28477814e-05\n",
      "  5.92799795e-05  5.64746948e-05  6.26620335e-05  6.43868487e-05\n",
      " -1.35000000e-08  1.76790000e-04  4.13407369e-05 -4.23000000e-05\n",
      "  2.11109871e-05 -1.45000000e-05  4.80985818e-05  8.75728951e-06\n",
      "  1.40280000e-04  7.86715775e-05  9.27202580e-05  8.46117692e-05\n",
      "  1.09679000e-04  1.12197000e-04 -3.90000000e-05 -4.74000000e-06\n",
      "  7.96655148e-05  6.14523746e-05  6.72961421e-05  2.07993000e-04\n",
      "  4.77125992e-05 -3.60000000e-07 -1.55000000e-05  1.64618000e-04\n",
      "  1.84558000e-04  1.10018000e-04  4.32611264e-05  2.11799000e-04\n",
      " -6.79000000e-05  8.24747709e-05 -1.80000000e-05  9.47311808e-05\n",
      "  3.46532396e-05  5.94059070e-05  1.39054000e-04  9.71768643e-05\n",
      "  8.90017692e-05  1.09485000e-04  2.28058000e-04  1.83313000e-04\n",
      "  9.17282711e-05 -1.16000000e-05  1.10281211e-05  1.28271000e-04\n",
      "  2.16882372e-05  5.30812483e-05  6.34348884e-05  7.16594722e-05\n",
      "  5.91728580e-05  2.27706000e-04  1.16102000e-04]\n",
      "\n",
      "\n",
      "Location unique values\n",
      "Number of unique values: 1\n",
      "['Deniyaya, Matara']\n",
      "\n",
      "\n",
      "Current Date unique values\n",
      "Number of unique values: 1826\n",
      "['1/1/2019' '1/2/2019' '1/3/2019' ... '12/29/2023' '12/30/2023'\n",
      " '12/31/2023']\n",
      "\n",
      "\n",
      "Next Date unique values\n",
      "Number of unique values: 1826\n",
      "['1/2/2019' '1/3/2019' '1/4/2019' ... '12/30/2023' '12/31/2023' '1/1/2024']\n",
      "\n",
      "\n"
     ]
    }
   ],
   "source": [
    "for column in matara_df.columns:\n",
    "    unique_values = matara_df[column].unique()\n",
    "    print((f\"{column} unique values\"))\n",
    "    count = matara_df[column].nunique()  # Count the number of unique values\n",
    "    print(\"Number of unique values:\", count)\n",
    "    print(unique_values)\n",
    "    print('\\n')"
   ]
  },
  {
   "cell_type": "markdown",
   "metadata": {},
   "source": [
    "Identifying Unique Values in the Kandy dataframe "
   ]
  },
  {
   "cell_type": "code",
   "execution_count": 411,
   "metadata": {},
   "outputs": [
    {
     "name": "stdout",
     "output_type": "stream",
     "text": [
      "HCHO Reading unique values\n",
      "Number of unique values: 1030\n",
      "[ 9.22039125e-05             nan  1.90868000e-04 ... -6.90000000e-06\n",
      "  1.16311000e-04  5.59012026e-05]\n",
      "\n",
      "\n",
      "Location unique values\n",
      "Number of unique values: 1\n",
      "['Kandy Proper']\n",
      "\n",
      "\n",
      "Current Date unique values\n",
      "Number of unique values: 1825\n",
      "['1/2/2019' '1/3/2019' '1/4/2019' ... '12/29/2023' '12/30/2023'\n",
      " '12/31/2023']\n",
      "\n",
      "\n",
      "Next Date unique values\n",
      "Number of unique values: 1825\n",
      "['1/3/2019' '1/4/2019' '1/5/2019' ... '12/30/2023' '12/31/2023' '1/1/2024']\n",
      "\n",
      "\n"
     ]
    }
   ],
   "source": [
    "for column in kandy_df.columns:\n",
    "    unique_values = kandy_df[column].unique()\n",
    "    print((f\"{column} unique values\"))\n",
    "    count = kandy_df[column].nunique()  # Count the number of unique values\n",
    "    print(\"Number of unique values:\", count)\n",
    "    print(unique_values)\n",
    "    print('\\n')"
   ]
  },
  {
   "cell_type": "markdown",
   "metadata": {},
   "source": [
    "Identifying Unique Values in the Monaragala dataframe "
   ]
  },
  {
   "cell_type": "code",
   "execution_count": 412,
   "metadata": {},
   "outputs": [
    {
     "name": "stdout",
     "output_type": "stream",
     "text": [
      "HCHO Reading unique values\n",
      "Number of unique values: 1127\n",
      "[ 1.91991465e-05  2.81144794e-05  3.74799818e-05 ... -8.10000000e-06\n",
      "  1.48732000e-04  3.14024990e-05]\n",
      "\n",
      "\n",
      "Location unique values\n",
      "Number of unique values: 1\n",
      "['Bibile, Monaragala']\n",
      "\n",
      "\n",
      "Current Date unique values\n",
      "Number of unique values: 1825\n",
      "['1/2/2019' '1/3/2019' '1/4/2019' ... '12/29/2023' '12/30/2023'\n",
      " '12/31/2023']\n",
      "\n",
      "\n",
      "Next Date unique values\n",
      "Number of unique values: 1825\n",
      "['1/3/2019' '1/4/2019' '1/5/2019' ... '12/30/2023' '12/31/2023' '1/1/2024']\n",
      "\n",
      "\n"
     ]
    }
   ],
   "source": [
    "for column in monaragala_df.columns:\n",
    "    unique_values = monaragala_df[column].unique()\n",
    "    print((f\"{column} unique values\"))\n",
    "    count = monaragala_df[column].nunique()  # Count the number of unique values\n",
    "    print(\"Number of unique values:\", count)\n",
    "    print(unique_values)\n",
    "    print('\\n')"
   ]
  },
  {
   "cell_type": "markdown",
   "metadata": {},
   "source": [
    "Identifying Unique Values in the Kurunegala dataframe "
   ]
  },
  {
   "cell_type": "code",
   "execution_count": 413,
   "metadata": {},
   "outputs": [
    {
     "name": "stdout",
     "output_type": "stream",
     "text": [
      "HCHO Reading unique values\n",
      "Number of unique values: 1233\n",
      "[8.82972554e-05 1.37079000e-04 1.48009000e-04 ... 1.52446000e-04\n",
      " 7.54708547e-05 1.57848000e-04]\n",
      "\n",
      "\n",
      "Location unique values\n",
      "Number of unique values: 1\n",
      "['Kurunegala Proper']\n",
      "\n",
      "\n",
      "Current Date unique values\n",
      "Number of unique values: 1826\n",
      "['1/1/2019' '1/2/2019' '1/3/2019' ... '12/29/2023' '12/30/2023'\n",
      " '12/31/2023']\n",
      "\n",
      "\n",
      "Next Date unique values\n",
      "Number of unique values: 1826\n",
      "['1/2/2019' '1/3/2019' '1/4/2019' ... '12/30/2023' '12/31/2023' '1/1/2024']\n",
      "\n",
      "\n"
     ]
    }
   ],
   "source": [
    "for column in kurunegala_df.columns:\n",
    "    unique_values = kurunegala_df[column].unique()\n",
    "    print((f\"{column} unique values\"))\n",
    "    count = kurunegala_df[column].nunique()  # Count the number of unique values\n",
    "    print(\"Number of unique values:\", count)\n",
    "    print(unique_values)\n",
    "    print('\\n')"
   ]
  },
  {
   "cell_type": "markdown",
   "metadata": {},
   "source": [
    "Identifying Unique Values in the Jaffna dataframe "
   ]
  },
  {
   "cell_type": "code",
   "execution_count": 414,
   "metadata": {},
   "outputs": [
    {
     "name": "stdout",
     "output_type": "stream",
     "text": [
      "HCHO Reading unique values\n",
      "Number of unique values: 1461\n",
      "[5.83090972e-05 1.01795000e-04 3.93133105e-05 ... 1.26724000e-04\n",
      " 1.16659000e-04 6.54085299e-05]\n",
      "\n",
      "\n",
      "Location unique values\n",
      "Number of unique values: 1\n",
      "['Jaffna Proper']\n",
      "\n",
      "\n",
      "Current Date unique values\n",
      "Number of unique values: 1826\n",
      "['1/1/2019' '1/2/2019' '1/3/2019' ... '12/29/2023' '12/30/2023'\n",
      " '12/31/2023']\n",
      "\n",
      "\n",
      "Next Date unique values\n",
      "Number of unique values: 1826\n",
      "['1/2/2019' '1/3/2019' '1/4/2019' ... '12/30/2023' '12/31/2023' '1/1/2024']\n",
      "\n",
      "\n"
     ]
    }
   ],
   "source": [
    "for column in jaffna_df.columns:\n",
    "    unique_values = jaffna_df[column].unique()\n",
    "    print((f\"{column} unique values\"))\n",
    "    count = jaffna_df[column].nunique()  # Count the number of unique values\n",
    "    print(\"Number of unique values:\", count)\n",
    "    print(unique_values)\n",
    "    print('\\n')"
   ]
  },
  {
   "cell_type": "markdown",
   "metadata": {},
   "source": [
    "Identify rows with NaN values in Colombo dataframe"
   ]
  },
  {
   "cell_type": "code",
   "execution_count": 415,
   "metadata": {},
   "outputs": [
    {
     "name": "stdout",
     "output_type": "stream",
     "text": [
      "Non-numeric values in 'HCHO Reading' column:\n",
      "      HCHO Reading        Location Current Date   Next Date\n",
      "11             NaN  Colombo Proper    1/13/2019   1/14/2019\n",
      "27             NaN  Colombo Proper    1/29/2019   1/30/2019\n",
      "33             NaN  Colombo Proper     2/4/2019    2/5/2019\n",
      "43             NaN  Colombo Proper    2/14/2019   2/15/2019\n",
      "58             NaN  Colombo Proper     3/1/2019    3/2/2019\n",
      "...            ...             ...          ...         ...\n",
      "1808           NaN  Colombo Proper   12/15/2023  12/16/2023\n",
      "1813           NaN  Colombo Proper   12/20/2023  12/21/2023\n",
      "1819           NaN  Colombo Proper   12/26/2023  12/27/2023\n",
      "1821           NaN  Colombo Proper   12/28/2023  12/29/2023\n",
      "1822           NaN  Colombo Proper   12/29/2023  12/30/2023\n",
      "\n",
      "[487 rows x 4 columns]\n"
     ]
    }
   ],
   "source": [
    "non_numeric_rows = colombo_df[colombo_df['HCHO Reading'].isna()]\n",
    "print(\"Non-numeric values in 'HCHO Reading' column:\")\n",
    "print(non_numeric_rows)"
   ]
  },
  {
   "cell_type": "markdown",
   "metadata": {},
   "source": [
    "Finding mean of correct values in HCHO Reading column in Colombo dataframe"
   ]
  },
  {
   "cell_type": "code",
   "execution_count": 416,
   "metadata": {},
   "outputs": [
    {
     "data": {
      "text/plain": [
       "0.00015854271692552723"
      ]
     },
     "execution_count": 416,
     "metadata": {},
     "output_type": "execute_result"
    }
   ],
   "source": [
    "correct_values_in_HCHO_Reading_Colombo = colombo_df[pd.notna(colombo_df[\"HCHO Reading\"])]\n",
    "mean_Correct_values_in_HCHO_Reading_Colombo = correct_values_in_HCHO_Reading_Colombo[\"HCHO Reading\"].mean()\n",
    "mean_Correct_values_in_HCHO_Reading_Colombo"
   ]
  },
  {
   "cell_type": "markdown",
   "metadata": {},
   "source": [
    "Replacing NaN values in HCHO Reading column in Colombo dataframe"
   ]
  },
  {
   "cell_type": "code",
   "execution_count": 417,
   "metadata": {},
   "outputs": [
    {
     "name": "stderr",
     "output_type": "stream",
     "text": [
      "C:\\Users\\deela\\AppData\\Local\\Temp\\ipykernel_1248\\3267618172.py:1: FutureWarning: A value is trying to be set on a copy of a DataFrame or Series through chained assignment using an inplace method.\n",
      "The behavior will change in pandas 3.0. This inplace method will never work because the intermediate object on which we are setting values always behaves as a copy.\n",
      "\n",
      "For example, when doing 'df[col].method(value, inplace=True)', try using 'df.method({col: value}, inplace=True)' or df[col] = df[col].method(value) instead, to perform the operation inplace on the original object.\n",
      "\n",
      "\n",
      "  colombo_df[\"HCHO Reading\"].fillna(mean_Correct_values_in_HCHO_Reading_Colombo, inplace=True)\n",
      "C:\\Users\\deela\\AppData\\Local\\Temp\\ipykernel_1248\\3267618172.py:1: SettingWithCopyWarning: \n",
      "A value is trying to be set on a copy of a slice from a DataFrame\n",
      "\n",
      "See the caveats in the documentation: https://pandas.pydata.org/pandas-docs/stable/user_guide/indexing.html#returning-a-view-versus-a-copy\n",
      "  colombo_df[\"HCHO Reading\"].fillna(mean_Correct_values_in_HCHO_Reading_Colombo, inplace=True)\n"
     ]
    }
   ],
   "source": [
    "colombo_df[\"HCHO Reading\"].fillna(mean_Correct_values_in_HCHO_Reading_Colombo, inplace=True)"
   ]
  },
  {
   "cell_type": "markdown",
   "metadata": {},
   "source": [
    "Identify rows with NaN values in Nuwara Eliya dataframe"
   ]
  },
  {
   "cell_type": "code",
   "execution_count": 418,
   "metadata": {},
   "outputs": [
    {
     "name": "stdout",
     "output_type": "stream",
     "text": [
      "Non-numeric values in 'HCHO Reading' column:\n",
      "      HCHO Reading             Location Current Date   Next Date\n",
      "0              NaN  Nuwara Eliya Proper     1/1/2019    1/2/2019\n",
      "1              NaN  Nuwara Eliya Proper     1/2/2019    1/3/2019\n",
      "7              NaN  Nuwara Eliya Proper     1/8/2019    1/9/2019\n",
      "8              NaN  Nuwara Eliya Proper     1/9/2019   1/10/2019\n",
      "9              NaN  Nuwara Eliya Proper    1/10/2019   1/11/2019\n",
      "...            ...                  ...          ...         ...\n",
      "1821           NaN  Nuwara Eliya Proper   12/27/2023  12/28/2023\n",
      "1822           NaN  Nuwara Eliya Proper   12/28/2023  12/29/2023\n",
      "1823           NaN  Nuwara Eliya Proper   12/29/2023  12/30/2023\n",
      "1824           NaN  Nuwara Eliya Proper   12/30/2023  12/31/2023\n",
      "1825           NaN  Nuwara Eliya Proper   12/31/2023    1/1/2024\n",
      "\n",
      "[1085 rows x 4 columns]\n"
     ]
    }
   ],
   "source": [
    "non_numeric_rows = nuwaraeliya_df[nuwaraeliya_df['HCHO Reading'].isna()]\n",
    "print(\"Non-numeric values in 'HCHO Reading' column:\")\n",
    "print(non_numeric_rows)"
   ]
  },
  {
   "cell_type": "markdown",
   "metadata": {},
   "source": [
    "Finding mean of correct values in HCHO Reading column in Nuwara Eliya dataframe"
   ]
  },
  {
   "cell_type": "code",
   "execution_count": 419,
   "metadata": {},
   "outputs": [
    {
     "data": {
      "text/plain": [
       "8.792595420089555e-05"
      ]
     },
     "execution_count": 419,
     "metadata": {},
     "output_type": "execute_result"
    }
   ],
   "source": [
    "correct_values_in_HCHO_Reading_NuwaraEliya = nuwaraeliya_df[pd.notna(nuwaraeliya_df[\"HCHO Reading\"])]\n",
    "mean_Correct_values_in_HCHO_Reading_NuwaraEliya = correct_values_in_HCHO_Reading_NuwaraEliya[\"HCHO Reading\"].mean()\n",
    "mean_Correct_values_in_HCHO_Reading_NuwaraEliya"
   ]
  },
  {
   "cell_type": "markdown",
   "metadata": {},
   "source": [
    "Replacing NaN values in HCHO Reading column in Nuwara Eliya dataframe"
   ]
  },
  {
   "cell_type": "code",
   "execution_count": 420,
   "metadata": {},
   "outputs": [
    {
     "name": "stderr",
     "output_type": "stream",
     "text": [
      "C:\\Users\\deela\\AppData\\Local\\Temp\\ipykernel_1248\\2721154173.py:1: FutureWarning: A value is trying to be set on a copy of a DataFrame or Series through chained assignment using an inplace method.\n",
      "The behavior will change in pandas 3.0. This inplace method will never work because the intermediate object on which we are setting values always behaves as a copy.\n",
      "\n",
      "For example, when doing 'df[col].method(value, inplace=True)', try using 'df.method({col: value}, inplace=True)' or df[col] = df[col].method(value) instead, to perform the operation inplace on the original object.\n",
      "\n",
      "\n",
      "  nuwaraeliya_df[\"HCHO Reading\"].fillna(mean_Correct_values_in_HCHO_Reading_NuwaraEliya, inplace=True)\n",
      "C:\\Users\\deela\\AppData\\Local\\Temp\\ipykernel_1248\\2721154173.py:1: SettingWithCopyWarning: \n",
      "A value is trying to be set on a copy of a slice from a DataFrame\n",
      "\n",
      "See the caveats in the documentation: https://pandas.pydata.org/pandas-docs/stable/user_guide/indexing.html#returning-a-view-versus-a-copy\n",
      "  nuwaraeliya_df[\"HCHO Reading\"].fillna(mean_Correct_values_in_HCHO_Reading_NuwaraEliya, inplace=True)\n"
     ]
    }
   ],
   "source": [
    "nuwaraeliya_df[\"HCHO Reading\"].fillna(mean_Correct_values_in_HCHO_Reading_NuwaraEliya, inplace=True)"
   ]
  },
  {
   "cell_type": "markdown",
   "metadata": {},
   "source": [
    "Identify rows with NaN values in Matara dataframe"
   ]
  },
  {
   "cell_type": "code",
   "execution_count": 421,
   "metadata": {},
   "outputs": [
    {
     "name": "stdout",
     "output_type": "stream",
     "text": [
      "Non-numeric values in 'HCHO Reading' column:\n",
      "      HCHO Reading          Location Current Date   Next Date\n",
      "0              NaN  Deniyaya, Matara     1/1/2019    1/2/2019\n",
      "8              NaN  Deniyaya, Matara     1/9/2019   1/10/2019\n",
      "12             NaN  Deniyaya, Matara    1/13/2019   1/14/2019\n",
      "13             NaN  Deniyaya, Matara    1/14/2019   1/15/2019\n",
      "24             NaN  Deniyaya, Matara    1/25/2019   1/26/2019\n",
      "...            ...               ...          ...         ...\n",
      "1812           NaN  Deniyaya, Matara   12/18/2023  12/19/2023\n",
      "1816           NaN  Deniyaya, Matara   12/22/2023  12/23/2023\n",
      "1822           NaN  Deniyaya, Matara   12/28/2023  12/29/2023\n",
      "1823           NaN  Deniyaya, Matara   12/29/2023  12/30/2023\n",
      "1825           NaN  Deniyaya, Matara   12/31/2023    1/1/2024\n",
      "\n",
      "[847 rows x 4 columns]\n"
     ]
    }
   ],
   "source": [
    "non_numeric_rows = matara_df[matara_df['HCHO Reading'].isna()]\n",
    "print(\"Non-numeric values in 'HCHO Reading' column:\")\n",
    "print(non_numeric_rows)"
   ]
  },
  {
   "cell_type": "markdown",
   "metadata": {},
   "source": [
    "Finding mean of correct values in HCHO Reading column in Matara dataframe"
   ]
  },
  {
   "cell_type": "code",
   "execution_count": 422,
   "metadata": {},
   "outputs": [
    {
     "data": {
      "text/plain": [
       "9.165607494385942e-05"
      ]
     },
     "execution_count": 422,
     "metadata": {},
     "output_type": "execute_result"
    }
   ],
   "source": [
    "correct_values_in_HCHO_Reading_Matara= matara_df[pd.notna(matara_df[\"HCHO Reading\"])]\n",
    "mean_Correct_values_in_HCHO_Reading_Matara = correct_values_in_HCHO_Reading_Matara[\"HCHO Reading\"].mean()\n",
    "mean_Correct_values_in_HCHO_Reading_Matara"
   ]
  },
  {
   "cell_type": "markdown",
   "metadata": {},
   "source": [
    "Replacing NaN values in HCHO Reading column in Matara dataframe"
   ]
  },
  {
   "cell_type": "code",
   "execution_count": 423,
   "metadata": {},
   "outputs": [
    {
     "name": "stderr",
     "output_type": "stream",
     "text": [
      "C:\\Users\\deela\\AppData\\Local\\Temp\\ipykernel_1248\\239113573.py:1: FutureWarning: A value is trying to be set on a copy of a DataFrame or Series through chained assignment using an inplace method.\n",
      "The behavior will change in pandas 3.0. This inplace method will never work because the intermediate object on which we are setting values always behaves as a copy.\n",
      "\n",
      "For example, when doing 'df[col].method(value, inplace=True)', try using 'df.method({col: value}, inplace=True)' or df[col] = df[col].method(value) instead, to perform the operation inplace on the original object.\n",
      "\n",
      "\n",
      "  matara_df[\"HCHO Reading\"].fillna(mean_Correct_values_in_HCHO_Reading_Matara, inplace=True)\n",
      "C:\\Users\\deela\\AppData\\Local\\Temp\\ipykernel_1248\\239113573.py:1: SettingWithCopyWarning: \n",
      "A value is trying to be set on a copy of a slice from a DataFrame\n",
      "\n",
      "See the caveats in the documentation: https://pandas.pydata.org/pandas-docs/stable/user_guide/indexing.html#returning-a-view-versus-a-copy\n",
      "  matara_df[\"HCHO Reading\"].fillna(mean_Correct_values_in_HCHO_Reading_Matara, inplace=True)\n"
     ]
    }
   ],
   "source": [
    "matara_df[\"HCHO Reading\"].fillna(mean_Correct_values_in_HCHO_Reading_Matara, inplace=True)"
   ]
  },
  {
   "cell_type": "markdown",
   "metadata": {},
   "source": [
    "Identify rows with NaN values in Kandy dataframe"
   ]
  },
  {
   "cell_type": "code",
   "execution_count": 424,
   "metadata": {},
   "outputs": [
    {
     "name": "stdout",
     "output_type": "stream",
     "text": [
      "Non-numeric values in 'HCHO Reading' column:\n",
      "      HCHO Reading      Location Current Date   Next Date\n",
      "1              NaN  Kandy Proper     1/3/2019    1/4/2019\n",
      "11             NaN  Kandy Proper    1/13/2019   1/14/2019\n",
      "12             NaN  Kandy Proper    1/14/2019   1/15/2019\n",
      "14             NaN  Kandy Proper    1/16/2019   1/17/2019\n",
      "32             NaN  Kandy Proper     2/3/2019    2/4/2019\n",
      "...            ...           ...          ...         ...\n",
      "1819           NaN  Kandy Proper   12/26/2023  12/27/2023\n",
      "1820           NaN  Kandy Proper   12/27/2023  12/28/2023\n",
      "1821           NaN  Kandy Proper   12/28/2023  12/29/2023\n",
      "1822           NaN  Kandy Proper   12/29/2023  12/30/2023\n",
      "1824           NaN  Kandy Proper   12/31/2023    1/1/2024\n",
      "\n",
      "[793 rows x 4 columns]\n"
     ]
    }
   ],
   "source": [
    "non_numeric_rows = kandy_df[kandy_df['HCHO Reading'].isna()]\n",
    "print(\"Non-numeric values in 'HCHO Reading' column:\")\n",
    "print(non_numeric_rows)"
   ]
  },
  {
   "cell_type": "markdown",
   "metadata": {},
   "source": [
    "Finding mean of correct values in HCHO Reading column in Kandy dataframe"
   ]
  },
  {
   "cell_type": "code",
   "execution_count": 425,
   "metadata": {},
   "outputs": [
    {
     "data": {
      "text/plain": [
       "0.00010630901268010904"
      ]
     },
     "execution_count": 425,
     "metadata": {},
     "output_type": "execute_result"
    }
   ],
   "source": [
    "correct_values_in_HCHO_Reading_Kandy= kandy_df[pd.notna(kandy_df[\"HCHO Reading\"])]\n",
    "mean_Correct_values_in_HCHO_Reading_Kandy = correct_values_in_HCHO_Reading_Kandy[\"HCHO Reading\"].mean()\n",
    "mean_Correct_values_in_HCHO_Reading_Kandy"
   ]
  },
  {
   "cell_type": "markdown",
   "metadata": {},
   "source": [
    "Replacing NaN values in HCHO Reading column in Kandy dataframe"
   ]
  },
  {
   "cell_type": "code",
   "execution_count": 426,
   "metadata": {},
   "outputs": [
    {
     "name": "stderr",
     "output_type": "stream",
     "text": [
      "C:\\Users\\deela\\AppData\\Local\\Temp\\ipykernel_1248\\3738774930.py:1: FutureWarning: A value is trying to be set on a copy of a DataFrame or Series through chained assignment using an inplace method.\n",
      "The behavior will change in pandas 3.0. This inplace method will never work because the intermediate object on which we are setting values always behaves as a copy.\n",
      "\n",
      "For example, when doing 'df[col].method(value, inplace=True)', try using 'df.method({col: value}, inplace=True)' or df[col] = df[col].method(value) instead, to perform the operation inplace on the original object.\n",
      "\n",
      "\n",
      "  kandy_df[\"HCHO Reading\"].fillna(mean_Correct_values_in_HCHO_Reading_Kandy, inplace=True)\n"
     ]
    }
   ],
   "source": [
    "kandy_df[\"HCHO Reading\"].fillna(mean_Correct_values_in_HCHO_Reading_Kandy, inplace=True)"
   ]
  },
  {
   "cell_type": "markdown",
   "metadata": {},
   "source": [
    "Identify rows with NaN values in Monaragala dataframe"
   ]
  },
  {
   "cell_type": "code",
   "execution_count": 427,
   "metadata": {},
   "outputs": [
    {
     "name": "stdout",
     "output_type": "stream",
     "text": [
      "Non-numeric values in 'HCHO Reading' column:\n",
      "      HCHO Reading            Location Current Date   Next Date\n",
      "6              NaN  Bibile, Monaragala     1/8/2019    1/9/2019\n",
      "8              NaN  Bibile, Monaragala    1/10/2019   1/11/2019\n",
      "11             NaN  Bibile, Monaragala    1/13/2019   1/14/2019\n",
      "12             NaN  Bibile, Monaragala    1/14/2019   1/15/2019\n",
      "16             NaN  Bibile, Monaragala    1/18/2019   1/19/2019\n",
      "...            ...                 ...          ...         ...\n",
      "1820           NaN  Bibile, Monaragala   12/27/2023  12/28/2023\n",
      "1821           NaN  Bibile, Monaragala   12/28/2023  12/29/2023\n",
      "1822           NaN  Bibile, Monaragala   12/29/2023  12/30/2023\n",
      "1823           NaN  Bibile, Monaragala   12/30/2023  12/31/2023\n",
      "1824           NaN  Bibile, Monaragala   12/31/2023    1/1/2024\n",
      "\n",
      "[694 rows x 4 columns]\n"
     ]
    }
   ],
   "source": [
    "non_numeric_rows = monaragala_df[monaragala_df['HCHO Reading'].isna()]\n",
    "print(\"Non-numeric values in 'HCHO Reading' column:\")\n",
    "print(non_numeric_rows)"
   ]
  },
  {
   "cell_type": "markdown",
   "metadata": {},
   "source": [
    "Finding mean of correct values in HCHO Reading column in Monaragala dataframe"
   ]
  },
  {
   "cell_type": "code",
   "execution_count": 428,
   "metadata": {},
   "outputs": [
    {
     "data": {
      "text/plain": [
       "0.00012643151608687718"
      ]
     },
     "execution_count": 428,
     "metadata": {},
     "output_type": "execute_result"
    }
   ],
   "source": [
    "correct_values_in_HCHO_Reading_Monaragala= monaragala_df[pd.notna(monaragala_df[\"HCHO Reading\"])]\n",
    "mean_Correct_values_in_HCHO_Reading_Monaragala = correct_values_in_HCHO_Reading_Monaragala[\"HCHO Reading\"].mean()\n",
    "mean_Correct_values_in_HCHO_Reading_Monaragala"
   ]
  },
  {
   "cell_type": "markdown",
   "metadata": {},
   "source": [
    "Replacing NaN values in HCHO Reading column in Monaragala dataframe"
   ]
  },
  {
   "cell_type": "code",
   "execution_count": 429,
   "metadata": {},
   "outputs": [
    {
     "name": "stderr",
     "output_type": "stream",
     "text": [
      "C:\\Users\\deela\\AppData\\Local\\Temp\\ipykernel_1248\\4283541602.py:1: FutureWarning: A value is trying to be set on a copy of a DataFrame or Series through chained assignment using an inplace method.\n",
      "The behavior will change in pandas 3.0. This inplace method will never work because the intermediate object on which we are setting values always behaves as a copy.\n",
      "\n",
      "For example, when doing 'df[col].method(value, inplace=True)', try using 'df.method({col: value}, inplace=True)' or df[col] = df[col].method(value) instead, to perform the operation inplace on the original object.\n",
      "\n",
      "\n",
      "  monaragala_df[\"HCHO Reading\"].fillna(mean_Correct_values_in_HCHO_Reading_Monaragala, inplace=True)\n",
      "C:\\Users\\deela\\AppData\\Local\\Temp\\ipykernel_1248\\4283541602.py:1: SettingWithCopyWarning: \n",
      "A value is trying to be set on a copy of a slice from a DataFrame\n",
      "\n",
      "See the caveats in the documentation: https://pandas.pydata.org/pandas-docs/stable/user_guide/indexing.html#returning-a-view-versus-a-copy\n",
      "  monaragala_df[\"HCHO Reading\"].fillna(mean_Correct_values_in_HCHO_Reading_Monaragala, inplace=True)\n"
     ]
    }
   ],
   "source": [
    "monaragala_df[\"HCHO Reading\"].fillna(mean_Correct_values_in_HCHO_Reading_Monaragala, inplace=True)"
   ]
  },
  {
   "cell_type": "markdown",
   "metadata": {},
   "source": [
    "Identify rows with NaN values in Kurunegala dataframe"
   ]
  },
  {
   "cell_type": "code",
   "execution_count": 430,
   "metadata": {},
   "outputs": [
    {
     "name": "stdout",
     "output_type": "stream",
     "text": [
      "Non-numeric values in 'HCHO Reading' column:\n",
      "      HCHO Reading           Location Current Date   Next Date\n",
      "12             NaN  Kurunegala Proper    1/13/2019   1/14/2019\n",
      "13             NaN  Kurunegala Proper    1/14/2019   1/15/2019\n",
      "34             NaN  Kurunegala Proper     2/4/2019    2/5/2019\n",
      "35             NaN  Kurunegala Proper     2/5/2019    2/6/2019\n",
      "39             NaN  Kurunegala Proper     2/9/2019   2/10/2019\n",
      "...            ...                ...          ...         ...\n",
      "1814           NaN  Kurunegala Proper   12/20/2023  12/21/2023\n",
      "1818           NaN  Kurunegala Proper   12/24/2023  12/25/2023\n",
      "1822           NaN  Kurunegala Proper   12/28/2023  12/29/2023\n",
      "1823           NaN  Kurunegala Proper   12/29/2023  12/30/2023\n",
      "1825           NaN  Kurunegala Proper   12/31/2023    1/1/2024\n",
      "\n",
      "[592 rows x 4 columns]\n"
     ]
    }
   ],
   "source": [
    "non_numeric_rows = kurunegala_df[kurunegala_df['HCHO Reading'].isna()]\n",
    "print(\"Non-numeric values in 'HCHO Reading' column:\")\n",
    "print(non_numeric_rows)"
   ]
  },
  {
   "cell_type": "markdown",
   "metadata": {},
   "source": [
    "Finding mean of correct values in HCHO Reading column in Kurunegala dataframe"
   ]
  },
  {
   "cell_type": "code",
   "execution_count": 431,
   "metadata": {},
   "outputs": [
    {
     "data": {
      "text/plain": [
       "0.00013402030795414837"
      ]
     },
     "execution_count": 431,
     "metadata": {},
     "output_type": "execute_result"
    }
   ],
   "source": [
    "correct_values_in_HCHO_Reading_Kurunegala= kurunegala_df[pd.notna(kurunegala_df[\"HCHO Reading\"])]\n",
    "mean_Correct_values_in_HCHO_Reading_Kurunegala = correct_values_in_HCHO_Reading_Kurunegala[\"HCHO Reading\"].mean()\n",
    "mean_Correct_values_in_HCHO_Reading_Kurunegala"
   ]
  },
  {
   "cell_type": "markdown",
   "metadata": {},
   "source": [
    "Replacing NaN values in HCHO Reading column in Kurunegala dataframe"
   ]
  },
  {
   "cell_type": "code",
   "execution_count": 432,
   "metadata": {},
   "outputs": [
    {
     "name": "stderr",
     "output_type": "stream",
     "text": [
      "C:\\Users\\deela\\AppData\\Local\\Temp\\ipykernel_1248\\2872642832.py:1: FutureWarning: A value is trying to be set on a copy of a DataFrame or Series through chained assignment using an inplace method.\n",
      "The behavior will change in pandas 3.0. This inplace method will never work because the intermediate object on which we are setting values always behaves as a copy.\n",
      "\n",
      "For example, when doing 'df[col].method(value, inplace=True)', try using 'df.method({col: value}, inplace=True)' or df[col] = df[col].method(value) instead, to perform the operation inplace on the original object.\n",
      "\n",
      "\n",
      "  kurunegala_df[\"HCHO Reading\"].fillna(mean_Correct_values_in_HCHO_Reading_Kurunegala, inplace=True)\n",
      "C:\\Users\\deela\\AppData\\Local\\Temp\\ipykernel_1248\\2872642832.py:1: SettingWithCopyWarning: \n",
      "A value is trying to be set on a copy of a slice from a DataFrame\n",
      "\n",
      "See the caveats in the documentation: https://pandas.pydata.org/pandas-docs/stable/user_guide/indexing.html#returning-a-view-versus-a-copy\n",
      "  kurunegala_df[\"HCHO Reading\"].fillna(mean_Correct_values_in_HCHO_Reading_Kurunegala, inplace=True)\n"
     ]
    }
   ],
   "source": [
    "kurunegala_df[\"HCHO Reading\"].fillna(mean_Correct_values_in_HCHO_Reading_Kurunegala, inplace=True)"
   ]
  },
  {
   "cell_type": "markdown",
   "metadata": {},
   "source": [
    "Identify rows with NaN values in Jaffna dataframe"
   ]
  },
  {
   "cell_type": "code",
   "execution_count": 433,
   "metadata": {},
   "outputs": [
    {
     "name": "stdout",
     "output_type": "stream",
     "text": [
      "Non-numeric values in 'HCHO Reading' column:\n",
      "      HCHO Reading       Location Current Date   Next Date\n",
      "34             NaN  Jaffna Proper     2/4/2019    2/5/2019\n",
      "35             NaN  Jaffna Proper     2/5/2019    2/6/2019\n",
      "59             NaN  Jaffna Proper     3/1/2019    3/2/2019\n",
      "67             NaN  Jaffna Proper     3/9/2019   3/10/2019\n",
      "103            NaN  Jaffna Proper    4/14/2019   4/15/2019\n",
      "...            ...            ...          ...         ...\n",
      "1815           NaN  Jaffna Proper   12/21/2023  12/22/2023\n",
      "1816           NaN  Jaffna Proper   12/22/2023  12/23/2023\n",
      "1817           NaN  Jaffna Proper   12/23/2023  12/24/2023\n",
      "1819           NaN  Jaffna Proper   12/25/2023  12/26/2023\n",
      "1821           NaN  Jaffna Proper   12/27/2023  12/28/2023\n",
      "\n",
      "[365 rows x 4 columns]\n"
     ]
    }
   ],
   "source": [
    "non_numeric_rows = jaffna_df[jaffna_df['HCHO Reading'].isna()]\n",
    "print(\"Non-numeric values in 'HCHO Reading' column:\")\n",
    "print(non_numeric_rows)"
   ]
  },
  {
   "cell_type": "markdown",
   "metadata": {},
   "source": [
    "Finding mean of correct values in HCHO Reading column in Jaffna dataframe"
   ]
  },
  {
   "cell_type": "code",
   "execution_count": 434,
   "metadata": {},
   "outputs": [
    {
     "data": {
      "text/plain": [
       "0.00010880874674908719"
      ]
     },
     "execution_count": 434,
     "metadata": {},
     "output_type": "execute_result"
    }
   ],
   "source": [
    "correct_values_in_HCHO_Reading_Jaffna= jaffna_df[pd.notna(jaffna_df[\"HCHO Reading\"])]\n",
    "mean_Correct_values_in_HCHO_Reading_Jaffna = correct_values_in_HCHO_Reading_Jaffna[\"HCHO Reading\"].mean()\n",
    "mean_Correct_values_in_HCHO_Reading_Jaffna"
   ]
  },
  {
   "cell_type": "markdown",
   "metadata": {},
   "source": [
    "Replacing NaN values in HCHO Reading column in Jaffna dataframe"
   ]
  },
  {
   "cell_type": "code",
   "execution_count": 435,
   "metadata": {},
   "outputs": [
    {
     "name": "stderr",
     "output_type": "stream",
     "text": [
      "C:\\Users\\deela\\AppData\\Local\\Temp\\ipykernel_1248\\1941902624.py:1: FutureWarning: A value is trying to be set on a copy of a DataFrame or Series through chained assignment using an inplace method.\n",
      "The behavior will change in pandas 3.0. This inplace method will never work because the intermediate object on which we are setting values always behaves as a copy.\n",
      "\n",
      "For example, when doing 'df[col].method(value, inplace=True)', try using 'df.method({col: value}, inplace=True)' or df[col] = df[col].method(value) instead, to perform the operation inplace on the original object.\n",
      "\n",
      "\n",
      "  jaffna_df[\"HCHO Reading\"].fillna(mean_Correct_values_in_HCHO_Reading_Jaffna, inplace=True)\n",
      "C:\\Users\\deela\\AppData\\Local\\Temp\\ipykernel_1248\\1941902624.py:1: SettingWithCopyWarning: \n",
      "A value is trying to be set on a copy of a slice from a DataFrame\n",
      "\n",
      "See the caveats in the documentation: https://pandas.pydata.org/pandas-docs/stable/user_guide/indexing.html#returning-a-view-versus-a-copy\n",
      "  jaffna_df[\"HCHO Reading\"].fillna(mean_Correct_values_in_HCHO_Reading_Jaffna, inplace=True)\n"
     ]
    }
   ],
   "source": [
    "jaffna_df[\"HCHO Reading\"].fillna(mean_Correct_values_in_HCHO_Reading_Jaffna, inplace=True)"
   ]
  },
  {
   "cell_type": "markdown",
   "metadata": {},
   "source": [
    "Identifying outliers in Colombo DataFrame"
   ]
  },
  {
   "cell_type": "code",
   "execution_count": 436,
   "metadata": {},
   "outputs": [
    {
     "data": {
      "text/plain": [
       "Text(0.5, 1.0, 'Histogram of Colombo DataFrame')"
      ]
     },
     "execution_count": 436,
     "metadata": {},
     "output_type": "execute_result"
    },
    {
     "data": {
      "image/png": "[encoded data removed]",
      "text/plain": [
       "<Figure size 640x480 with 1 Axes>"
      ]
     },
     "metadata": {},
     "output_type": "display_data"
    }
   ],
   "source": [
    "plt.hist(colombo_df['HCHO Reading'])\n",
    "plt.xlabel('HCHO Reading')\n",
    "plt.ylabel('Value')\n",
    "plt.title('Histogram of Colombo DataFrame')"
   ]
  },
  {
   "cell_type": "markdown",
   "metadata": {},
   "source": [
    "Finding Z-Score in Colombo Dataframe "
   ]
  },
  {
   "cell_type": "code",
   "execution_count": 437,
   "metadata": {},
   "outputs": [
    {
     "data": {
      "text/plain": [
       "0       1.223498\n",
       "1      -0.706055\n",
       "2       0.604510\n",
       "3       0.235165\n",
       "4      -0.591846\n",
       "          ...   \n",
       "1820   -0.474836\n",
       "1821    0.000000\n",
       "1822    0.000000\n",
       "1823   -0.220183\n",
       "1824   -0.919654\n",
       "Name: HCHO Reading, Length: 1825, dtype: float64"
      ]
     },
     "execution_count": 437,
     "metadata": {},
     "output_type": "execute_result"
    }
   ],
   "source": [
    "mean_Correct_values_in_HCHO_Reading_Colombo\n",
    "std_Colombo = np.std(colombo_df['HCHO Reading'])\n",
    "Z_Score_of_Colombo= (colombo_df['HCHO Reading']- mean_Correct_values_in_HCHO_Reading_Colombo)/std_Colombo\n",
    "Z_Score_of_Colombo"
   ]
  },
  {
   "cell_type": "markdown",
   "metadata": {},
   "source": [
    "Adding another column to Colombo DataFrame as HCHO Reading Z-Score"
   ]
  },
  {
   "cell_type": "code",
   "execution_count": 438,
   "metadata": {},
   "outputs": [
    {
     "name": "stderr",
     "output_type": "stream",
     "text": [
      "C:\\Users\\deela\\AppData\\Local\\Temp\\ipykernel_1248\\1144787111.py:1: SettingWithCopyWarning: \n",
      "A value is trying to be set on a copy of a slice from a DataFrame.\n",
      "Try using .loc[row_indexer,col_indexer] = value instead\n",
      "\n",
      "See the caveats in the documentation: https://pandas.pydata.org/pandas-docs/stable/user_guide/indexing.html#returning-a-view-versus-a-copy\n",
      "  colombo_df['HCHO Reading Z-Score'] = Z_Score_of_Colombo\n"
     ]
    },
    {
     "data": {
      "text/html": [
       "<div>\n",
       "<style scoped>\n",
       "    .dataframe tbody tr th:only-of-type {\n",
       "        vertical-align: middle;\n",
       "    }\n",
       "\n",
       "    .dataframe tbody tr th {\n",
       "        vertical-align: top;\n",
       "    }\n",
       "\n",
       "    .dataframe thead th {\n",
       "        text-align: right;\n",
       "    }\n",
       "</style>\n",
       "<table border=\"1\" class=\"dataframe\">\n",
       "  <thead>\n",
       "    <tr style=\"text-align: right;\">\n",
       "      <th></th>\n",
       "      <th>HCHO Reading</th>\n",
       "      <th>Location</th>\n",
       "      <th>Current Date</th>\n",
       "      <th>Next Date</th>\n",
       "      <th>HCHO Reading Z-Score</th>\n",
       "    </tr>\n",
       "  </thead>\n",
       "  <tbody>\n",
       "    <tr>\n",
       "      <th>0</th>\n",
       "      <td>0.000263</td>\n",
       "      <td>Colombo Proper</td>\n",
       "      <td>1/2/2019</td>\n",
       "      <td>1/3/2019</td>\n",
       "      <td>1.223498</td>\n",
       "    </tr>\n",
       "    <tr>\n",
       "      <th>1</th>\n",
       "      <td>0.000099</td>\n",
       "      <td>Colombo Proper</td>\n",
       "      <td>1/3/2019</td>\n",
       "      <td>1/4/2019</td>\n",
       "      <td>-0.706055</td>\n",
       "    </tr>\n",
       "    <tr>\n",
       "      <th>2</th>\n",
       "      <td>0.000210</td>\n",
       "      <td>Colombo Proper</td>\n",
       "      <td>1/4/2019</td>\n",
       "      <td>1/5/2019</td>\n",
       "      <td>0.604510</td>\n",
       "    </tr>\n",
       "    <tr>\n",
       "      <th>3</th>\n",
       "      <td>0.000179</td>\n",
       "      <td>Colombo Proper</td>\n",
       "      <td>1/5/2019</td>\n",
       "      <td>1/6/2019</td>\n",
       "      <td>0.235165</td>\n",
       "    </tr>\n",
       "    <tr>\n",
       "      <th>4</th>\n",
       "      <td>0.000108</td>\n",
       "      <td>Colombo Proper</td>\n",
       "      <td>1/6/2019</td>\n",
       "      <td>1/7/2019</td>\n",
       "      <td>-0.591846</td>\n",
       "    </tr>\n",
       "    <tr>\n",
       "      <th>...</th>\n",
       "      <td>...</td>\n",
       "      <td>...</td>\n",
       "      <td>...</td>\n",
       "      <td>...</td>\n",
       "      <td>...</td>\n",
       "    </tr>\n",
       "    <tr>\n",
       "      <th>1820</th>\n",
       "      <td>0.000118</td>\n",
       "      <td>Colombo Proper</td>\n",
       "      <td>12/27/2023</td>\n",
       "      <td>12/28/2023</td>\n",
       "      <td>-0.474836</td>\n",
       "    </tr>\n",
       "    <tr>\n",
       "      <th>1821</th>\n",
       "      <td>0.000159</td>\n",
       "      <td>Colombo Proper</td>\n",
       "      <td>12/28/2023</td>\n",
       "      <td>12/29/2023</td>\n",
       "      <td>0.000000</td>\n",
       "    </tr>\n",
       "    <tr>\n",
       "      <th>1822</th>\n",
       "      <td>0.000159</td>\n",
       "      <td>Colombo Proper</td>\n",
       "      <td>12/29/2023</td>\n",
       "      <td>12/30/2023</td>\n",
       "      <td>0.000000</td>\n",
       "    </tr>\n",
       "    <tr>\n",
       "      <th>1823</th>\n",
       "      <td>0.000140</td>\n",
       "      <td>Colombo Proper</td>\n",
       "      <td>12/30/2023</td>\n",
       "      <td>12/31/2023</td>\n",
       "      <td>-0.220183</td>\n",
       "    </tr>\n",
       "    <tr>\n",
       "      <th>1824</th>\n",
       "      <td>0.000080</td>\n",
       "      <td>Colombo Proper</td>\n",
       "      <td>12/31/2023</td>\n",
       "      <td>1/1/2024</td>\n",
       "      <td>-0.919654</td>\n",
       "    </tr>\n",
       "  </tbody>\n",
       "</table>\n",
       "<p>1825 rows × 5 columns</p>\n",
       "</div>"
      ],
      "text/plain": [
       "      HCHO Reading        Location Current Date   Next Date  \\\n",
       "0         0.000263  Colombo Proper     1/2/2019    1/3/2019   \n",
       "1         0.000099  Colombo Proper     1/3/2019    1/4/2019   \n",
       "2         0.000210  Colombo Proper     1/4/2019    1/5/2019   \n",
       "3         0.000179  Colombo Proper     1/5/2019    1/6/2019   \n",
       "4         0.000108  Colombo Proper     1/6/2019    1/7/2019   \n",
       "...            ...             ...          ...         ...   \n",
       "1820      0.000118  Colombo Proper   12/27/2023  12/28/2023   \n",
       "1821      0.000159  Colombo Proper   12/28/2023  12/29/2023   \n",
       "1822      0.000159  Colombo Proper   12/29/2023  12/30/2023   \n",
       "1823      0.000140  Colombo Proper   12/30/2023  12/31/2023   \n",
       "1824      0.000080  Colombo Proper   12/31/2023    1/1/2024   \n",
       "\n",
       "      HCHO Reading Z-Score  \n",
       "0                 1.223498  \n",
       "1                -0.706055  \n",
       "2                 0.604510  \n",
       "3                 0.235165  \n",
       "4                -0.591846  \n",
       "...                    ...  \n",
       "1820             -0.474836  \n",
       "1821              0.000000  \n",
       "1822              0.000000  \n",
       "1823             -0.220183  \n",
       "1824             -0.919654  \n",
       "\n",
       "[1825 rows x 5 columns]"
      ]
     },
     "execution_count": 438,
     "metadata": {},
     "output_type": "execute_result"
    }
   ],
   "source": [
    "colombo_df['HCHO Reading Z-Score'] = Z_Score_of_Colombo\n",
    "colombo_df"
   ]
  },
  {
   "cell_type": "code",
   "execution_count": 439,
   "metadata": {},
   "outputs": [
    {
     "name": "stdout",
     "output_type": "stream",
     "text": [
      "Number of outliers: 71\n"
     ]
    }
   ],
   "source": [
    "# Count the number of rows in the filtered DataFrame\n",
    "num_outliers = len(colombo_df[colombo_df['HCHO Reading Z-Score']>2])\n",
    "print(\"Number of outliers:\", num_outliers)"
   ]
  },
  {
   "cell_type": "code",
   "execution_count": 440,
   "metadata": {},
   "outputs": [
    {
     "name": "stdout",
     "output_type": "stream",
     "text": [
      "Number of outliers: 41\n"
     ]
    }
   ],
   "source": [
    "# Count the number of rows in the filtered DataFrame\n",
    "num_outliers = len(colombo_df[colombo_df['HCHO Reading Z-Score']<-2])\n",
    "print(\"Number of outliers:\", num_outliers)"
   ]
  },
  {
   "cell_type": "markdown",
   "metadata": {},
   "source": [
    "Removing outliers in Colombo"
   ]
  },
  {
   "cell_type": "code",
   "execution_count": 441,
   "metadata": {},
   "outputs": [],
   "source": [
    "outlier_indexes = []\n",
    "outlier_indexes.extend(colombo_df.index[colombo_df['HCHO Reading Z-Score']>2].tolist())\n",
    "outlier_indexes.extend(colombo_df.index[colombo_df['HCHO Reading Z-Score']<-2].tolist())\n",
    "new_colombo_df = colombo_df.drop(colombo_df.index[outlier_indexes])"
   ]
  },
  {
   "cell_type": "markdown",
   "metadata": {},
   "source": [
    "Checking the difference of the dataframes "
   ]
  },
  {
   "cell_type": "code",
   "execution_count": 442,
   "metadata": {},
   "outputs": [
    {
     "data": {
      "text/plain": [
       "(1825, 1713)"
      ]
     },
     "execution_count": 442,
     "metadata": {},
     "output_type": "execute_result"
    }
   ],
   "source": [
    "colombo_df.shape[0], new_colombo_df.shape[0]"
   ]
  },
  {
   "cell_type": "markdown",
   "metadata": {},
   "source": [
    "Dropping HCHO Reading Z-Score column from the new dataframe"
   ]
  },
  {
   "cell_type": "code",
   "execution_count": 443,
   "metadata": {},
   "outputs": [
    {
     "data": {
      "text/html": [
       "<div>\n",
       "<style scoped>\n",
       "    .dataframe tbody tr th:only-of-type {\n",
       "        vertical-align: middle;\n",
       "    }\n",
       "\n",
       "    .dataframe tbody tr th {\n",
       "        vertical-align: top;\n",
       "    }\n",
       "\n",
       "    .dataframe thead th {\n",
       "        text-align: right;\n",
       "    }\n",
       "</style>\n",
       "<table border=\"1\" class=\"dataframe\">\n",
       "  <thead>\n",
       "    <tr style=\"text-align: right;\">\n",
       "      <th></th>\n",
       "      <th>HCHO Reading</th>\n",
       "      <th>Location</th>\n",
       "      <th>Current Date</th>\n",
       "      <th>Next Date</th>\n",
       "    </tr>\n",
       "  </thead>\n",
       "  <tbody>\n",
       "    <tr>\n",
       "      <th>0</th>\n",
       "      <td>0.000263</td>\n",
       "      <td>Colombo Proper</td>\n",
       "      <td>1/2/2019</td>\n",
       "      <td>1/3/2019</td>\n",
       "    </tr>\n",
       "    <tr>\n",
       "      <th>1</th>\n",
       "      <td>0.000099</td>\n",
       "      <td>Colombo Proper</td>\n",
       "      <td>1/3/2019</td>\n",
       "      <td>1/4/2019</td>\n",
       "    </tr>\n",
       "    <tr>\n",
       "      <th>2</th>\n",
       "      <td>0.000210</td>\n",
       "      <td>Colombo Proper</td>\n",
       "      <td>1/4/2019</td>\n",
       "      <td>1/5/2019</td>\n",
       "    </tr>\n",
       "    <tr>\n",
       "      <th>3</th>\n",
       "      <td>0.000179</td>\n",
       "      <td>Colombo Proper</td>\n",
       "      <td>1/5/2019</td>\n",
       "      <td>1/6/2019</td>\n",
       "    </tr>\n",
       "    <tr>\n",
       "      <th>4</th>\n",
       "      <td>0.000108</td>\n",
       "      <td>Colombo Proper</td>\n",
       "      <td>1/6/2019</td>\n",
       "      <td>1/7/2019</td>\n",
       "    </tr>\n",
       "    <tr>\n",
       "      <th>...</th>\n",
       "      <td>...</td>\n",
       "      <td>...</td>\n",
       "      <td>...</td>\n",
       "      <td>...</td>\n",
       "    </tr>\n",
       "    <tr>\n",
       "      <th>1820</th>\n",
       "      <td>0.000118</td>\n",
       "      <td>Colombo Proper</td>\n",
       "      <td>12/27/2023</td>\n",
       "      <td>12/28/2023</td>\n",
       "    </tr>\n",
       "    <tr>\n",
       "      <th>1821</th>\n",
       "      <td>0.000159</td>\n",
       "      <td>Colombo Proper</td>\n",
       "      <td>12/28/2023</td>\n",
       "      <td>12/29/2023</td>\n",
       "    </tr>\n",
       "    <tr>\n",
       "      <th>1822</th>\n",
       "      <td>0.000159</td>\n",
       "      <td>Colombo Proper</td>\n",
       "      <td>12/29/2023</td>\n",
       "      <td>12/30/2023</td>\n",
       "    </tr>\n",
       "    <tr>\n",
       "      <th>1823</th>\n",
       "      <td>0.000140</td>\n",
       "      <td>Colombo Proper</td>\n",
       "      <td>12/30/2023</td>\n",
       "      <td>12/31/2023</td>\n",
       "    </tr>\n",
       "    <tr>\n",
       "      <th>1824</th>\n",
       "      <td>0.000080</td>\n",
       "      <td>Colombo Proper</td>\n",
       "      <td>12/31/2023</td>\n",
       "      <td>1/1/2024</td>\n",
       "    </tr>\n",
       "  </tbody>\n",
       "</table>\n",
       "<p>1713 rows × 4 columns</p>\n",
       "</div>"
      ],
      "text/plain": [
       "      HCHO Reading        Location Current Date   Next Date\n",
       "0         0.000263  Colombo Proper     1/2/2019    1/3/2019\n",
       "1         0.000099  Colombo Proper     1/3/2019    1/4/2019\n",
       "2         0.000210  Colombo Proper     1/4/2019    1/5/2019\n",
       "3         0.000179  Colombo Proper     1/5/2019    1/6/2019\n",
       "4         0.000108  Colombo Proper     1/6/2019    1/7/2019\n",
       "...            ...             ...          ...         ...\n",
       "1820      0.000118  Colombo Proper   12/27/2023  12/28/2023\n",
       "1821      0.000159  Colombo Proper   12/28/2023  12/29/2023\n",
       "1822      0.000159  Colombo Proper   12/29/2023  12/30/2023\n",
       "1823      0.000140  Colombo Proper   12/30/2023  12/31/2023\n",
       "1824      0.000080  Colombo Proper   12/31/2023    1/1/2024\n",
       "\n",
       "[1713 rows x 4 columns]"
      ]
     },
     "execution_count": 443,
     "metadata": {},
     "output_type": "execute_result"
    }
   ],
   "source": [
    "new_colombo_df.drop('HCHO Reading Z-Score', axis = 1)"
   ]
  },
  {
   "cell_type": "markdown",
   "metadata": {},
   "source": [
    "After removing outliers in Colombo dataframe"
   ]
  },
  {
   "cell_type": "code",
   "execution_count": 444,
   "metadata": {},
   "outputs": [
    {
     "data": {
      "text/plain": [
       "Text(0.5, 1.0, 'Histogram of Colombo DataFrame')"
      ]
     },
     "execution_count": 444,
     "metadata": {},
     "output_type": "execute_result"
    },
    {
     "data": {
      "image/png": "[encoded data removed]",
      "text/plain": [
       "<Figure size 640x480 with 1 Axes>"
      ]
     },
     "metadata": {},
     "output_type": "display_data"
    }
   ],
   "source": [
    "plt.hist(new_colombo_df['HCHO Reading'])\n",
    "plt.xlabel('HCHO Reading')\n",
    "plt.ylabel('Value')\n",
    "plt.title('Histogram of Colombo DataFrame')"
   ]
  },
  {
   "cell_type": "markdown",
   "metadata": {},
   "source": [
    "Identifying outliers in Nuwara Eliya Proper DataFrame"
   ]
  },
  {
   "cell_type": "code",
   "execution_count": 445,
   "metadata": {},
   "outputs": [
    {
     "data": {
      "text/plain": [
       "Text(0.5, 1.0, 'Histogram of Nuwara Eliya Proper DataFrame')"
      ]
     },
     "execution_count": 445,
     "metadata": {},
     "output_type": "execute_result"
    },
    {
     "data": {
      "image/png": "[encoded data removed]",
      "text/plain": [
       "<Figure size 640x480 with 1 Axes>"
      ]
     },
     "metadata": {},
     "output_type": "display_data"
    }
   ],
   "source": [
    "plt.hist(nuwaraeliya_df['HCHO Reading'])\n",
    "plt.xlabel('HCHO Reading')\n",
    "plt.ylabel('Value')\n",
    "plt.title('Histogram of Nuwara Eliya Proper DataFrame')"
   ]
  },
  {
   "cell_type": "markdown",
   "metadata": {},
   "source": [
    "Finding Z-Score in Nuwara Eliya Proper DataFrame"
   ]
  },
  {
   "cell_type": "code",
   "execution_count": 446,
   "metadata": {},
   "outputs": [
    {
     "data": {
      "text/plain": [
       "0       0.000000\n",
       "1       0.000000\n",
       "2       1.932112\n",
       "3      -0.693769\n",
       "4      -0.438599\n",
       "          ...   \n",
       "1821    0.000000\n",
       "1822    0.000000\n",
       "1823    0.000000\n",
       "1824    0.000000\n",
       "1825    0.000000\n",
       "Name: HCHO Reading, Length: 1826, dtype: float64"
      ]
     },
     "execution_count": 446,
     "metadata": {},
     "output_type": "execute_result"
    }
   ],
   "source": [
    "mean_Correct_values_in_HCHO_Reading_NuwaraEliya\n",
    "std_Nuwara_Eliya = np.std(nuwaraeliya_df['HCHO Reading'])\n",
    "Z_Score_of_Nuwara_Eliya = (nuwaraeliya_df['HCHO Reading']- mean_Correct_values_in_HCHO_Reading_NuwaraEliya)/std_Nuwara_Eliya\n",
    "Z_Score_of_Nuwara_Eliya"
   ]
  },
  {
   "cell_type": "markdown",
   "metadata": {},
   "source": [
    "Adding another column to Kandy as HCHO Reading Z-Score"
   ]
  },
  {
   "cell_type": "code",
   "execution_count": 447,
   "metadata": {},
   "outputs": [
    {
     "name": "stderr",
     "output_type": "stream",
     "text": [
      "C:\\Users\\deela\\AppData\\Local\\Temp\\ipykernel_1248\\653051969.py:1: SettingWithCopyWarning: \n",
      "A value is trying to be set on a copy of a slice from a DataFrame.\n",
      "Try using .loc[row_indexer,col_indexer] = value instead\n",
      "\n",
      "See the caveats in the documentation: https://pandas.pydata.org/pandas-docs/stable/user_guide/indexing.html#returning-a-view-versus-a-copy\n",
      "  nuwaraeliya_df['HCHO Reading Z-Score'] = Z_Score_of_Nuwara_Eliya\n"
     ]
    },
    {
     "data": {
      "text/html": [
       "<div>\n",
       "<style scoped>\n",
       "    .dataframe tbody tr th:only-of-type {\n",
       "        vertical-align: middle;\n",
       "    }\n",
       "\n",
       "    .dataframe tbody tr th {\n",
       "        vertical-align: top;\n",
       "    }\n",
       "\n",
       "    .dataframe thead th {\n",
       "        text-align: right;\n",
       "    }\n",
       "</style>\n",
       "<table border=\"1\" class=\"dataframe\">\n",
       "  <thead>\n",
       "    <tr style=\"text-align: right;\">\n",
       "      <th></th>\n",
       "      <th>HCHO Reading</th>\n",
       "      <th>Location</th>\n",
       "      <th>Current Date</th>\n",
       "      <th>Next Date</th>\n",
       "      <th>HCHO Reading Z-Score</th>\n",
       "    </tr>\n",
       "  </thead>\n",
       "  <tbody>\n",
       "    <tr>\n",
       "      <th>0</th>\n",
       "      <td>0.000088</td>\n",
       "      <td>Nuwara Eliya Proper</td>\n",
       "      <td>1/1/2019</td>\n",
       "      <td>1/2/2019</td>\n",
       "      <td>0.000000</td>\n",
       "    </tr>\n",
       "    <tr>\n",
       "      <th>1</th>\n",
       "      <td>0.000088</td>\n",
       "      <td>Nuwara Eliya Proper</td>\n",
       "      <td>1/2/2019</td>\n",
       "      <td>1/3/2019</td>\n",
       "      <td>0.000000</td>\n",
       "    </tr>\n",
       "    <tr>\n",
       "      <th>2</th>\n",
       "      <td>0.000191</td>\n",
       "      <td>Nuwara Eliya Proper</td>\n",
       "      <td>1/3/2019</td>\n",
       "      <td>1/4/2019</td>\n",
       "      <td>1.932112</td>\n",
       "    </tr>\n",
       "    <tr>\n",
       "      <th>3</th>\n",
       "      <td>0.000051</td>\n",
       "      <td>Nuwara Eliya Proper</td>\n",
       "      <td>1/4/2019</td>\n",
       "      <td>1/5/2019</td>\n",
       "      <td>-0.693769</td>\n",
       "    </tr>\n",
       "    <tr>\n",
       "      <th>4</th>\n",
       "      <td>0.000065</td>\n",
       "      <td>Nuwara Eliya Proper</td>\n",
       "      <td>1/5/2019</td>\n",
       "      <td>1/6/2019</td>\n",
       "      <td>-0.438599</td>\n",
       "    </tr>\n",
       "    <tr>\n",
       "      <th>...</th>\n",
       "      <td>...</td>\n",
       "      <td>...</td>\n",
       "      <td>...</td>\n",
       "      <td>...</td>\n",
       "      <td>...</td>\n",
       "    </tr>\n",
       "    <tr>\n",
       "      <th>1821</th>\n",
       "      <td>0.000088</td>\n",
       "      <td>Nuwara Eliya Proper</td>\n",
       "      <td>12/27/2023</td>\n",
       "      <td>12/28/2023</td>\n",
       "      <td>0.000000</td>\n",
       "    </tr>\n",
       "    <tr>\n",
       "      <th>1822</th>\n",
       "      <td>0.000088</td>\n",
       "      <td>Nuwara Eliya Proper</td>\n",
       "      <td>12/28/2023</td>\n",
       "      <td>12/29/2023</td>\n",
       "      <td>0.000000</td>\n",
       "    </tr>\n",
       "    <tr>\n",
       "      <th>1823</th>\n",
       "      <td>0.000088</td>\n",
       "      <td>Nuwara Eliya Proper</td>\n",
       "      <td>12/29/2023</td>\n",
       "      <td>12/30/2023</td>\n",
       "      <td>0.000000</td>\n",
       "    </tr>\n",
       "    <tr>\n",
       "      <th>1824</th>\n",
       "      <td>0.000088</td>\n",
       "      <td>Nuwara Eliya Proper</td>\n",
       "      <td>12/30/2023</td>\n",
       "      <td>12/31/2023</td>\n",
       "      <td>0.000000</td>\n",
       "    </tr>\n",
       "    <tr>\n",
       "      <th>1825</th>\n",
       "      <td>0.000088</td>\n",
       "      <td>Nuwara Eliya Proper</td>\n",
       "      <td>12/31/2023</td>\n",
       "      <td>1/1/2024</td>\n",
       "      <td>0.000000</td>\n",
       "    </tr>\n",
       "  </tbody>\n",
       "</table>\n",
       "<p>1826 rows × 5 columns</p>\n",
       "</div>"
      ],
      "text/plain": [
       "      HCHO Reading             Location Current Date   Next Date  \\\n",
       "0         0.000088  Nuwara Eliya Proper     1/1/2019    1/2/2019   \n",
       "1         0.000088  Nuwara Eliya Proper     1/2/2019    1/3/2019   \n",
       "2         0.000191  Nuwara Eliya Proper     1/3/2019    1/4/2019   \n",
       "3         0.000051  Nuwara Eliya Proper     1/4/2019    1/5/2019   \n",
       "4         0.000065  Nuwara Eliya Proper     1/5/2019    1/6/2019   \n",
       "...            ...                  ...          ...         ...   \n",
       "1821      0.000088  Nuwara Eliya Proper   12/27/2023  12/28/2023   \n",
       "1822      0.000088  Nuwara Eliya Proper   12/28/2023  12/29/2023   \n",
       "1823      0.000088  Nuwara Eliya Proper   12/29/2023  12/30/2023   \n",
       "1824      0.000088  Nuwara Eliya Proper   12/30/2023  12/31/2023   \n",
       "1825      0.000088  Nuwara Eliya Proper   12/31/2023    1/1/2024   \n",
       "\n",
       "      HCHO Reading Z-Score  \n",
       "0                 0.000000  \n",
       "1                 0.000000  \n",
       "2                 1.932112  \n",
       "3                -0.693769  \n",
       "4                -0.438599  \n",
       "...                    ...  \n",
       "1821              0.000000  \n",
       "1822              0.000000  \n",
       "1823              0.000000  \n",
       "1824              0.000000  \n",
       "1825              0.000000  \n",
       "\n",
       "[1826 rows x 5 columns]"
      ]
     },
     "execution_count": 447,
     "metadata": {},
     "output_type": "execute_result"
    }
   ],
   "source": [
    "nuwaraeliya_df['HCHO Reading Z-Score'] = Z_Score_of_Nuwara_Eliya\n",
    "nuwaraeliya_df"
   ]
  },
  {
   "cell_type": "code",
   "execution_count": 448,
   "metadata": {},
   "outputs": [
    {
     "name": "stdout",
     "output_type": "stream",
     "text": [
      "Number of outliers: 74\n"
     ]
    }
   ],
   "source": [
    "# Count the number of rows in the filtered DataFrame\n",
    "num_outliers = len(nuwaraeliya_df[nuwaraeliya_df['HCHO Reading Z-Score']>2])\n",
    "print(\"Number of outliers:\", num_outliers)"
   ]
  },
  {
   "cell_type": "code",
   "execution_count": 449,
   "metadata": {},
   "outputs": [
    {
     "name": "stdout",
     "output_type": "stream",
     "text": [
      "Number of outliers: 65\n"
     ]
    }
   ],
   "source": [
    "# Count the number of rows in the filtered DataFrame\n",
    "num_outliers = len(nuwaraeliya_df[nuwaraeliya_df['HCHO Reading Z-Score']<-2])\n",
    "print(\"Number of outliers:\", num_outliers)"
   ]
  },
  {
   "cell_type": "markdown",
   "metadata": {},
   "source": [
    "Removing outliers in Nuwara Eliya Proper"
   ]
  },
  {
   "cell_type": "code",
   "execution_count": 450,
   "metadata": {},
   "outputs": [],
   "source": [
    "outlier_indexes = []\n",
    "outlier_indexes.extend(nuwaraeliya_df.index[nuwaraeliya_df['HCHO Reading Z-Score']>2].tolist())\n",
    "outlier_indexes.extend(nuwaraeliya_df.index[nuwaraeliya_df['HCHO Reading Z-Score']<-2].tolist())\n",
    "new_nuwaraeliya_df = nuwaraeliya_df.drop(nuwaraeliya_df.index[outlier_indexes])"
   ]
  },
  {
   "cell_type": "markdown",
   "metadata": {},
   "source": [
    "Checking the difference between the dataframes "
   ]
  },
  {
   "cell_type": "code",
   "execution_count": 451,
   "metadata": {},
   "outputs": [
    {
     "data": {
      "text/plain": [
       "(1687, 1826)"
      ]
     },
     "execution_count": 451,
     "metadata": {},
     "output_type": "execute_result"
    }
   ],
   "source": [
    "new_nuwaraeliya_df.shape[0], nuwaraeliya_df.shape[0]"
   ]
  },
  {
   "cell_type": "markdown",
   "metadata": {},
   "source": [
    "Dropping HCHO Reading Z-Score column from the new dataframe"
   ]
  },
  {
   "cell_type": "code",
   "execution_count": 452,
   "metadata": {},
   "outputs": [
    {
     "data": {
      "text/html": [
       "<div>\n",
       "<style scoped>\n",
       "    .dataframe tbody tr th:only-of-type {\n",
       "        vertical-align: middle;\n",
       "    }\n",
       "\n",
       "    .dataframe tbody tr th {\n",
       "        vertical-align: top;\n",
       "    }\n",
       "\n",
       "    .dataframe thead th {\n",
       "        text-align: right;\n",
       "    }\n",
       "</style>\n",
       "<table border=\"1\" class=\"dataframe\">\n",
       "  <thead>\n",
       "    <tr style=\"text-align: right;\">\n",
       "      <th></th>\n",
       "      <th>HCHO Reading</th>\n",
       "      <th>Location</th>\n",
       "      <th>Current Date</th>\n",
       "      <th>Next Date</th>\n",
       "    </tr>\n",
       "  </thead>\n",
       "  <tbody>\n",
       "    <tr>\n",
       "      <th>0</th>\n",
       "      <td>0.000088</td>\n",
       "      <td>Nuwara Eliya Proper</td>\n",
       "      <td>1/1/2019</td>\n",
       "      <td>1/2/2019</td>\n",
       "    </tr>\n",
       "    <tr>\n",
       "      <th>1</th>\n",
       "      <td>0.000088</td>\n",
       "      <td>Nuwara Eliya Proper</td>\n",
       "      <td>1/2/2019</td>\n",
       "      <td>1/3/2019</td>\n",
       "    </tr>\n",
       "    <tr>\n",
       "      <th>2</th>\n",
       "      <td>0.000191</td>\n",
       "      <td>Nuwara Eliya Proper</td>\n",
       "      <td>1/3/2019</td>\n",
       "      <td>1/4/2019</td>\n",
       "    </tr>\n",
       "    <tr>\n",
       "      <th>3</th>\n",
       "      <td>0.000051</td>\n",
       "      <td>Nuwara Eliya Proper</td>\n",
       "      <td>1/4/2019</td>\n",
       "      <td>1/5/2019</td>\n",
       "    </tr>\n",
       "    <tr>\n",
       "      <th>4</th>\n",
       "      <td>0.000065</td>\n",
       "      <td>Nuwara Eliya Proper</td>\n",
       "      <td>1/5/2019</td>\n",
       "      <td>1/6/2019</td>\n",
       "    </tr>\n",
       "    <tr>\n",
       "      <th>...</th>\n",
       "      <td>...</td>\n",
       "      <td>...</td>\n",
       "      <td>...</td>\n",
       "      <td>...</td>\n",
       "    </tr>\n",
       "    <tr>\n",
       "      <th>1821</th>\n",
       "      <td>0.000088</td>\n",
       "      <td>Nuwara Eliya Proper</td>\n",
       "      <td>12/27/2023</td>\n",
       "      <td>12/28/2023</td>\n",
       "    </tr>\n",
       "    <tr>\n",
       "      <th>1822</th>\n",
       "      <td>0.000088</td>\n",
       "      <td>Nuwara Eliya Proper</td>\n",
       "      <td>12/28/2023</td>\n",
       "      <td>12/29/2023</td>\n",
       "    </tr>\n",
       "    <tr>\n",
       "      <th>1823</th>\n",
       "      <td>0.000088</td>\n",
       "      <td>Nuwara Eliya Proper</td>\n",
       "      <td>12/29/2023</td>\n",
       "      <td>12/30/2023</td>\n",
       "    </tr>\n",
       "    <tr>\n",
       "      <th>1824</th>\n",
       "      <td>0.000088</td>\n",
       "      <td>Nuwara Eliya Proper</td>\n",
       "      <td>12/30/2023</td>\n",
       "      <td>12/31/2023</td>\n",
       "    </tr>\n",
       "    <tr>\n",
       "      <th>1825</th>\n",
       "      <td>0.000088</td>\n",
       "      <td>Nuwara Eliya Proper</td>\n",
       "      <td>12/31/2023</td>\n",
       "      <td>1/1/2024</td>\n",
       "    </tr>\n",
       "  </tbody>\n",
       "</table>\n",
       "<p>1687 rows × 4 columns</p>\n",
       "</div>"
      ],
      "text/plain": [
       "      HCHO Reading             Location Current Date   Next Date\n",
       "0         0.000088  Nuwara Eliya Proper     1/1/2019    1/2/2019\n",
       "1         0.000088  Nuwara Eliya Proper     1/2/2019    1/3/2019\n",
       "2         0.000191  Nuwara Eliya Proper     1/3/2019    1/4/2019\n",
       "3         0.000051  Nuwara Eliya Proper     1/4/2019    1/5/2019\n",
       "4         0.000065  Nuwara Eliya Proper     1/5/2019    1/6/2019\n",
       "...            ...                  ...          ...         ...\n",
       "1821      0.000088  Nuwara Eliya Proper   12/27/2023  12/28/2023\n",
       "1822      0.000088  Nuwara Eliya Proper   12/28/2023  12/29/2023\n",
       "1823      0.000088  Nuwara Eliya Proper   12/29/2023  12/30/2023\n",
       "1824      0.000088  Nuwara Eliya Proper   12/30/2023  12/31/2023\n",
       "1825      0.000088  Nuwara Eliya Proper   12/31/2023    1/1/2024\n",
       "\n",
       "[1687 rows x 4 columns]"
      ]
     },
     "execution_count": 452,
     "metadata": {},
     "output_type": "execute_result"
    }
   ],
   "source": [
    "new_nuwaraeliya_df.drop('HCHO Reading Z-Score', axis = 1)"
   ]
  },
  {
   "cell_type": "markdown",
   "metadata": {},
   "source": [
    "After removing outliers in Nuwara Eliya Porper dataframe"
   ]
  },
  {
   "cell_type": "code",
   "execution_count": 453,
   "metadata": {},
   "outputs": [
    {
     "data": {
      "text/plain": [
       "Text(0.5, 1.0, 'Histogram of Nuwara Eliya Proper DataFrame')"
      ]
     },
     "execution_count": 453,
     "metadata": {},
     "output_type": "execute_result"
    },
    {
     "data": {
      "image/png": "[encoded data removed]",
      "text/plain": [
       "<Figure size 640x480 with 1 Axes>"
      ]
     },
     "metadata": {},
     "output_type": "display_data"
    }
   ],
   "source": [
    "plt.hist(new_nuwaraeliya_df['HCHO Reading'])\n",
    "plt.xlabel('HCHO Reading')\n",
    "plt.ylabel('Value')\n",
    "plt.title('Histogram of Nuwara Eliya Proper DataFrame')"
   ]
  },
  {
   "cell_type": "markdown",
   "metadata": {},
   "source": [
    "Identifying outliers in Matara DataFrame"
   ]
  },
  {
   "cell_type": "code",
   "execution_count": 454,
   "metadata": {},
   "outputs": [
    {
     "data": {
      "text/plain": [
       "Text(0.5, 1.0, 'Histogram of Matara DataFrame')"
      ]
     },
     "execution_count": 454,
     "metadata": {},
     "output_type": "execute_result"
    },
    {
     "data": {
      "image/png": "[encoded data removed]",
      "text/plain": [
       "<Figure size 640x480 with 1 Axes>"
      ]
     },
     "metadata": {},
     "output_type": "display_data"
    }
   ],
   "source": [
    "plt.hist(matara_df['HCHO Reading'])\n",
    "plt.xlabel('HCHO Reading')\n",
    "plt.ylabel('Value')\n",
    "plt.title('Histogram of Matara DataFrame')"
   ]
  },
  {
   "cell_type": "markdown",
   "metadata": {},
   "source": [
    "Finding Z-Score in Matara Dataframe "
   ]
  },
  {
   "cell_type": "code",
   "execution_count": 455,
   "metadata": {},
   "outputs": [
    {
     "data": {
      "text/plain": [
       "0       0.000000\n",
       "1      -1.207167\n",
       "2       2.032929\n",
       "3      -0.383633\n",
       "4      -0.536551\n",
       "          ...   \n",
       "1821    1.912989\n",
       "1822    0.000000\n",
       "1823    0.000000\n",
       "1824    0.343733\n",
       "1825    0.000000\n",
       "Name: HCHO Reading, Length: 1826, dtype: float64"
      ]
     },
     "execution_count": 455,
     "metadata": {},
     "output_type": "execute_result"
    }
   ],
   "source": [
    "mean_Correct_values_in_HCHO_Reading_Matara\n",
    "std_Matara = np.std(matara_df['HCHO Reading'])\n",
    "Z_Score_of_Matara = (matara_df['HCHO Reading']- mean_Correct_values_in_HCHO_Reading_Matara)/std_Matara\n",
    "Z_Score_of_Matara"
   ]
  },
  {
   "cell_type": "markdown",
   "metadata": {},
   "source": [
    "Adding another column to Matara as HCHO Reading Z-Score"
   ]
  },
  {
   "cell_type": "code",
   "execution_count": 456,
   "metadata": {},
   "outputs": [
    {
     "name": "stderr",
     "output_type": "stream",
     "text": [
      "C:\\Users\\deela\\AppData\\Local\\Temp\\ipykernel_1248\\993298983.py:1: SettingWithCopyWarning: \n",
      "A value is trying to be set on a copy of a slice from a DataFrame.\n",
      "Try using .loc[row_indexer,col_indexer] = value instead\n",
      "\n",
      "See the caveats in the documentation: https://pandas.pydata.org/pandas-docs/stable/user_guide/indexing.html#returning-a-view-versus-a-copy\n",
      "  matara_df['HCHO Reading Z-Score'] = Z_Score_of_Matara\n"
     ]
    },
    {
     "data": {
      "text/html": [
       "<div>\n",
       "<style scoped>\n",
       "    .dataframe tbody tr th:only-of-type {\n",
       "        vertical-align: middle;\n",
       "    }\n",
       "\n",
       "    .dataframe tbody tr th {\n",
       "        vertical-align: top;\n",
       "    }\n",
       "\n",
       "    .dataframe thead th {\n",
       "        text-align: right;\n",
       "    }\n",
       "</style>\n",
       "<table border=\"1\" class=\"dataframe\">\n",
       "  <thead>\n",
       "    <tr style=\"text-align: right;\">\n",
       "      <th></th>\n",
       "      <th>HCHO Reading</th>\n",
       "      <th>Location</th>\n",
       "      <th>Current Date</th>\n",
       "      <th>Next Date</th>\n",
       "      <th>HCHO Reading Z-Score</th>\n",
       "    </tr>\n",
       "  </thead>\n",
       "  <tbody>\n",
       "    <tr>\n",
       "      <th>0</th>\n",
       "      <td>0.000092</td>\n",
       "      <td>Deniyaya, Matara</td>\n",
       "      <td>1/1/2019</td>\n",
       "      <td>1/2/2019</td>\n",
       "      <td>0.000000</td>\n",
       "    </tr>\n",
       "    <tr>\n",
       "      <th>1</th>\n",
       "      <td>0.000006</td>\n",
       "      <td>Deniyaya, Matara</td>\n",
       "      <td>1/2/2019</td>\n",
       "      <td>1/3/2019</td>\n",
       "      <td>-1.207167</td>\n",
       "    </tr>\n",
       "    <tr>\n",
       "      <th>2</th>\n",
       "      <td>0.000236</td>\n",
       "      <td>Deniyaya, Matara</td>\n",
       "      <td>1/3/2019</td>\n",
       "      <td>1/4/2019</td>\n",
       "      <td>2.032929</td>\n",
       "    </tr>\n",
       "    <tr>\n",
       "      <th>3</th>\n",
       "      <td>0.000064</td>\n",
       "      <td>Deniyaya, Matara</td>\n",
       "      <td>1/4/2019</td>\n",
       "      <td>1/5/2019</td>\n",
       "      <td>-0.383633</td>\n",
       "    </tr>\n",
       "    <tr>\n",
       "      <th>4</th>\n",
       "      <td>0.000053</td>\n",
       "      <td>Deniyaya, Matara</td>\n",
       "      <td>1/5/2019</td>\n",
       "      <td>1/6/2019</td>\n",
       "      <td>-0.536551</td>\n",
       "    </tr>\n",
       "    <tr>\n",
       "      <th>...</th>\n",
       "      <td>...</td>\n",
       "      <td>...</td>\n",
       "      <td>...</td>\n",
       "      <td>...</td>\n",
       "      <td>...</td>\n",
       "    </tr>\n",
       "    <tr>\n",
       "      <th>1821</th>\n",
       "      <td>0.000228</td>\n",
       "      <td>Deniyaya, Matara</td>\n",
       "      <td>12/27/2023</td>\n",
       "      <td>12/28/2023</td>\n",
       "      <td>1.912989</td>\n",
       "    </tr>\n",
       "    <tr>\n",
       "      <th>1822</th>\n",
       "      <td>0.000092</td>\n",
       "      <td>Deniyaya, Matara</td>\n",
       "      <td>12/28/2023</td>\n",
       "      <td>12/29/2023</td>\n",
       "      <td>0.000000</td>\n",
       "    </tr>\n",
       "    <tr>\n",
       "      <th>1823</th>\n",
       "      <td>0.000092</td>\n",
       "      <td>Deniyaya, Matara</td>\n",
       "      <td>12/29/2023</td>\n",
       "      <td>12/30/2023</td>\n",
       "      <td>0.000000</td>\n",
       "    </tr>\n",
       "    <tr>\n",
       "      <th>1824</th>\n",
       "      <td>0.000116</td>\n",
       "      <td>Deniyaya, Matara</td>\n",
       "      <td>12/30/2023</td>\n",
       "      <td>12/31/2023</td>\n",
       "      <td>0.343733</td>\n",
       "    </tr>\n",
       "    <tr>\n",
       "      <th>1825</th>\n",
       "      <td>0.000092</td>\n",
       "      <td>Deniyaya, Matara</td>\n",
       "      <td>12/31/2023</td>\n",
       "      <td>1/1/2024</td>\n",
       "      <td>0.000000</td>\n",
       "    </tr>\n",
       "  </tbody>\n",
       "</table>\n",
       "<p>1826 rows × 5 columns</p>\n",
       "</div>"
      ],
      "text/plain": [
       "      HCHO Reading          Location Current Date   Next Date  \\\n",
       "0         0.000092  Deniyaya, Matara     1/1/2019    1/2/2019   \n",
       "1         0.000006  Deniyaya, Matara     1/2/2019    1/3/2019   \n",
       "2         0.000236  Deniyaya, Matara     1/3/2019    1/4/2019   \n",
       "3         0.000064  Deniyaya, Matara     1/4/2019    1/5/2019   \n",
       "4         0.000053  Deniyaya, Matara     1/5/2019    1/6/2019   \n",
       "...            ...               ...          ...         ...   \n",
       "1821      0.000228  Deniyaya, Matara   12/27/2023  12/28/2023   \n",
       "1822      0.000092  Deniyaya, Matara   12/28/2023  12/29/2023   \n",
       "1823      0.000092  Deniyaya, Matara   12/29/2023  12/30/2023   \n",
       "1824      0.000116  Deniyaya, Matara   12/30/2023  12/31/2023   \n",
       "1825      0.000092  Deniyaya, Matara   12/31/2023    1/1/2024   \n",
       "\n",
       "      HCHO Reading Z-Score  \n",
       "0                 0.000000  \n",
       "1                -1.207167  \n",
       "2                 2.032929  \n",
       "3                -0.383633  \n",
       "4                -0.536551  \n",
       "...                    ...  \n",
       "1821              1.912989  \n",
       "1822              0.000000  \n",
       "1823              0.000000  \n",
       "1824              0.343733  \n",
       "1825              0.000000  \n",
       "\n",
       "[1826 rows x 5 columns]"
      ]
     },
     "execution_count": 456,
     "metadata": {},
     "output_type": "execute_result"
    }
   ],
   "source": [
    "matara_df['HCHO Reading Z-Score'] = Z_Score_of_Matara\n",
    "matara_df"
   ]
  },
  {
   "cell_type": "code",
   "execution_count": 457,
   "metadata": {},
   "outputs": [
    {
     "name": "stdout",
     "output_type": "stream",
     "text": [
      "Number of outliers: 31\n"
     ]
    }
   ],
   "source": [
    "# Count the number of rows in the filtered DataFrame\n",
    "num_outliers = len(matara_df[matara_df['HCHO Reading Z-Score']>2.5])\n",
    "print(\"Number of outliers:\", num_outliers)"
   ]
  },
  {
   "cell_type": "code",
   "execution_count": 458,
   "metadata": {},
   "outputs": [
    {
     "name": "stdout",
     "output_type": "stream",
     "text": [
      "Number of outliers: 14\n"
     ]
    }
   ],
   "source": [
    "# Count the number of rows in the filtered DataFrame\n",
    "num_outliers = len(matara_df[matara_df['HCHO Reading Z-Score']<-2.5])\n",
    "print(\"Number of outliers:\", num_outliers)"
   ]
  },
  {
   "cell_type": "markdown",
   "metadata": {},
   "source": [
    "Removing outliers in Matara"
   ]
  },
  {
   "cell_type": "code",
   "execution_count": 459,
   "metadata": {},
   "outputs": [],
   "source": [
    "outlier_indexes = []\n",
    "outlier_indexes.extend(matara_df.index[matara_df['HCHO Reading Z-Score']>2.5].tolist())\n",
    "outlier_indexes.extend(matara_df.index[matara_df['HCHO Reading Z-Score']<-2.5].tolist())\n",
    "new_matara_df = matara_df.drop(matara_df.index[outlier_indexes])"
   ]
  },
  {
   "cell_type": "markdown",
   "metadata": {},
   "source": [
    "Checking the difference between the dataframes "
   ]
  },
  {
   "cell_type": "code",
   "execution_count": 460,
   "metadata": {},
   "outputs": [
    {
     "data": {
      "text/plain": [
       "(1781, 1826)"
      ]
     },
     "execution_count": 460,
     "metadata": {},
     "output_type": "execute_result"
    }
   ],
   "source": [
    "new_matara_df.shape[0], matara_df.shape[0]"
   ]
  },
  {
   "cell_type": "markdown",
   "metadata": {},
   "source": [
    "Dropping HCHO Reading Z-Score column from the new dataframe"
   ]
  },
  {
   "cell_type": "code",
   "execution_count": 461,
   "metadata": {},
   "outputs": [
    {
     "data": {
      "text/html": [
       "<div>\n",
       "<style scoped>\n",
       "    .dataframe tbody tr th:only-of-type {\n",
       "        vertical-align: middle;\n",
       "    }\n",
       "\n",
       "    .dataframe tbody tr th {\n",
       "        vertical-align: top;\n",
       "    }\n",
       "\n",
       "    .dataframe thead th {\n",
       "        text-align: right;\n",
       "    }\n",
       "</style>\n",
       "<table border=\"1\" class=\"dataframe\">\n",
       "  <thead>\n",
       "    <tr style=\"text-align: right;\">\n",
       "      <th></th>\n",
       "      <th>HCHO Reading</th>\n",
       "      <th>Location</th>\n",
       "      <th>Current Date</th>\n",
       "      <th>Next Date</th>\n",
       "    </tr>\n",
       "  </thead>\n",
       "  <tbody>\n",
       "    <tr>\n",
       "      <th>0</th>\n",
       "      <td>0.000092</td>\n",
       "      <td>Deniyaya, Matara</td>\n",
       "      <td>1/1/2019</td>\n",
       "      <td>1/2/2019</td>\n",
       "    </tr>\n",
       "    <tr>\n",
       "      <th>1</th>\n",
       "      <td>0.000006</td>\n",
       "      <td>Deniyaya, Matara</td>\n",
       "      <td>1/2/2019</td>\n",
       "      <td>1/3/2019</td>\n",
       "    </tr>\n",
       "    <tr>\n",
       "      <th>2</th>\n",
       "      <td>0.000236</td>\n",
       "      <td>Deniyaya, Matara</td>\n",
       "      <td>1/3/2019</td>\n",
       "      <td>1/4/2019</td>\n",
       "    </tr>\n",
       "    <tr>\n",
       "      <th>3</th>\n",
       "      <td>0.000064</td>\n",
       "      <td>Deniyaya, Matara</td>\n",
       "      <td>1/4/2019</td>\n",
       "      <td>1/5/2019</td>\n",
       "    </tr>\n",
       "    <tr>\n",
       "      <th>4</th>\n",
       "      <td>0.000053</td>\n",
       "      <td>Deniyaya, Matara</td>\n",
       "      <td>1/5/2019</td>\n",
       "      <td>1/6/2019</td>\n",
       "    </tr>\n",
       "    <tr>\n",
       "      <th>...</th>\n",
       "      <td>...</td>\n",
       "      <td>...</td>\n",
       "      <td>...</td>\n",
       "      <td>...</td>\n",
       "    </tr>\n",
       "    <tr>\n",
       "      <th>1821</th>\n",
       "      <td>0.000228</td>\n",
       "      <td>Deniyaya, Matara</td>\n",
       "      <td>12/27/2023</td>\n",
       "      <td>12/28/2023</td>\n",
       "    </tr>\n",
       "    <tr>\n",
       "      <th>1822</th>\n",
       "      <td>0.000092</td>\n",
       "      <td>Deniyaya, Matara</td>\n",
       "      <td>12/28/2023</td>\n",
       "      <td>12/29/2023</td>\n",
       "    </tr>\n",
       "    <tr>\n",
       "      <th>1823</th>\n",
       "      <td>0.000092</td>\n",
       "      <td>Deniyaya, Matara</td>\n",
       "      <td>12/29/2023</td>\n",
       "      <td>12/30/2023</td>\n",
       "    </tr>\n",
       "    <tr>\n",
       "      <th>1824</th>\n",
       "      <td>0.000116</td>\n",
       "      <td>Deniyaya, Matara</td>\n",
       "      <td>12/30/2023</td>\n",
       "      <td>12/31/2023</td>\n",
       "    </tr>\n",
       "    <tr>\n",
       "      <th>1825</th>\n",
       "      <td>0.000092</td>\n",
       "      <td>Deniyaya, Matara</td>\n",
       "      <td>12/31/2023</td>\n",
       "      <td>1/1/2024</td>\n",
       "    </tr>\n",
       "  </tbody>\n",
       "</table>\n",
       "<p>1781 rows × 4 columns</p>\n",
       "</div>"
      ],
      "text/plain": [
       "      HCHO Reading          Location Current Date   Next Date\n",
       "0         0.000092  Deniyaya, Matara     1/1/2019    1/2/2019\n",
       "1         0.000006  Deniyaya, Matara     1/2/2019    1/3/2019\n",
       "2         0.000236  Deniyaya, Matara     1/3/2019    1/4/2019\n",
       "3         0.000064  Deniyaya, Matara     1/4/2019    1/5/2019\n",
       "4         0.000053  Deniyaya, Matara     1/5/2019    1/6/2019\n",
       "...            ...               ...          ...         ...\n",
       "1821      0.000228  Deniyaya, Matara   12/27/2023  12/28/2023\n",
       "1822      0.000092  Deniyaya, Matara   12/28/2023  12/29/2023\n",
       "1823      0.000092  Deniyaya, Matara   12/29/2023  12/30/2023\n",
       "1824      0.000116  Deniyaya, Matara   12/30/2023  12/31/2023\n",
       "1825      0.000092  Deniyaya, Matara   12/31/2023    1/1/2024\n",
       "\n",
       "[1781 rows x 4 columns]"
      ]
     },
     "execution_count": 461,
     "metadata": {},
     "output_type": "execute_result"
    }
   ],
   "source": [
    "new_matara_df.drop('HCHO Reading Z-Score', axis = 1)"
   ]
  },
  {
   "cell_type": "markdown",
   "metadata": {},
   "source": [
    "After removing outliers in Mon_Kurun_Jaff dataframe"
   ]
  },
  {
   "cell_type": "code",
   "execution_count": 462,
   "metadata": {},
   "outputs": [
    {
     "data": {
      "text/plain": [
       "Text(0.5, 1.0, 'Histogram of Matara DataFrame')"
      ]
     },
     "execution_count": 462,
     "metadata": {},
     "output_type": "execute_result"
    },
    {
     "data": {
      "image/png": "[encoded data removed]",
      "text/plain": [
       "<Figure size 640x480 with 1 Axes>"
      ]
     },
     "metadata": {},
     "output_type": "display_data"
    }
   ],
   "source": [
    "plt.hist(new_matara_df['HCHO Reading'])\n",
    "plt.xlabel('HCHO Reading')\n",
    "plt.ylabel('Value')\n",
    "plt.title('Histogram of Matara DataFrame')"
   ]
  },
  {
   "cell_type": "markdown",
   "metadata": {},
   "source": [
    "Identifying outliers in Kandy DataFrame"
   ]
  },
  {
   "cell_type": "code",
   "execution_count": 463,
   "metadata": {},
   "outputs": [
    {
     "data": {
      "text/plain": [
       "Text(0.5, 1.0, 'Histogram of Kandy DataFrame')"
      ]
     },
     "execution_count": 463,
     "metadata": {},
     "output_type": "execute_result"
    },
    {
     "data": {
      "image/png": "[encoded data removed]",
      "text/plain": [
       "<Figure size 640x480 with 1 Axes>"
      ]
     },
     "metadata": {},
     "output_type": "display_data"
    }
   ],
   "source": [
    "plt.hist(kandy_df['HCHO Reading'])\n",
    "plt.xlabel('HCHO Reading')\n",
    "plt.ylabel('Value')\n",
    "plt.title('Histogram of Kandy DataFrame')"
   ]
  },
  {
   "cell_type": "markdown",
   "metadata": {},
   "source": [
    "Finding Z-Score in Kandy Dataframe "
   ]
  },
  {
   "cell_type": "code",
   "execution_count": 464,
   "metadata": {},
   "outputs": [
    {
     "data": {
      "text/plain": [
       "0      -0.203884\n",
       "1       0.000000\n",
       "2       1.222269\n",
       "3       0.226114\n",
       "4      -2.477654\n",
       "          ...   \n",
       "1820    0.000000\n",
       "1821    0.000000\n",
       "1822    0.000000\n",
       "1823   -0.728626\n",
       "1824    0.000000\n",
       "Name: HCHO Reading, Length: 1825, dtype: float64"
      ]
     },
     "execution_count": 464,
     "metadata": {},
     "output_type": "execute_result"
    }
   ],
   "source": [
    "mean_Correct_values_in_HCHO_Reading_Kandy\n",
    "std_Kandy = np.std(kandy_df['HCHO Reading'])\n",
    "Z_Score_of_Kandy = (kandy_df['HCHO Reading']- mean_Correct_values_in_HCHO_Reading_Kandy)/std_Kandy\n",
    "Z_Score_of_Kandy"
   ]
  },
  {
   "cell_type": "markdown",
   "metadata": {},
   "source": [
    "Adding another column to Kandy as HCHO Reading Z-Score"
   ]
  },
  {
   "cell_type": "code",
   "execution_count": 465,
   "metadata": {},
   "outputs": [
    {
     "data": {
      "text/html": [
       "<div>\n",
       "<style scoped>\n",
       "    .dataframe tbody tr th:only-of-type {\n",
       "        vertical-align: middle;\n",
       "    }\n",
       "\n",
       "    .dataframe tbody tr th {\n",
       "        vertical-align: top;\n",
       "    }\n",
       "\n",
       "    .dataframe thead th {\n",
       "        text-align: right;\n",
       "    }\n",
       "</style>\n",
       "<table border=\"1\" class=\"dataframe\">\n",
       "  <thead>\n",
       "    <tr style=\"text-align: right;\">\n",
       "      <th></th>\n",
       "      <th>HCHO Reading</th>\n",
       "      <th>Location</th>\n",
       "      <th>Current Date</th>\n",
       "      <th>Next Date</th>\n",
       "      <th>HCHO Reading Z-Score</th>\n",
       "    </tr>\n",
       "  </thead>\n",
       "  <tbody>\n",
       "    <tr>\n",
       "      <th>0</th>\n",
       "      <td>0.000092</td>\n",
       "      <td>Kandy Proper</td>\n",
       "      <td>1/2/2019</td>\n",
       "      <td>1/3/2019</td>\n",
       "      <td>-0.203884</td>\n",
       "    </tr>\n",
       "    <tr>\n",
       "      <th>1</th>\n",
       "      <td>0.000106</td>\n",
       "      <td>Kandy Proper</td>\n",
       "      <td>1/3/2019</td>\n",
       "      <td>1/4/2019</td>\n",
       "      <td>0.000000</td>\n",
       "    </tr>\n",
       "    <tr>\n",
       "      <th>2</th>\n",
       "      <td>0.000191</td>\n",
       "      <td>Kandy Proper</td>\n",
       "      <td>1/4/2019</td>\n",
       "      <td>1/5/2019</td>\n",
       "      <td>1.222269</td>\n",
       "    </tr>\n",
       "    <tr>\n",
       "      <th>3</th>\n",
       "      <td>0.000122</td>\n",
       "      <td>Kandy Proper</td>\n",
       "      <td>1/5/2019</td>\n",
       "      <td>1/6/2019</td>\n",
       "      <td>0.226114</td>\n",
       "    </tr>\n",
       "    <tr>\n",
       "      <th>4</th>\n",
       "      <td>-0.000065</td>\n",
       "      <td>Kandy Proper</td>\n",
       "      <td>1/6/2019</td>\n",
       "      <td>1/7/2019</td>\n",
       "      <td>-2.477654</td>\n",
       "    </tr>\n",
       "    <tr>\n",
       "      <th>...</th>\n",
       "      <td>...</td>\n",
       "      <td>...</td>\n",
       "      <td>...</td>\n",
       "      <td>...</td>\n",
       "      <td>...</td>\n",
       "    </tr>\n",
       "    <tr>\n",
       "      <th>1820</th>\n",
       "      <td>0.000106</td>\n",
       "      <td>Kandy Proper</td>\n",
       "      <td>12/27/2023</td>\n",
       "      <td>12/28/2023</td>\n",
       "      <td>0.000000</td>\n",
       "    </tr>\n",
       "    <tr>\n",
       "      <th>1821</th>\n",
       "      <td>0.000106</td>\n",
       "      <td>Kandy Proper</td>\n",
       "      <td>12/28/2023</td>\n",
       "      <td>12/29/2023</td>\n",
       "      <td>0.000000</td>\n",
       "    </tr>\n",
       "    <tr>\n",
       "      <th>1822</th>\n",
       "      <td>0.000106</td>\n",
       "      <td>Kandy Proper</td>\n",
       "      <td>12/29/2023</td>\n",
       "      <td>12/30/2023</td>\n",
       "      <td>0.000000</td>\n",
       "    </tr>\n",
       "    <tr>\n",
       "      <th>1823</th>\n",
       "      <td>0.000056</td>\n",
       "      <td>Kandy Proper</td>\n",
       "      <td>12/30/2023</td>\n",
       "      <td>12/31/2023</td>\n",
       "      <td>-0.728626</td>\n",
       "    </tr>\n",
       "    <tr>\n",
       "      <th>1824</th>\n",
       "      <td>0.000106</td>\n",
       "      <td>Kandy Proper</td>\n",
       "      <td>12/31/2023</td>\n",
       "      <td>1/1/2024</td>\n",
       "      <td>0.000000</td>\n",
       "    </tr>\n",
       "  </tbody>\n",
       "</table>\n",
       "<p>1825 rows × 5 columns</p>\n",
       "</div>"
      ],
      "text/plain": [
       "      HCHO Reading      Location Current Date   Next Date  \\\n",
       "0         0.000092  Kandy Proper     1/2/2019    1/3/2019   \n",
       "1         0.000106  Kandy Proper     1/3/2019    1/4/2019   \n",
       "2         0.000191  Kandy Proper     1/4/2019    1/5/2019   \n",
       "3         0.000122  Kandy Proper     1/5/2019    1/6/2019   \n",
       "4        -0.000065  Kandy Proper     1/6/2019    1/7/2019   \n",
       "...            ...           ...          ...         ...   \n",
       "1820      0.000106  Kandy Proper   12/27/2023  12/28/2023   \n",
       "1821      0.000106  Kandy Proper   12/28/2023  12/29/2023   \n",
       "1822      0.000106  Kandy Proper   12/29/2023  12/30/2023   \n",
       "1823      0.000056  Kandy Proper   12/30/2023  12/31/2023   \n",
       "1824      0.000106  Kandy Proper   12/31/2023    1/1/2024   \n",
       "\n",
       "      HCHO Reading Z-Score  \n",
       "0                -0.203884  \n",
       "1                 0.000000  \n",
       "2                 1.222269  \n",
       "3                 0.226114  \n",
       "4                -2.477654  \n",
       "...                    ...  \n",
       "1820              0.000000  \n",
       "1821              0.000000  \n",
       "1822              0.000000  \n",
       "1823             -0.728626  \n",
       "1824              0.000000  \n",
       "\n",
       "[1825 rows x 5 columns]"
      ]
     },
     "execution_count": 465,
     "metadata": {},
     "output_type": "execute_result"
    }
   ],
   "source": [
    "kandy_df['HCHO Reading Z-Score'] = Z_Score_of_Kandy\n",
    "kandy_df"
   ]
  },
  {
   "cell_type": "code",
   "execution_count": 466,
   "metadata": {},
   "outputs": [
    {
     "name": "stdout",
     "output_type": "stream",
     "text": [
      "Number of outliers: 31\n"
     ]
    }
   ],
   "source": [
    "# Count the number of rows in the filtered DataFrame\n",
    "num_outliers = len(kandy_df[kandy_df['HCHO Reading Z-Score']>2.5])\n",
    "print(\"Number of outliers:\", num_outliers)"
   ]
  },
  {
   "cell_type": "code",
   "execution_count": 467,
   "metadata": {},
   "outputs": [
    {
     "name": "stdout",
     "output_type": "stream",
     "text": [
      "Number of outliers: 28\n"
     ]
    }
   ],
   "source": [
    "# Count the number of rows in the filtered DataFrame\n",
    "num_outliers = len(kandy_df[kandy_df['HCHO Reading Z-Score']<-2.5])\n",
    "print(\"Number of outliers:\", num_outliers)"
   ]
  },
  {
   "cell_type": "markdown",
   "metadata": {},
   "source": [
    "Removing outliers in Kandy"
   ]
  },
  {
   "cell_type": "code",
   "execution_count": 468,
   "metadata": {},
   "outputs": [],
   "source": [
    "outlier_indexes = []\n",
    "outlier_indexes.extend(kandy_df.index[kandy_df['HCHO Reading Z-Score']>2.5].tolist())\n",
    "outlier_indexes.extend(kandy_df.index[kandy_df['HCHO Reading Z-Score']<-2.5].tolist())\n",
    "new_kandy_df = kandy_df.drop(kandy_df.index[outlier_indexes])"
   ]
  },
  {
   "cell_type": "markdown",
   "metadata": {},
   "source": [
    "Checking the difference of the dataframes "
   ]
  },
  {
   "cell_type": "code",
   "execution_count": 469,
   "metadata": {},
   "outputs": [
    {
     "data": {
      "text/plain": [
       "(1766, 1825)"
      ]
     },
     "execution_count": 469,
     "metadata": {},
     "output_type": "execute_result"
    }
   ],
   "source": [
    "new_kandy_df.shape[0], kandy_df.shape[0]"
   ]
  },
  {
   "cell_type": "markdown",
   "metadata": {},
   "source": [
    "Dropping HCHO Reading Z-Score column from the new dataframe"
   ]
  },
  {
   "cell_type": "code",
   "execution_count": 470,
   "metadata": {},
   "outputs": [
    {
     "data": {
      "text/html": [
       "<div>\n",
       "<style scoped>\n",
       "    .dataframe tbody tr th:only-of-type {\n",
       "        vertical-align: middle;\n",
       "    }\n",
       "\n",
       "    .dataframe tbody tr th {\n",
       "        vertical-align: top;\n",
       "    }\n",
       "\n",
       "    .dataframe thead th {\n",
       "        text-align: right;\n",
       "    }\n",
       "</style>\n",
       "<table border=\"1\" class=\"dataframe\">\n",
       "  <thead>\n",
       "    <tr style=\"text-align: right;\">\n",
       "      <th></th>\n",
       "      <th>HCHO Reading</th>\n",
       "      <th>Location</th>\n",
       "      <th>Current Date</th>\n",
       "      <th>Next Date</th>\n",
       "    </tr>\n",
       "  </thead>\n",
       "  <tbody>\n",
       "    <tr>\n",
       "      <th>0</th>\n",
       "      <td>0.000092</td>\n",
       "      <td>Kandy Proper</td>\n",
       "      <td>1/2/2019</td>\n",
       "      <td>1/3/2019</td>\n",
       "    </tr>\n",
       "    <tr>\n",
       "      <th>1</th>\n",
       "      <td>0.000106</td>\n",
       "      <td>Kandy Proper</td>\n",
       "      <td>1/3/2019</td>\n",
       "      <td>1/4/2019</td>\n",
       "    </tr>\n",
       "    <tr>\n",
       "      <th>2</th>\n",
       "      <td>0.000191</td>\n",
       "      <td>Kandy Proper</td>\n",
       "      <td>1/4/2019</td>\n",
       "      <td>1/5/2019</td>\n",
       "    </tr>\n",
       "    <tr>\n",
       "      <th>3</th>\n",
       "      <td>0.000122</td>\n",
       "      <td>Kandy Proper</td>\n",
       "      <td>1/5/2019</td>\n",
       "      <td>1/6/2019</td>\n",
       "    </tr>\n",
       "    <tr>\n",
       "      <th>4</th>\n",
       "      <td>-0.000065</td>\n",
       "      <td>Kandy Proper</td>\n",
       "      <td>1/6/2019</td>\n",
       "      <td>1/7/2019</td>\n",
       "    </tr>\n",
       "    <tr>\n",
       "      <th>...</th>\n",
       "      <td>...</td>\n",
       "      <td>...</td>\n",
       "      <td>...</td>\n",
       "      <td>...</td>\n",
       "    </tr>\n",
       "    <tr>\n",
       "      <th>1820</th>\n",
       "      <td>0.000106</td>\n",
       "      <td>Kandy Proper</td>\n",
       "      <td>12/27/2023</td>\n",
       "      <td>12/28/2023</td>\n",
       "    </tr>\n",
       "    <tr>\n",
       "      <th>1821</th>\n",
       "      <td>0.000106</td>\n",
       "      <td>Kandy Proper</td>\n",
       "      <td>12/28/2023</td>\n",
       "      <td>12/29/2023</td>\n",
       "    </tr>\n",
       "    <tr>\n",
       "      <th>1822</th>\n",
       "      <td>0.000106</td>\n",
       "      <td>Kandy Proper</td>\n",
       "      <td>12/29/2023</td>\n",
       "      <td>12/30/2023</td>\n",
       "    </tr>\n",
       "    <tr>\n",
       "      <th>1823</th>\n",
       "      <td>0.000056</td>\n",
       "      <td>Kandy Proper</td>\n",
       "      <td>12/30/2023</td>\n",
       "      <td>12/31/2023</td>\n",
       "    </tr>\n",
       "    <tr>\n",
       "      <th>1824</th>\n",
       "      <td>0.000106</td>\n",
       "      <td>Kandy Proper</td>\n",
       "      <td>12/31/2023</td>\n",
       "      <td>1/1/2024</td>\n",
       "    </tr>\n",
       "  </tbody>\n",
       "</table>\n",
       "<p>1766 rows × 4 columns</p>\n",
       "</div>"
      ],
      "text/plain": [
       "      HCHO Reading      Location Current Date   Next Date\n",
       "0         0.000092  Kandy Proper     1/2/2019    1/3/2019\n",
       "1         0.000106  Kandy Proper     1/3/2019    1/4/2019\n",
       "2         0.000191  Kandy Proper     1/4/2019    1/5/2019\n",
       "3         0.000122  Kandy Proper     1/5/2019    1/6/2019\n",
       "4        -0.000065  Kandy Proper     1/6/2019    1/7/2019\n",
       "...            ...           ...          ...         ...\n",
       "1820      0.000106  Kandy Proper   12/27/2023  12/28/2023\n",
       "1821      0.000106  Kandy Proper   12/28/2023  12/29/2023\n",
       "1822      0.000106  Kandy Proper   12/29/2023  12/30/2023\n",
       "1823      0.000056  Kandy Proper   12/30/2023  12/31/2023\n",
       "1824      0.000106  Kandy Proper   12/31/2023    1/1/2024\n",
       "\n",
       "[1766 rows x 4 columns]"
      ]
     },
     "execution_count": 470,
     "metadata": {},
     "output_type": "execute_result"
    }
   ],
   "source": [
    "new_kandy_df.drop('HCHO Reading Z-Score', axis = 1)"
   ]
  },
  {
   "cell_type": "markdown",
   "metadata": {},
   "source": [
    "After removing outliers in Kandy dataframe"
   ]
  },
  {
   "cell_type": "code",
   "execution_count": 471,
   "metadata": {},
   "outputs": [
    {
     "data": {
      "text/plain": [
       "Text(0.5, 1.0, 'Histogram of Kandy DataFrame')"
      ]
     },
     "execution_count": 471,
     "metadata": {},
     "output_type": "execute_result"
    },
    {
     "data": {
      "image/png": "[encoded data removed]",
      "text/plain": [
       "<Figure size 640x480 with 1 Axes>"
      ]
     },
     "metadata": {},
     "output_type": "display_data"
    }
   ],
   "source": [
    "plt.hist(new_kandy_df['HCHO Reading'])\n",
    "plt.xlabel('HCHO Reading')\n",
    "plt.ylabel('Value')\n",
    "plt.title('Histogram of Kandy DataFrame')"
   ]
  },
  {
   "cell_type": "markdown",
   "metadata": {},
   "source": [
    "Identifying outliers in Monaragala DataFrame"
   ]
  },
  {
   "cell_type": "code",
   "execution_count": 472,
   "metadata": {},
   "outputs": [
    {
     "data": {
      "text/plain": [
       "Text(0.5, 1.0, 'Histogram of Monaragala DataFrame')"
      ]
     },
     "execution_count": 472,
     "metadata": {},
     "output_type": "execute_result"
    },
    {
     "data": {
      "image/png": "[encoded data removed]",
      "text/plain": [
       "<Figure size 640x480 with 1 Axes>"
      ]
     },
     "metadata": {},
     "output_type": "display_data"
    }
   ],
   "source": [
    "plt.hist(monaragala_df['HCHO Reading'])\n",
    "plt.xlabel('HCHO Reading')\n",
    "plt.ylabel('Value')\n",
    "plt.title('Histogram of Monaragala DataFrame')"
   ]
  },
  {
   "cell_type": "markdown",
   "metadata": {},
   "source": [
    "Finding Z-Score in Monaragala Dataframe "
   ]
  },
  {
   "cell_type": "code",
   "execution_count": 473,
   "metadata": {},
   "outputs": [
    {
     "data": {
      "text/plain": [
       "0      -1.449396\n",
       "1      -1.328893\n",
       "2      -1.202305\n",
       "3      -1.952195\n",
       "4       0.261576\n",
       "          ...   \n",
       "1820    0.000000\n",
       "1821    0.000000\n",
       "1822    0.000000\n",
       "1823    0.000000\n",
       "1824    0.000000\n",
       "Name: HCHO Reading, Length: 1825, dtype: float64"
      ]
     },
     "execution_count": 473,
     "metadata": {},
     "output_type": "execute_result"
    }
   ],
   "source": [
    "mean_Correct_values_in_HCHO_Reading_Monaragala\n",
    "std_Monaragala= np.std(monaragala_df['HCHO Reading'])\n",
    "Z_Score_of_Monaragala = (monaragala_df['HCHO Reading']- mean_Correct_values_in_HCHO_Reading_Monaragala)/std_Monaragala\n",
    "Z_Score_of_Monaragala"
   ]
  },
  {
   "cell_type": "markdown",
   "metadata": {},
   "source": [
    "Adding another column to Monaragala as HCHO Reading Z-Score"
   ]
  },
  {
   "cell_type": "code",
   "execution_count": 474,
   "metadata": {},
   "outputs": [
    {
     "name": "stderr",
     "output_type": "stream",
     "text": [
      "C:\\Users\\deela\\AppData\\Local\\Temp\\ipykernel_1248\\3127772261.py:1: SettingWithCopyWarning: \n",
      "A value is trying to be set on a copy of a slice from a DataFrame.\n",
      "Try using .loc[row_indexer,col_indexer] = value instead\n",
      "\n",
      "See the caveats in the documentation: https://pandas.pydata.org/pandas-docs/stable/user_guide/indexing.html#returning-a-view-versus-a-copy\n",
      "  monaragala_df['HCHO Reading Z-Score'] = Z_Score_of_Monaragala\n"
     ]
    },
    {
     "data": {
      "text/html": [
       "<div>\n",
       "<style scoped>\n",
       "    .dataframe tbody tr th:only-of-type {\n",
       "        vertical-align: middle;\n",
       "    }\n",
       "\n",
       "    .dataframe tbody tr th {\n",
       "        vertical-align: top;\n",
       "    }\n",
       "\n",
       "    .dataframe thead th {\n",
       "        text-align: right;\n",
       "    }\n",
       "</style>\n",
       "<table border=\"1\" class=\"dataframe\">\n",
       "  <thead>\n",
       "    <tr style=\"text-align: right;\">\n",
       "      <th></th>\n",
       "      <th>HCHO Reading</th>\n",
       "      <th>Location</th>\n",
       "      <th>Current Date</th>\n",
       "      <th>Next Date</th>\n",
       "      <th>HCHO Reading Z-Score</th>\n",
       "    </tr>\n",
       "  </thead>\n",
       "  <tbody>\n",
       "    <tr>\n",
       "      <th>0</th>\n",
       "      <td>0.000019</td>\n",
       "      <td>Bibile, Monaragala</td>\n",
       "      <td>1/2/2019</td>\n",
       "      <td>1/3/2019</td>\n",
       "      <td>-1.449396</td>\n",
       "    </tr>\n",
       "    <tr>\n",
       "      <th>1</th>\n",
       "      <td>0.000028</td>\n",
       "      <td>Bibile, Monaragala</td>\n",
       "      <td>1/3/2019</td>\n",
       "      <td>1/4/2019</td>\n",
       "      <td>-1.328893</td>\n",
       "    </tr>\n",
       "    <tr>\n",
       "      <th>2</th>\n",
       "      <td>0.000037</td>\n",
       "      <td>Bibile, Monaragala</td>\n",
       "      <td>1/4/2019</td>\n",
       "      <td>1/5/2019</td>\n",
       "      <td>-1.202305</td>\n",
       "    </tr>\n",
       "    <tr>\n",
       "      <th>3</th>\n",
       "      <td>-0.000018</td>\n",
       "      <td>Bibile, Monaragala</td>\n",
       "      <td>1/5/2019</td>\n",
       "      <td>1/6/2019</td>\n",
       "      <td>-1.952195</td>\n",
       "    </tr>\n",
       "    <tr>\n",
       "      <th>4</th>\n",
       "      <td>0.000146</td>\n",
       "      <td>Bibile, Monaragala</td>\n",
       "      <td>1/6/2019</td>\n",
       "      <td>1/7/2019</td>\n",
       "      <td>0.261576</td>\n",
       "    </tr>\n",
       "    <tr>\n",
       "      <th>...</th>\n",
       "      <td>...</td>\n",
       "      <td>...</td>\n",
       "      <td>...</td>\n",
       "      <td>...</td>\n",
       "      <td>...</td>\n",
       "    </tr>\n",
       "    <tr>\n",
       "      <th>1820</th>\n",
       "      <td>0.000126</td>\n",
       "      <td>Bibile, Monaragala</td>\n",
       "      <td>12/27/2023</td>\n",
       "      <td>12/28/2023</td>\n",
       "      <td>0.000000</td>\n",
       "    </tr>\n",
       "    <tr>\n",
       "      <th>1821</th>\n",
       "      <td>0.000126</td>\n",
       "      <td>Bibile, Monaragala</td>\n",
       "      <td>12/28/2023</td>\n",
       "      <td>12/29/2023</td>\n",
       "      <td>0.000000</td>\n",
       "    </tr>\n",
       "    <tr>\n",
       "      <th>1822</th>\n",
       "      <td>0.000126</td>\n",
       "      <td>Bibile, Monaragala</td>\n",
       "      <td>12/29/2023</td>\n",
       "      <td>12/30/2023</td>\n",
       "      <td>0.000000</td>\n",
       "    </tr>\n",
       "    <tr>\n",
       "      <th>1823</th>\n",
       "      <td>0.000126</td>\n",
       "      <td>Bibile, Monaragala</td>\n",
       "      <td>12/30/2023</td>\n",
       "      <td>12/31/2023</td>\n",
       "      <td>0.000000</td>\n",
       "    </tr>\n",
       "    <tr>\n",
       "      <th>1824</th>\n",
       "      <td>0.000126</td>\n",
       "      <td>Bibile, Monaragala</td>\n",
       "      <td>12/31/2023</td>\n",
       "      <td>1/1/2024</td>\n",
       "      <td>0.000000</td>\n",
       "    </tr>\n",
       "  </tbody>\n",
       "</table>\n",
       "<p>1825 rows × 5 columns</p>\n",
       "</div>"
      ],
      "text/plain": [
       "      HCHO Reading            Location Current Date   Next Date  \\\n",
       "0         0.000019  Bibile, Monaragala     1/2/2019    1/3/2019   \n",
       "1         0.000028  Bibile, Monaragala     1/3/2019    1/4/2019   \n",
       "2         0.000037  Bibile, Monaragala     1/4/2019    1/5/2019   \n",
       "3        -0.000018  Bibile, Monaragala     1/5/2019    1/6/2019   \n",
       "4         0.000146  Bibile, Monaragala     1/6/2019    1/7/2019   \n",
       "...            ...                 ...          ...         ...   \n",
       "1820      0.000126  Bibile, Monaragala   12/27/2023  12/28/2023   \n",
       "1821      0.000126  Bibile, Monaragala   12/28/2023  12/29/2023   \n",
       "1822      0.000126  Bibile, Monaragala   12/29/2023  12/30/2023   \n",
       "1823      0.000126  Bibile, Monaragala   12/30/2023  12/31/2023   \n",
       "1824      0.000126  Bibile, Monaragala   12/31/2023    1/1/2024   \n",
       "\n",
       "      HCHO Reading Z-Score  \n",
       "0                -1.449396  \n",
       "1                -1.328893  \n",
       "2                -1.202305  \n",
       "3                -1.952195  \n",
       "4                 0.261576  \n",
       "...                    ...  \n",
       "1820              0.000000  \n",
       "1821              0.000000  \n",
       "1822              0.000000  \n",
       "1823              0.000000  \n",
       "1824              0.000000  \n",
       "\n",
       "[1825 rows x 5 columns]"
      ]
     },
     "execution_count": 474,
     "metadata": {},
     "output_type": "execute_result"
    }
   ],
   "source": [
    "monaragala_df['HCHO Reading Z-Score'] = Z_Score_of_Monaragala\n",
    "monaragala_df"
   ]
  },
  {
   "cell_type": "code",
   "execution_count": 475,
   "metadata": {},
   "outputs": [
    {
     "name": "stdout",
     "output_type": "stream",
     "text": [
      "Number of outliers: 55\n"
     ]
    }
   ],
   "source": [
    "# Count the number of rows in the filtered DataFrame\n",
    "num_outliers = len(monaragala_df[monaragala_df['HCHO Reading Z-Score']>2])\n",
    "print(\"Number of outliers:\", num_outliers)"
   ]
  },
  {
   "cell_type": "code",
   "execution_count": 476,
   "metadata": {},
   "outputs": [
    {
     "name": "stdout",
     "output_type": "stream",
     "text": [
      "Number of outliers: 54\n"
     ]
    }
   ],
   "source": [
    "# Count the number of rows in the filtered DataFrame\n",
    "num_outliers = len(monaragala_df[monaragala_df['HCHO Reading Z-Score']<-2])\n",
    "print(\"Number of outliers:\", num_outliers)"
   ]
  },
  {
   "cell_type": "markdown",
   "metadata": {},
   "source": [
    "Removing outliers in Monaragala"
   ]
  },
  {
   "cell_type": "code",
   "execution_count": 477,
   "metadata": {},
   "outputs": [],
   "source": [
    "outlier_indexes = []\n",
    "outlier_indexes.extend(monaragala_df.index[monaragala_df['HCHO Reading Z-Score']>2].tolist())\n",
    "outlier_indexes.extend(monaragala_df.index[monaragala_df['HCHO Reading Z-Score']<-2].tolist())\n",
    "new_monaragala_df = monaragala_df.drop(monaragala_df.index[outlier_indexes])"
   ]
  },
  {
   "cell_type": "markdown",
   "metadata": {},
   "source": [
    "Checking the difference of the dataframes "
   ]
  },
  {
   "cell_type": "code",
   "execution_count": 478,
   "metadata": {},
   "outputs": [
    {
     "data": {
      "text/plain": [
       "(1716, 1825)"
      ]
     },
     "execution_count": 478,
     "metadata": {},
     "output_type": "execute_result"
    }
   ],
   "source": [
    "new_monaragala_df.shape[0], monaragala_df.shape[0]"
   ]
  },
  {
   "cell_type": "markdown",
   "metadata": {},
   "source": [
    "Dropping HCHO Reading Z-Score column from the new dataframe"
   ]
  },
  {
   "cell_type": "code",
   "execution_count": 479,
   "metadata": {},
   "outputs": [
    {
     "data": {
      "text/html": [
       "<div>\n",
       "<style scoped>\n",
       "    .dataframe tbody tr th:only-of-type {\n",
       "        vertical-align: middle;\n",
       "    }\n",
       "\n",
       "    .dataframe tbody tr th {\n",
       "        vertical-align: top;\n",
       "    }\n",
       "\n",
       "    .dataframe thead th {\n",
       "        text-align: right;\n",
       "    }\n",
       "</style>\n",
       "<table border=\"1\" class=\"dataframe\">\n",
       "  <thead>\n",
       "    <tr style=\"text-align: right;\">\n",
       "      <th></th>\n",
       "      <th>HCHO Reading</th>\n",
       "      <th>Location</th>\n",
       "      <th>Current Date</th>\n",
       "      <th>Next Date</th>\n",
       "    </tr>\n",
       "  </thead>\n",
       "  <tbody>\n",
       "    <tr>\n",
       "      <th>0</th>\n",
       "      <td>0.000019</td>\n",
       "      <td>Bibile, Monaragala</td>\n",
       "      <td>1/2/2019</td>\n",
       "      <td>1/3/2019</td>\n",
       "    </tr>\n",
       "    <tr>\n",
       "      <th>1</th>\n",
       "      <td>0.000028</td>\n",
       "      <td>Bibile, Monaragala</td>\n",
       "      <td>1/3/2019</td>\n",
       "      <td>1/4/2019</td>\n",
       "    </tr>\n",
       "    <tr>\n",
       "      <th>2</th>\n",
       "      <td>0.000037</td>\n",
       "      <td>Bibile, Monaragala</td>\n",
       "      <td>1/4/2019</td>\n",
       "      <td>1/5/2019</td>\n",
       "    </tr>\n",
       "    <tr>\n",
       "      <th>3</th>\n",
       "      <td>-0.000018</td>\n",
       "      <td>Bibile, Monaragala</td>\n",
       "      <td>1/5/2019</td>\n",
       "      <td>1/6/2019</td>\n",
       "    </tr>\n",
       "    <tr>\n",
       "      <th>4</th>\n",
       "      <td>0.000146</td>\n",
       "      <td>Bibile, Monaragala</td>\n",
       "      <td>1/6/2019</td>\n",
       "      <td>1/7/2019</td>\n",
       "    </tr>\n",
       "    <tr>\n",
       "      <th>...</th>\n",
       "      <td>...</td>\n",
       "      <td>...</td>\n",
       "      <td>...</td>\n",
       "      <td>...</td>\n",
       "    </tr>\n",
       "    <tr>\n",
       "      <th>1820</th>\n",
       "      <td>0.000126</td>\n",
       "      <td>Bibile, Monaragala</td>\n",
       "      <td>12/27/2023</td>\n",
       "      <td>12/28/2023</td>\n",
       "    </tr>\n",
       "    <tr>\n",
       "      <th>1821</th>\n",
       "      <td>0.000126</td>\n",
       "      <td>Bibile, Monaragala</td>\n",
       "      <td>12/28/2023</td>\n",
       "      <td>12/29/2023</td>\n",
       "    </tr>\n",
       "    <tr>\n",
       "      <th>1822</th>\n",
       "      <td>0.000126</td>\n",
       "      <td>Bibile, Monaragala</td>\n",
       "      <td>12/29/2023</td>\n",
       "      <td>12/30/2023</td>\n",
       "    </tr>\n",
       "    <tr>\n",
       "      <th>1823</th>\n",
       "      <td>0.000126</td>\n",
       "      <td>Bibile, Monaragala</td>\n",
       "      <td>12/30/2023</td>\n",
       "      <td>12/31/2023</td>\n",
       "    </tr>\n",
       "    <tr>\n",
       "      <th>1824</th>\n",
       "      <td>0.000126</td>\n",
       "      <td>Bibile, Monaragala</td>\n",
       "      <td>12/31/2023</td>\n",
       "      <td>1/1/2024</td>\n",
       "    </tr>\n",
       "  </tbody>\n",
       "</table>\n",
       "<p>1716 rows × 4 columns</p>\n",
       "</div>"
      ],
      "text/plain": [
       "      HCHO Reading            Location Current Date   Next Date\n",
       "0         0.000019  Bibile, Monaragala     1/2/2019    1/3/2019\n",
       "1         0.000028  Bibile, Monaragala     1/3/2019    1/4/2019\n",
       "2         0.000037  Bibile, Monaragala     1/4/2019    1/5/2019\n",
       "3        -0.000018  Bibile, Monaragala     1/5/2019    1/6/2019\n",
       "4         0.000146  Bibile, Monaragala     1/6/2019    1/7/2019\n",
       "...            ...                 ...          ...         ...\n",
       "1820      0.000126  Bibile, Monaragala   12/27/2023  12/28/2023\n",
       "1821      0.000126  Bibile, Monaragala   12/28/2023  12/29/2023\n",
       "1822      0.000126  Bibile, Monaragala   12/29/2023  12/30/2023\n",
       "1823      0.000126  Bibile, Monaragala   12/30/2023  12/31/2023\n",
       "1824      0.000126  Bibile, Monaragala   12/31/2023    1/1/2024\n",
       "\n",
       "[1716 rows x 4 columns]"
      ]
     },
     "execution_count": 479,
     "metadata": {},
     "output_type": "execute_result"
    }
   ],
   "source": [
    "new_monaragala_df.drop('HCHO Reading Z-Score', axis = 1)"
   ]
  },
  {
   "cell_type": "markdown",
   "metadata": {},
   "source": [
    "After removing outliers in Monaragala dataframe"
   ]
  },
  {
   "cell_type": "code",
   "execution_count": 480,
   "metadata": {},
   "outputs": [
    {
     "data": {
      "text/plain": [
       "Text(0.5, 1.0, 'Histogram of Monaragala DataFrame')"
      ]
     },
     "execution_count": 480,
     "metadata": {},
     "output_type": "execute_result"
    },
    {
     "data": {
      "image/png": "[encoded data removed]",
      "text/plain": [
       "<Figure size 640x480 with 1 Axes>"
      ]
     },
     "metadata": {},
     "output_type": "display_data"
    }
   ],
   "source": [
    "plt.hist(new_monaragala_df['HCHO Reading'])\n",
    "plt.xlabel('HCHO Reading')\n",
    "plt.ylabel('Value')\n",
    "plt.title('Histogram of Monaragala DataFrame')"
   ]
  },
  {
   "cell_type": "markdown",
   "metadata": {},
   "source": [
    "Identifying outliers in Kurunegala DataFrame"
   ]
  },
  {
   "cell_type": "code",
   "execution_count": 481,
   "metadata": {},
   "outputs": [
    {
     "data": {
      "text/plain": [
       "Text(0.5, 1.0, 'Histogram of Kurunegala DataFrame')"
      ]
     },
     "execution_count": 481,
     "metadata": {},
     "output_type": "execute_result"
    },
    {
     "data": {
      "image/png": "[encoded data removed]",
      "text/plain": [
       "<Figure size 640x480 with 1 Axes>"
      ]
     },
     "metadata": {},
     "output_type": "display_data"
    }
   ],
   "source": [
    "plt.hist(kurunegala_df['HCHO Reading'])\n",
    "plt.xlabel('HCHO Reading')\n",
    "plt.ylabel('Value')\n",
    "plt.title('Histogram of Kurunegala DataFrame')"
   ]
  },
  {
   "cell_type": "markdown",
   "metadata": {},
   "source": [
    "Finding Z-Score in Kurunegala Dataframe "
   ]
  },
  {
   "cell_type": "code",
   "execution_count": 482,
   "metadata": {},
   "outputs": [
    {
     "data": {
      "text/plain": [
       "0      -0.641233\n",
       "1       0.042896\n",
       "2       0.196181\n",
       "3      -1.908288\n",
       "4       1.611287\n",
       "          ...   \n",
       "1821   -0.821114\n",
       "1822    0.000000\n",
       "1823    0.000000\n",
       "1824    0.334166\n",
       "1825    0.000000\n",
       "Name: HCHO Reading, Length: 1826, dtype: float64"
      ]
     },
     "execution_count": 482,
     "metadata": {},
     "output_type": "execute_result"
    }
   ],
   "source": [
    "mean_Correct_values_in_HCHO_Reading_Kurunegala\n",
    "std_Kurunegala = np.std(kurunegala_df['HCHO Reading'])\n",
    "Z_Score_of_Kurunegala = (kurunegala_df['HCHO Reading']- mean_Correct_values_in_HCHO_Reading_Kurunegala)/std_Kurunegala\n",
    "Z_Score_of_Kurunegala"
   ]
  },
  {
   "cell_type": "markdown",
   "metadata": {},
   "source": [
    "Adding another column to Kurunegala as HCHO Reading Z-Score"
   ]
  },
  {
   "cell_type": "code",
   "execution_count": 483,
   "metadata": {},
   "outputs": [
    {
     "name": "stderr",
     "output_type": "stream",
     "text": [
      "C:\\Users\\deela\\AppData\\Local\\Temp\\ipykernel_1248\\3324741367.py:1: SettingWithCopyWarning: \n",
      "A value is trying to be set on a copy of a slice from a DataFrame.\n",
      "Try using .loc[row_indexer,col_indexer] = value instead\n",
      "\n",
      "See the caveats in the documentation: https://pandas.pydata.org/pandas-docs/stable/user_guide/indexing.html#returning-a-view-versus-a-copy\n",
      "  kurunegala_df['HCHO Reading Z-Score'] = Z_Score_of_Kurunegala\n"
     ]
    },
    {
     "data": {
      "text/html": [
       "<div>\n",
       "<style scoped>\n",
       "    .dataframe tbody tr th:only-of-type {\n",
       "        vertical-align: middle;\n",
       "    }\n",
       "\n",
       "    .dataframe tbody tr th {\n",
       "        vertical-align: top;\n",
       "    }\n",
       "\n",
       "    .dataframe thead th {\n",
       "        text-align: right;\n",
       "    }\n",
       "</style>\n",
       "<table border=\"1\" class=\"dataframe\">\n",
       "  <thead>\n",
       "    <tr style=\"text-align: right;\">\n",
       "      <th></th>\n",
       "      <th>HCHO Reading</th>\n",
       "      <th>Location</th>\n",
       "      <th>Current Date</th>\n",
       "      <th>Next Date</th>\n",
       "      <th>HCHO Reading Z-Score</th>\n",
       "    </tr>\n",
       "  </thead>\n",
       "  <tbody>\n",
       "    <tr>\n",
       "      <th>0</th>\n",
       "      <td>0.000088</td>\n",
       "      <td>Kurunegala Proper</td>\n",
       "      <td>1/1/2019</td>\n",
       "      <td>1/2/2019</td>\n",
       "      <td>-0.641233</td>\n",
       "    </tr>\n",
       "    <tr>\n",
       "      <th>1</th>\n",
       "      <td>0.000137</td>\n",
       "      <td>Kurunegala Proper</td>\n",
       "      <td>1/2/2019</td>\n",
       "      <td>1/3/2019</td>\n",
       "      <td>0.042896</td>\n",
       "    </tr>\n",
       "    <tr>\n",
       "      <th>2</th>\n",
       "      <td>0.000148</td>\n",
       "      <td>Kurunegala Proper</td>\n",
       "      <td>1/3/2019</td>\n",
       "      <td>1/4/2019</td>\n",
       "      <td>0.196181</td>\n",
       "    </tr>\n",
       "    <tr>\n",
       "      <th>3</th>\n",
       "      <td>-0.000002</td>\n",
       "      <td>Kurunegala Proper</td>\n",
       "      <td>1/4/2019</td>\n",
       "      <td>1/5/2019</td>\n",
       "      <td>-1.908288</td>\n",
       "    </tr>\n",
       "    <tr>\n",
       "      <th>4</th>\n",
       "      <td>0.000249</td>\n",
       "      <td>Kurunegala Proper</td>\n",
       "      <td>1/5/2019</td>\n",
       "      <td>1/6/2019</td>\n",
       "      <td>1.611287</td>\n",
       "    </tr>\n",
       "    <tr>\n",
       "      <th>...</th>\n",
       "      <td>...</td>\n",
       "      <td>...</td>\n",
       "      <td>...</td>\n",
       "      <td>...</td>\n",
       "      <td>...</td>\n",
       "    </tr>\n",
       "    <tr>\n",
       "      <th>1821</th>\n",
       "      <td>0.000075</td>\n",
       "      <td>Kurunegala Proper</td>\n",
       "      <td>12/27/2023</td>\n",
       "      <td>12/28/2023</td>\n",
       "      <td>-0.821114</td>\n",
       "    </tr>\n",
       "    <tr>\n",
       "      <th>1822</th>\n",
       "      <td>0.000134</td>\n",
       "      <td>Kurunegala Proper</td>\n",
       "      <td>12/28/2023</td>\n",
       "      <td>12/29/2023</td>\n",
       "      <td>0.000000</td>\n",
       "    </tr>\n",
       "    <tr>\n",
       "      <th>1823</th>\n",
       "      <td>0.000134</td>\n",
       "      <td>Kurunegala Proper</td>\n",
       "      <td>12/29/2023</td>\n",
       "      <td>12/30/2023</td>\n",
       "      <td>0.000000</td>\n",
       "    </tr>\n",
       "    <tr>\n",
       "      <th>1824</th>\n",
       "      <td>0.000158</td>\n",
       "      <td>Kurunegala Proper</td>\n",
       "      <td>12/30/2023</td>\n",
       "      <td>12/31/2023</td>\n",
       "      <td>0.334166</td>\n",
       "    </tr>\n",
       "    <tr>\n",
       "      <th>1825</th>\n",
       "      <td>0.000134</td>\n",
       "      <td>Kurunegala Proper</td>\n",
       "      <td>12/31/2023</td>\n",
       "      <td>1/1/2024</td>\n",
       "      <td>0.000000</td>\n",
       "    </tr>\n",
       "  </tbody>\n",
       "</table>\n",
       "<p>1826 rows × 5 columns</p>\n",
       "</div>"
      ],
      "text/plain": [
       "      HCHO Reading           Location Current Date   Next Date  \\\n",
       "0         0.000088  Kurunegala Proper     1/1/2019    1/2/2019   \n",
       "1         0.000137  Kurunegala Proper     1/2/2019    1/3/2019   \n",
       "2         0.000148  Kurunegala Proper     1/3/2019    1/4/2019   \n",
       "3        -0.000002  Kurunegala Proper     1/4/2019    1/5/2019   \n",
       "4         0.000249  Kurunegala Proper     1/5/2019    1/6/2019   \n",
       "...            ...                ...          ...         ...   \n",
       "1821      0.000075  Kurunegala Proper   12/27/2023  12/28/2023   \n",
       "1822      0.000134  Kurunegala Proper   12/28/2023  12/29/2023   \n",
       "1823      0.000134  Kurunegala Proper   12/29/2023  12/30/2023   \n",
       "1824      0.000158  Kurunegala Proper   12/30/2023  12/31/2023   \n",
       "1825      0.000134  Kurunegala Proper   12/31/2023    1/1/2024   \n",
       "\n",
       "      HCHO Reading Z-Score  \n",
       "0                -0.641233  \n",
       "1                 0.042896  \n",
       "2                 0.196181  \n",
       "3                -1.908288  \n",
       "4                 1.611287  \n",
       "...                    ...  \n",
       "1821             -0.821114  \n",
       "1822              0.000000  \n",
       "1823              0.000000  \n",
       "1824              0.334166  \n",
       "1825              0.000000  \n",
       "\n",
       "[1826 rows x 5 columns]"
      ]
     },
     "execution_count": 483,
     "metadata": {},
     "output_type": "execute_result"
    }
   ],
   "source": [
    "kurunegala_df['HCHO Reading Z-Score'] = Z_Score_of_Kurunegala\n",
    "kurunegala_df"
   ]
  },
  {
   "cell_type": "code",
   "execution_count": 484,
   "metadata": {},
   "outputs": [
    {
     "name": "stdout",
     "output_type": "stream",
     "text": [
      "Number of outliers: 38\n"
     ]
    }
   ],
   "source": [
    "# Count the number of rows in the filtered DataFrame\n",
    "num_outliers = len(kurunegala_df[kurunegala_df['HCHO Reading Z-Score']>2.5])\n",
    "print(\"Number of outliers:\", num_outliers)"
   ]
  },
  {
   "cell_type": "code",
   "execution_count": 485,
   "metadata": {},
   "outputs": [
    {
     "name": "stdout",
     "output_type": "stream",
     "text": [
      "Number of outliers: 21\n"
     ]
    }
   ],
   "source": [
    "# Count the number of rows in the filtered DataFrame\n",
    "num_outliers = len(kurunegala_df[kurunegala_df['HCHO Reading Z-Score']<-2.5])\n",
    "print(\"Number of outliers:\", num_outliers)"
   ]
  },
  {
   "cell_type": "markdown",
   "metadata": {},
   "source": [
    "Removing outliers in Kurunegala"
   ]
  },
  {
   "cell_type": "code",
   "execution_count": 486,
   "metadata": {},
   "outputs": [],
   "source": [
    "outlier_indexes = []\n",
    "outlier_indexes.extend(kurunegala_df.index[kurunegala_df['HCHO Reading Z-Score']>2.5].tolist())\n",
    "outlier_indexes.extend(kurunegala_df.index[kurunegala_df['HCHO Reading Z-Score']<-2.5].tolist())\n",
    "new_kurunegala_df = kurunegala_df.drop(kurunegala_df.index[outlier_indexes])"
   ]
  },
  {
   "cell_type": "markdown",
   "metadata": {},
   "source": [
    "Checking the difference of the dataframes "
   ]
  },
  {
   "cell_type": "code",
   "execution_count": 487,
   "metadata": {},
   "outputs": [
    {
     "data": {
      "text/plain": [
       "(1767, 1826)"
      ]
     },
     "execution_count": 487,
     "metadata": {},
     "output_type": "execute_result"
    }
   ],
   "source": [
    "new_kurunegala_df.shape[0], kurunegala_df.shape[0]"
   ]
  },
  {
   "cell_type": "markdown",
   "metadata": {},
   "source": [
    "Dropping HCHO Reading Z-Score column from the new dataframe"
   ]
  },
  {
   "cell_type": "code",
   "execution_count": 488,
   "metadata": {},
   "outputs": [
    {
     "data": {
      "text/html": [
       "<div>\n",
       "<style scoped>\n",
       "    .dataframe tbody tr th:only-of-type {\n",
       "        vertical-align: middle;\n",
       "    }\n",
       "\n",
       "    .dataframe tbody tr th {\n",
       "        vertical-align: top;\n",
       "    }\n",
       "\n",
       "    .dataframe thead th {\n",
       "        text-align: right;\n",
       "    }\n",
       "</style>\n",
       "<table border=\"1\" class=\"dataframe\">\n",
       "  <thead>\n",
       "    <tr style=\"text-align: right;\">\n",
       "      <th></th>\n",
       "      <th>HCHO Reading</th>\n",
       "      <th>Location</th>\n",
       "      <th>Current Date</th>\n",
       "      <th>Next Date</th>\n",
       "    </tr>\n",
       "  </thead>\n",
       "  <tbody>\n",
       "    <tr>\n",
       "      <th>0</th>\n",
       "      <td>0.000088</td>\n",
       "      <td>Kurunegala Proper</td>\n",
       "      <td>1/1/2019</td>\n",
       "      <td>1/2/2019</td>\n",
       "    </tr>\n",
       "    <tr>\n",
       "      <th>1</th>\n",
       "      <td>0.000137</td>\n",
       "      <td>Kurunegala Proper</td>\n",
       "      <td>1/2/2019</td>\n",
       "      <td>1/3/2019</td>\n",
       "    </tr>\n",
       "    <tr>\n",
       "      <th>2</th>\n",
       "      <td>0.000148</td>\n",
       "      <td>Kurunegala Proper</td>\n",
       "      <td>1/3/2019</td>\n",
       "      <td>1/4/2019</td>\n",
       "    </tr>\n",
       "    <tr>\n",
       "      <th>3</th>\n",
       "      <td>-0.000002</td>\n",
       "      <td>Kurunegala Proper</td>\n",
       "      <td>1/4/2019</td>\n",
       "      <td>1/5/2019</td>\n",
       "    </tr>\n",
       "    <tr>\n",
       "      <th>4</th>\n",
       "      <td>0.000249</td>\n",
       "      <td>Kurunegala Proper</td>\n",
       "      <td>1/5/2019</td>\n",
       "      <td>1/6/2019</td>\n",
       "    </tr>\n",
       "    <tr>\n",
       "      <th>...</th>\n",
       "      <td>...</td>\n",
       "      <td>...</td>\n",
       "      <td>...</td>\n",
       "      <td>...</td>\n",
       "    </tr>\n",
       "    <tr>\n",
       "      <th>1821</th>\n",
       "      <td>0.000075</td>\n",
       "      <td>Kurunegala Proper</td>\n",
       "      <td>12/27/2023</td>\n",
       "      <td>12/28/2023</td>\n",
       "    </tr>\n",
       "    <tr>\n",
       "      <th>1822</th>\n",
       "      <td>0.000134</td>\n",
       "      <td>Kurunegala Proper</td>\n",
       "      <td>12/28/2023</td>\n",
       "      <td>12/29/2023</td>\n",
       "    </tr>\n",
       "    <tr>\n",
       "      <th>1823</th>\n",
       "      <td>0.000134</td>\n",
       "      <td>Kurunegala Proper</td>\n",
       "      <td>12/29/2023</td>\n",
       "      <td>12/30/2023</td>\n",
       "    </tr>\n",
       "    <tr>\n",
       "      <th>1824</th>\n",
       "      <td>0.000158</td>\n",
       "      <td>Kurunegala Proper</td>\n",
       "      <td>12/30/2023</td>\n",
       "      <td>12/31/2023</td>\n",
       "    </tr>\n",
       "    <tr>\n",
       "      <th>1825</th>\n",
       "      <td>0.000134</td>\n",
       "      <td>Kurunegala Proper</td>\n",
       "      <td>12/31/2023</td>\n",
       "      <td>1/1/2024</td>\n",
       "    </tr>\n",
       "  </tbody>\n",
       "</table>\n",
       "<p>1767 rows × 4 columns</p>\n",
       "</div>"
      ],
      "text/plain": [
       "      HCHO Reading           Location Current Date   Next Date\n",
       "0         0.000088  Kurunegala Proper     1/1/2019    1/2/2019\n",
       "1         0.000137  Kurunegala Proper     1/2/2019    1/3/2019\n",
       "2         0.000148  Kurunegala Proper     1/3/2019    1/4/2019\n",
       "3        -0.000002  Kurunegala Proper     1/4/2019    1/5/2019\n",
       "4         0.000249  Kurunegala Proper     1/5/2019    1/6/2019\n",
       "...            ...                ...          ...         ...\n",
       "1821      0.000075  Kurunegala Proper   12/27/2023  12/28/2023\n",
       "1822      0.000134  Kurunegala Proper   12/28/2023  12/29/2023\n",
       "1823      0.000134  Kurunegala Proper   12/29/2023  12/30/2023\n",
       "1824      0.000158  Kurunegala Proper   12/30/2023  12/31/2023\n",
       "1825      0.000134  Kurunegala Proper   12/31/2023    1/1/2024\n",
       "\n",
       "[1767 rows x 4 columns]"
      ]
     },
     "execution_count": 488,
     "metadata": {},
     "output_type": "execute_result"
    }
   ],
   "source": [
    "new_kurunegala_df.drop('HCHO Reading Z-Score', axis = 1)"
   ]
  },
  {
   "cell_type": "markdown",
   "metadata": {},
   "source": [
    "After removing outliers in Kurunegala dataframe"
   ]
  },
  {
   "cell_type": "code",
   "execution_count": 489,
   "metadata": {},
   "outputs": [
    {
     "data": {
      "text/plain": [
       "Text(0.5, 1.0, 'Histogram of Kurunegala DataFrame')"
      ]
     },
     "execution_count": 489,
     "metadata": {},
     "output_type": "execute_result"
    },
    {
     "data": {
      "image/png": "[encoded data removed]",
      "text/plain": [
       "<Figure size 640x480 with 1 Axes>"
      ]
     },
     "metadata": {},
     "output_type": "display_data"
    }
   ],
   "source": [
    "plt.hist(new_kurunegala_df['HCHO Reading'])\n",
    "plt.xlabel('HCHO Reading')\n",
    "plt.ylabel('Value')\n",
    "plt.title('Histogram of Kurunegala DataFrame')"
   ]
  },
  {
   "cell_type": "markdown",
   "metadata": {},
   "source": [
    "Identifying outliers in Jaffna DataFrame"
   ]
  },
  {
   "cell_type": "code",
   "execution_count": 490,
   "metadata": {},
   "outputs": [
    {
     "data": {
      "text/plain": [
       "Text(0.5, 1.0, 'Histogram of Jaffna DataFrame')"
      ]
     },
     "execution_count": 490,
     "metadata": {},
     "output_type": "execute_result"
    },
    {
     "data": {
      "image/png": "[encoded data removed]",
      "text/plain": [
       "<Figure size 640x480 with 1 Axes>"
      ]
     },
     "metadata": {},
     "output_type": "display_data"
    }
   ],
   "source": [
    "plt.hist(jaffna_df['HCHO Reading'])\n",
    "plt.xlabel('HCHO Reading')\n",
    "plt.ylabel('Value')\n",
    "plt.title('Histogram of Jaffna DataFrame')"
   ]
  },
  {
   "cell_type": "markdown",
   "metadata": {},
   "source": [
    "Finding Z-Score in Jaffna Dataframe "
   ]
  },
  {
   "cell_type": "code",
   "execution_count": 491,
   "metadata": {},
   "outputs": [
    {
     "data": {
      "text/plain": [
       "0      -0.719958\n",
       "1      -0.099993\n",
       "2      -0.990775\n",
       "3      -1.585183\n",
       "4       0.714335\n",
       "          ...   \n",
       "1821    0.000000\n",
       "1822   -0.818491\n",
       "1823    0.255412\n",
       "1824    0.111919\n",
       "1825   -0.618743\n",
       "Name: HCHO Reading, Length: 1826, dtype: float64"
      ]
     },
     "execution_count": 491,
     "metadata": {},
     "output_type": "execute_result"
    }
   ],
   "source": [
    "mean_Correct_values_in_HCHO_Reading_Jaffna\n",
    "std_Jaffna = np.std(jaffna_df['HCHO Reading'])\n",
    "Z_Score_of_Jaffna = (jaffna_df['HCHO Reading']- mean_Correct_values_in_HCHO_Reading_Jaffna)/std_Jaffna\n",
    "Z_Score_of_Jaffna"
   ]
  },
  {
   "cell_type": "markdown",
   "metadata": {},
   "source": [
    "Adding another column to Jaffna as HCHO Reading Z-Score"
   ]
  },
  {
   "cell_type": "code",
   "execution_count": 492,
   "metadata": {},
   "outputs": [
    {
     "name": "stderr",
     "output_type": "stream",
     "text": [
      "C:\\Users\\deela\\AppData\\Local\\Temp\\ipykernel_1248\\2614012435.py:1: SettingWithCopyWarning: \n",
      "A value is trying to be set on a copy of a slice from a DataFrame.\n",
      "Try using .loc[row_indexer,col_indexer] = value instead\n",
      "\n",
      "See the caveats in the documentation: https://pandas.pydata.org/pandas-docs/stable/user_guide/indexing.html#returning-a-view-versus-a-copy\n",
      "  jaffna_df['HCHO Reading Z-Score'] = Z_Score_of_Jaffna\n"
     ]
    },
    {
     "data": {
      "text/html": [
       "<div>\n",
       "<style scoped>\n",
       "    .dataframe tbody tr th:only-of-type {\n",
       "        vertical-align: middle;\n",
       "    }\n",
       "\n",
       "    .dataframe tbody tr th {\n",
       "        vertical-align: top;\n",
       "    }\n",
       "\n",
       "    .dataframe thead th {\n",
       "        text-align: right;\n",
       "    }\n",
       "</style>\n",
       "<table border=\"1\" class=\"dataframe\">\n",
       "  <thead>\n",
       "    <tr style=\"text-align: right;\">\n",
       "      <th></th>\n",
       "      <th>HCHO Reading</th>\n",
       "      <th>Location</th>\n",
       "      <th>Current Date</th>\n",
       "      <th>Next Date</th>\n",
       "      <th>HCHO Reading Z-Score</th>\n",
       "    </tr>\n",
       "  </thead>\n",
       "  <tbody>\n",
       "    <tr>\n",
       "      <th>0</th>\n",
       "      <td>0.000058</td>\n",
       "      <td>Jaffna Proper</td>\n",
       "      <td>1/1/2019</td>\n",
       "      <td>1/2/2019</td>\n",
       "      <td>-0.719958</td>\n",
       "    </tr>\n",
       "    <tr>\n",
       "      <th>1</th>\n",
       "      <td>0.000102</td>\n",
       "      <td>Jaffna Proper</td>\n",
       "      <td>1/2/2019</td>\n",
       "      <td>1/3/2019</td>\n",
       "      <td>-0.099993</td>\n",
       "    </tr>\n",
       "    <tr>\n",
       "      <th>2</th>\n",
       "      <td>0.000039</td>\n",
       "      <td>Jaffna Proper</td>\n",
       "      <td>1/3/2019</td>\n",
       "      <td>1/4/2019</td>\n",
       "      <td>-0.990775</td>\n",
       "    </tr>\n",
       "    <tr>\n",
       "      <th>3</th>\n",
       "      <td>-0.000002</td>\n",
       "      <td>Jaffna Proper</td>\n",
       "      <td>1/4/2019</td>\n",
       "      <td>1/5/2019</td>\n",
       "      <td>-1.585183</td>\n",
       "    </tr>\n",
       "    <tr>\n",
       "      <th>4</th>\n",
       "      <td>0.000159</td>\n",
       "      <td>Jaffna Proper</td>\n",
       "      <td>1/5/2019</td>\n",
       "      <td>1/6/2019</td>\n",
       "      <td>0.714335</td>\n",
       "    </tr>\n",
       "    <tr>\n",
       "      <th>...</th>\n",
       "      <td>...</td>\n",
       "      <td>...</td>\n",
       "      <td>...</td>\n",
       "      <td>...</td>\n",
       "      <td>...</td>\n",
       "    </tr>\n",
       "    <tr>\n",
       "      <th>1821</th>\n",
       "      <td>0.000109</td>\n",
       "      <td>Jaffna Proper</td>\n",
       "      <td>12/27/2023</td>\n",
       "      <td>12/28/2023</td>\n",
       "      <td>0.000000</td>\n",
       "    </tr>\n",
       "    <tr>\n",
       "      <th>1822</th>\n",
       "      <td>0.000051</td>\n",
       "      <td>Jaffna Proper</td>\n",
       "      <td>12/28/2023</td>\n",
       "      <td>12/29/2023</td>\n",
       "      <td>-0.818491</td>\n",
       "    </tr>\n",
       "    <tr>\n",
       "      <th>1823</th>\n",
       "      <td>0.000127</td>\n",
       "      <td>Jaffna Proper</td>\n",
       "      <td>12/29/2023</td>\n",
       "      <td>12/30/2023</td>\n",
       "      <td>0.255412</td>\n",
       "    </tr>\n",
       "    <tr>\n",
       "      <th>1824</th>\n",
       "      <td>0.000117</td>\n",
       "      <td>Jaffna Proper</td>\n",
       "      <td>12/30/2023</td>\n",
       "      <td>12/31/2023</td>\n",
       "      <td>0.111919</td>\n",
       "    </tr>\n",
       "    <tr>\n",
       "      <th>1825</th>\n",
       "      <td>0.000065</td>\n",
       "      <td>Jaffna Proper</td>\n",
       "      <td>12/31/2023</td>\n",
       "      <td>1/1/2024</td>\n",
       "      <td>-0.618743</td>\n",
       "    </tr>\n",
       "  </tbody>\n",
       "</table>\n",
       "<p>1826 rows × 5 columns</p>\n",
       "</div>"
      ],
      "text/plain": [
       "      HCHO Reading       Location Current Date   Next Date  \\\n",
       "0         0.000058  Jaffna Proper     1/1/2019    1/2/2019   \n",
       "1         0.000102  Jaffna Proper     1/2/2019    1/3/2019   \n",
       "2         0.000039  Jaffna Proper     1/3/2019    1/4/2019   \n",
       "3        -0.000002  Jaffna Proper     1/4/2019    1/5/2019   \n",
       "4         0.000159  Jaffna Proper     1/5/2019    1/6/2019   \n",
       "...            ...            ...          ...         ...   \n",
       "1821      0.000109  Jaffna Proper   12/27/2023  12/28/2023   \n",
       "1822      0.000051  Jaffna Proper   12/28/2023  12/29/2023   \n",
       "1823      0.000127  Jaffna Proper   12/29/2023  12/30/2023   \n",
       "1824      0.000117  Jaffna Proper   12/30/2023  12/31/2023   \n",
       "1825      0.000065  Jaffna Proper   12/31/2023    1/1/2024   \n",
       "\n",
       "      HCHO Reading Z-Score  \n",
       "0                -0.719958  \n",
       "1                -0.099993  \n",
       "2                -0.990775  \n",
       "3                -1.585183  \n",
       "4                 0.714335  \n",
       "...                    ...  \n",
       "1821              0.000000  \n",
       "1822             -0.818491  \n",
       "1823              0.255412  \n",
       "1824              0.111919  \n",
       "1825             -0.618743  \n",
       "\n",
       "[1826 rows x 5 columns]"
      ]
     },
     "execution_count": 492,
     "metadata": {},
     "output_type": "execute_result"
    }
   ],
   "source": [
    "jaffna_df['HCHO Reading Z-Score'] = Z_Score_of_Jaffna\n",
    "jaffna_df"
   ]
  },
  {
   "cell_type": "code",
   "execution_count": 493,
   "metadata": {},
   "outputs": [
    {
     "name": "stdout",
     "output_type": "stream",
     "text": [
      "Number of outliers: 36\n"
     ]
    }
   ],
   "source": [
    "# Count the number of rows in the filtered DataFrame\n",
    "num_outliers = len(jaffna_df[jaffna_df['HCHO Reading Z-Score']>2.5])\n",
    "print(\"Number of outliers:\", num_outliers)"
   ]
  },
  {
   "cell_type": "code",
   "execution_count": 494,
   "metadata": {},
   "outputs": [
    {
     "name": "stdout",
     "output_type": "stream",
     "text": [
      "Number of outliers: 15\n"
     ]
    }
   ],
   "source": [
    "# Count the number of rows in the filtered DataFrame\n",
    "num_outliers = len(jaffna_df[jaffna_df['HCHO Reading Z-Score']<-2.5])\n",
    "print(\"Number of outliers:\", num_outliers)"
   ]
  },
  {
   "cell_type": "markdown",
   "metadata": {},
   "source": [
    "Removing outliers in Jaffna"
   ]
  },
  {
   "cell_type": "code",
   "execution_count": 495,
   "metadata": {},
   "outputs": [],
   "source": [
    "outlier_indexes = []\n",
    "outlier_indexes.extend(jaffna_df.index[jaffna_df['HCHO Reading Z-Score']>2].tolist())\n",
    "outlier_indexes.extend(jaffna_df.index[jaffna_df['HCHO Reading Z-Score']<-2].tolist())\n",
    "new_jaffna_df = jaffna_df.drop(jaffna_df.index[outlier_indexes])"
   ]
  },
  {
   "cell_type": "markdown",
   "metadata": {},
   "source": [
    "Checking the difference of the dataframes "
   ]
  },
  {
   "cell_type": "code",
   "execution_count": 496,
   "metadata": {},
   "outputs": [
    {
     "data": {
      "text/plain": [
       "(1737, 1826)"
      ]
     },
     "execution_count": 496,
     "metadata": {},
     "output_type": "execute_result"
    }
   ],
   "source": [
    "new_jaffna_df.shape[0], jaffna_df.shape[0]"
   ]
  },
  {
   "cell_type": "markdown",
   "metadata": {},
   "source": [
    "Dropping HCHO Reading Z-Score column from the new dataframe"
   ]
  },
  {
   "cell_type": "code",
   "execution_count": 497,
   "metadata": {},
   "outputs": [
    {
     "data": {
      "text/html": [
       "<div>\n",
       "<style scoped>\n",
       "    .dataframe tbody tr th:only-of-type {\n",
       "        vertical-align: middle;\n",
       "    }\n",
       "\n",
       "    .dataframe tbody tr th {\n",
       "        vertical-align: top;\n",
       "    }\n",
       "\n",
       "    .dataframe thead th {\n",
       "        text-align: right;\n",
       "    }\n",
       "</style>\n",
       "<table border=\"1\" class=\"dataframe\">\n",
       "  <thead>\n",
       "    <tr style=\"text-align: right;\">\n",
       "      <th></th>\n",
       "      <th>HCHO Reading</th>\n",
       "      <th>Location</th>\n",
       "      <th>Current Date</th>\n",
       "      <th>Next Date</th>\n",
       "    </tr>\n",
       "  </thead>\n",
       "  <tbody>\n",
       "    <tr>\n",
       "      <th>0</th>\n",
       "      <td>0.000058</td>\n",
       "      <td>Jaffna Proper</td>\n",
       "      <td>1/1/2019</td>\n",
       "      <td>1/2/2019</td>\n",
       "    </tr>\n",
       "    <tr>\n",
       "      <th>1</th>\n",
       "      <td>0.000102</td>\n",
       "      <td>Jaffna Proper</td>\n",
       "      <td>1/2/2019</td>\n",
       "      <td>1/3/2019</td>\n",
       "    </tr>\n",
       "    <tr>\n",
       "      <th>2</th>\n",
       "      <td>0.000039</td>\n",
       "      <td>Jaffna Proper</td>\n",
       "      <td>1/3/2019</td>\n",
       "      <td>1/4/2019</td>\n",
       "    </tr>\n",
       "    <tr>\n",
       "      <th>3</th>\n",
       "      <td>-0.000002</td>\n",
       "      <td>Jaffna Proper</td>\n",
       "      <td>1/4/2019</td>\n",
       "      <td>1/5/2019</td>\n",
       "    </tr>\n",
       "    <tr>\n",
       "      <th>4</th>\n",
       "      <td>0.000159</td>\n",
       "      <td>Jaffna Proper</td>\n",
       "      <td>1/5/2019</td>\n",
       "      <td>1/6/2019</td>\n",
       "    </tr>\n",
       "    <tr>\n",
       "      <th>...</th>\n",
       "      <td>...</td>\n",
       "      <td>...</td>\n",
       "      <td>...</td>\n",
       "      <td>...</td>\n",
       "    </tr>\n",
       "    <tr>\n",
       "      <th>1821</th>\n",
       "      <td>0.000109</td>\n",
       "      <td>Jaffna Proper</td>\n",
       "      <td>12/27/2023</td>\n",
       "      <td>12/28/2023</td>\n",
       "    </tr>\n",
       "    <tr>\n",
       "      <th>1822</th>\n",
       "      <td>0.000051</td>\n",
       "      <td>Jaffna Proper</td>\n",
       "      <td>12/28/2023</td>\n",
       "      <td>12/29/2023</td>\n",
       "    </tr>\n",
       "    <tr>\n",
       "      <th>1823</th>\n",
       "      <td>0.000127</td>\n",
       "      <td>Jaffna Proper</td>\n",
       "      <td>12/29/2023</td>\n",
       "      <td>12/30/2023</td>\n",
       "    </tr>\n",
       "    <tr>\n",
       "      <th>1824</th>\n",
       "      <td>0.000117</td>\n",
       "      <td>Jaffna Proper</td>\n",
       "      <td>12/30/2023</td>\n",
       "      <td>12/31/2023</td>\n",
       "    </tr>\n",
       "    <tr>\n",
       "      <th>1825</th>\n",
       "      <td>0.000065</td>\n",
       "      <td>Jaffna Proper</td>\n",
       "      <td>12/31/2023</td>\n",
       "      <td>1/1/2024</td>\n",
       "    </tr>\n",
       "  </tbody>\n",
       "</table>\n",
       "<p>1737 rows × 4 columns</p>\n",
       "</div>"
      ],
      "text/plain": [
       "      HCHO Reading       Location Current Date   Next Date\n",
       "0         0.000058  Jaffna Proper     1/1/2019    1/2/2019\n",
       "1         0.000102  Jaffna Proper     1/2/2019    1/3/2019\n",
       "2         0.000039  Jaffna Proper     1/3/2019    1/4/2019\n",
       "3        -0.000002  Jaffna Proper     1/4/2019    1/5/2019\n",
       "4         0.000159  Jaffna Proper     1/5/2019    1/6/2019\n",
       "...            ...            ...          ...         ...\n",
       "1821      0.000109  Jaffna Proper   12/27/2023  12/28/2023\n",
       "1822      0.000051  Jaffna Proper   12/28/2023  12/29/2023\n",
       "1823      0.000127  Jaffna Proper   12/29/2023  12/30/2023\n",
       "1824      0.000117  Jaffna Proper   12/30/2023  12/31/2023\n",
       "1825      0.000065  Jaffna Proper   12/31/2023    1/1/2024\n",
       "\n",
       "[1737 rows x 4 columns]"
      ]
     },
     "execution_count": 497,
     "metadata": {},
     "output_type": "execute_result"
    }
   ],
   "source": [
    "new_jaffna_df.drop('HCHO Reading Z-Score', axis = 1)"
   ]
  },
  {
   "cell_type": "markdown",
   "metadata": {},
   "source": [
    "After removing outliers in Jaffna dataframe"
   ]
  },
  {
   "cell_type": "code",
   "execution_count": 498,
   "metadata": {},
   "outputs": [
    {
     "data": {
      "text/plain": [
       "Text(0.5, 1.0, 'Histogram of Jaffna DataFrame')"
      ]
     },
     "execution_count": 498,
     "metadata": {},
     "output_type": "execute_result"
    },
    {
     "data": {
      "image/png": "[encoded data removed]",
      "text/plain": [
       "<Figure size 640x480 with 1 Axes>"
      ]
     },
     "metadata": {},
     "output_type": "display_data"
    }
   ],
   "source": [
    "plt.hist(new_jaffna_df['HCHO Reading'])\n",
    "plt.xlabel('HCHO Reading')\n",
    "plt.ylabel('Value')\n",
    "plt.title('Histogram of Jaffna DataFrame')"
   ]
  },
  {
   "cell_type": "markdown",
   "metadata": {},
   "source": [
    "#### Combining datasets"
   ]
  },
  {
   "cell_type": "code",
   "execution_count": 499,
   "metadata": {},
   "outputs": [
    {
     "data": {
      "text/html": [
       "<div>\n",
       "<style scoped>\n",
       "    .dataframe tbody tr th:only-of-type {\n",
       "        vertical-align: middle;\n",
       "    }\n",
       "\n",
       "    .dataframe tbody tr th {\n",
       "        vertical-align: top;\n",
       "    }\n",
       "\n",
       "    .dataframe thead th {\n",
       "        text-align: right;\n",
       "    }\n",
       "</style>\n",
       "<table border=\"1\" class=\"dataframe\">\n",
       "  <thead>\n",
       "    <tr style=\"text-align: right;\">\n",
       "      <th></th>\n",
       "      <th>HCHO Reading</th>\n",
       "      <th>Location</th>\n",
       "      <th>Current Date</th>\n",
       "      <th>Next Date</th>\n",
       "      <th>HCHO Reading Z-Score</th>\n",
       "    </tr>\n",
       "  </thead>\n",
       "  <tbody>\n",
       "    <tr>\n",
       "      <th>0</th>\n",
       "      <td>0.000263</td>\n",
       "      <td>Colombo Proper</td>\n",
       "      <td>1/2/2019</td>\n",
       "      <td>1/3/2019</td>\n",
       "      <td>1.223498</td>\n",
       "    </tr>\n",
       "    <tr>\n",
       "      <th>1</th>\n",
       "      <td>0.000099</td>\n",
       "      <td>Colombo Proper</td>\n",
       "      <td>1/3/2019</td>\n",
       "      <td>1/4/2019</td>\n",
       "      <td>-0.706055</td>\n",
       "    </tr>\n",
       "    <tr>\n",
       "      <th>2</th>\n",
       "      <td>0.000210</td>\n",
       "      <td>Colombo Proper</td>\n",
       "      <td>1/4/2019</td>\n",
       "      <td>1/5/2019</td>\n",
       "      <td>0.604510</td>\n",
       "    </tr>\n",
       "    <tr>\n",
       "      <th>3</th>\n",
       "      <td>0.000179</td>\n",
       "      <td>Colombo Proper</td>\n",
       "      <td>1/5/2019</td>\n",
       "      <td>1/6/2019</td>\n",
       "      <td>0.235165</td>\n",
       "    </tr>\n",
       "    <tr>\n",
       "      <th>4</th>\n",
       "      <td>0.000108</td>\n",
       "      <td>Colombo Proper</td>\n",
       "      <td>1/6/2019</td>\n",
       "      <td>1/7/2019</td>\n",
       "      <td>-0.591846</td>\n",
       "    </tr>\n",
       "    <tr>\n",
       "      <th>...</th>\n",
       "      <td>...</td>\n",
       "      <td>...</td>\n",
       "      <td>...</td>\n",
       "      <td>...</td>\n",
       "      <td>...</td>\n",
       "    </tr>\n",
       "    <tr>\n",
       "      <th>1821</th>\n",
       "      <td>0.000109</td>\n",
       "      <td>Jaffna Proper</td>\n",
       "      <td>12/27/2023</td>\n",
       "      <td>12/28/2023</td>\n",
       "      <td>0.000000</td>\n",
       "    </tr>\n",
       "    <tr>\n",
       "      <th>1822</th>\n",
       "      <td>0.000051</td>\n",
       "      <td>Jaffna Proper</td>\n",
       "      <td>12/28/2023</td>\n",
       "      <td>12/29/2023</td>\n",
       "      <td>-0.818491</td>\n",
       "    </tr>\n",
       "    <tr>\n",
       "      <th>1823</th>\n",
       "      <td>0.000127</td>\n",
       "      <td>Jaffna Proper</td>\n",
       "      <td>12/29/2023</td>\n",
       "      <td>12/30/2023</td>\n",
       "      <td>0.255412</td>\n",
       "    </tr>\n",
       "    <tr>\n",
       "      <th>1824</th>\n",
       "      <td>0.000117</td>\n",
       "      <td>Jaffna Proper</td>\n",
       "      <td>12/30/2023</td>\n",
       "      <td>12/31/2023</td>\n",
       "      <td>0.111919</td>\n",
       "    </tr>\n",
       "    <tr>\n",
       "      <th>1825</th>\n",
       "      <td>0.000065</td>\n",
       "      <td>Jaffna Proper</td>\n",
       "      <td>12/31/2023</td>\n",
       "      <td>1/1/2024</td>\n",
       "      <td>-0.618743</td>\n",
       "    </tr>\n",
       "  </tbody>\n",
       "</table>\n",
       "<p>12167 rows × 5 columns</p>\n",
       "</div>"
      ],
      "text/plain": [
       "      HCHO Reading        Location Current Date   Next Date  \\\n",
       "0         0.000263  Colombo Proper     1/2/2019    1/3/2019   \n",
       "1         0.000099  Colombo Proper     1/3/2019    1/4/2019   \n",
       "2         0.000210  Colombo Proper     1/4/2019    1/5/2019   \n",
       "3         0.000179  Colombo Proper     1/5/2019    1/6/2019   \n",
       "4         0.000108  Colombo Proper     1/6/2019    1/7/2019   \n",
       "...            ...             ...          ...         ...   \n",
       "1821      0.000109   Jaffna Proper   12/27/2023  12/28/2023   \n",
       "1822      0.000051   Jaffna Proper   12/28/2023  12/29/2023   \n",
       "1823      0.000127   Jaffna Proper   12/29/2023  12/30/2023   \n",
       "1824      0.000117   Jaffna Proper   12/30/2023  12/31/2023   \n",
       "1825      0.000065   Jaffna Proper   12/31/2023    1/1/2024   \n",
       "\n",
       "      HCHO Reading Z-Score  \n",
       "0                 1.223498  \n",
       "1                -0.706055  \n",
       "2                 0.604510  \n",
       "3                 0.235165  \n",
       "4                -0.591846  \n",
       "...                    ...  \n",
       "1821              0.000000  \n",
       "1822             -0.818491  \n",
       "1823              0.255412  \n",
       "1824              0.111919  \n",
       "1825             -0.618743  \n",
       "\n",
       "[12167 rows x 5 columns]"
      ]
     },
     "execution_count": 499,
     "metadata": {},
     "output_type": "execute_result"
    }
   ],
   "source": [
    "the_dataset = pd.concat([new_colombo_df, new_matara_df, new_nuwaraeliya_df, \n",
    "                         new_kandy_df, new_monaragala_df, new_kurunegala_df, \n",
    "                         new_jaffna_df], axis=0)  # Concatenate along rows (stacking)\n",
    "the_dataset"
   ]
  },
  {
   "cell_type": "markdown",
   "metadata": {},
   "source": [
    "Reset the index to the default integer index in order avoid index miss-match"
   ]
  },
  {
   "cell_type": "code",
   "execution_count": 500,
   "metadata": {},
   "outputs": [
    {
     "data": {
      "text/html": [
       "<div>\n",
       "<style scoped>\n",
       "    .dataframe tbody tr th:only-of-type {\n",
       "        vertical-align: middle;\n",
       "    }\n",
       "\n",
       "    .dataframe tbody tr th {\n",
       "        vertical-align: top;\n",
       "    }\n",
       "\n",
       "    .dataframe thead th {\n",
       "        text-align: right;\n",
       "    }\n",
       "</style>\n",
       "<table border=\"1\" class=\"dataframe\">\n",
       "  <thead>\n",
       "    <tr style=\"text-align: right;\">\n",
       "      <th></th>\n",
       "      <th>HCHO Reading</th>\n",
       "      <th>Location</th>\n",
       "      <th>Current Date</th>\n",
       "      <th>Next Date</th>\n",
       "      <th>HCHO Reading Z-Score</th>\n",
       "    </tr>\n",
       "  </thead>\n",
       "  <tbody>\n",
       "    <tr>\n",
       "      <th>0</th>\n",
       "      <td>0.000263</td>\n",
       "      <td>Colombo Proper</td>\n",
       "      <td>1/2/2019</td>\n",
       "      <td>1/3/2019</td>\n",
       "      <td>1.223498</td>\n",
       "    </tr>\n",
       "    <tr>\n",
       "      <th>1</th>\n",
       "      <td>0.000099</td>\n",
       "      <td>Colombo Proper</td>\n",
       "      <td>1/3/2019</td>\n",
       "      <td>1/4/2019</td>\n",
       "      <td>-0.706055</td>\n",
       "    </tr>\n",
       "    <tr>\n",
       "      <th>2</th>\n",
       "      <td>0.000210</td>\n",
       "      <td>Colombo Proper</td>\n",
       "      <td>1/4/2019</td>\n",
       "      <td>1/5/2019</td>\n",
       "      <td>0.604510</td>\n",
       "    </tr>\n",
       "    <tr>\n",
       "      <th>3</th>\n",
       "      <td>0.000179</td>\n",
       "      <td>Colombo Proper</td>\n",
       "      <td>1/5/2019</td>\n",
       "      <td>1/6/2019</td>\n",
       "      <td>0.235165</td>\n",
       "    </tr>\n",
       "    <tr>\n",
       "      <th>4</th>\n",
       "      <td>0.000108</td>\n",
       "      <td>Colombo Proper</td>\n",
       "      <td>1/6/2019</td>\n",
       "      <td>1/7/2019</td>\n",
       "      <td>-0.591846</td>\n",
       "    </tr>\n",
       "    <tr>\n",
       "      <th>...</th>\n",
       "      <td>...</td>\n",
       "      <td>...</td>\n",
       "      <td>...</td>\n",
       "      <td>...</td>\n",
       "      <td>...</td>\n",
       "    </tr>\n",
       "    <tr>\n",
       "      <th>12162</th>\n",
       "      <td>0.000109</td>\n",
       "      <td>Jaffna Proper</td>\n",
       "      <td>12/27/2023</td>\n",
       "      <td>12/28/2023</td>\n",
       "      <td>0.000000</td>\n",
       "    </tr>\n",
       "    <tr>\n",
       "      <th>12163</th>\n",
       "      <td>0.000051</td>\n",
       "      <td>Jaffna Proper</td>\n",
       "      <td>12/28/2023</td>\n",
       "      <td>12/29/2023</td>\n",
       "      <td>-0.818491</td>\n",
       "    </tr>\n",
       "    <tr>\n",
       "      <th>12164</th>\n",
       "      <td>0.000127</td>\n",
       "      <td>Jaffna Proper</td>\n",
       "      <td>12/29/2023</td>\n",
       "      <td>12/30/2023</td>\n",
       "      <td>0.255412</td>\n",
       "    </tr>\n",
       "    <tr>\n",
       "      <th>12165</th>\n",
       "      <td>0.000117</td>\n",
       "      <td>Jaffna Proper</td>\n",
       "      <td>12/30/2023</td>\n",
       "      <td>12/31/2023</td>\n",
       "      <td>0.111919</td>\n",
       "    </tr>\n",
       "    <tr>\n",
       "      <th>12166</th>\n",
       "      <td>0.000065</td>\n",
       "      <td>Jaffna Proper</td>\n",
       "      <td>12/31/2023</td>\n",
       "      <td>1/1/2024</td>\n",
       "      <td>-0.618743</td>\n",
       "    </tr>\n",
       "  </tbody>\n",
       "</table>\n",
       "<p>12167 rows × 5 columns</p>\n",
       "</div>"
      ],
      "text/plain": [
       "       HCHO Reading        Location Current Date   Next Date  \\\n",
       "0          0.000263  Colombo Proper     1/2/2019    1/3/2019   \n",
       "1          0.000099  Colombo Proper     1/3/2019    1/4/2019   \n",
       "2          0.000210  Colombo Proper     1/4/2019    1/5/2019   \n",
       "3          0.000179  Colombo Proper     1/5/2019    1/6/2019   \n",
       "4          0.000108  Colombo Proper     1/6/2019    1/7/2019   \n",
       "...             ...             ...          ...         ...   \n",
       "12162      0.000109   Jaffna Proper   12/27/2023  12/28/2023   \n",
       "12163      0.000051   Jaffna Proper   12/28/2023  12/29/2023   \n",
       "12164      0.000127   Jaffna Proper   12/29/2023  12/30/2023   \n",
       "12165      0.000117   Jaffna Proper   12/30/2023  12/31/2023   \n",
       "12166      0.000065   Jaffna Proper   12/31/2023    1/1/2024   \n",
       "\n",
       "       HCHO Reading Z-Score  \n",
       "0                  1.223498  \n",
       "1                 -0.706055  \n",
       "2                  0.604510  \n",
       "3                  0.235165  \n",
       "4                 -0.591846  \n",
       "...                     ...  \n",
       "12162              0.000000  \n",
       "12163             -0.818491  \n",
       "12164              0.255412  \n",
       "12165              0.111919  \n",
       "12166             -0.618743  \n",
       "\n",
       "[12167 rows x 5 columns]"
      ]
     },
     "execution_count": 500,
     "metadata": {},
     "output_type": "execute_result"
    }
   ],
   "source": [
    "the_dataset.reset_index(drop=True, inplace=True)\n",
    "the_dataset"
   ]
  },
  {
   "cell_type": "markdown",
   "metadata": {},
   "source": [
    "Getting city vise mean, median and standard deviation across the entire dataset"
   ]
  },
  {
   "cell_type": "code",
   "execution_count": 501,
   "metadata": {},
   "outputs": [
    {
     "name": "stdout",
     "output_type": "stream",
     "text": [
      "                         Mean    Median  Standard Deviation\n",
      "Location                                                   \n",
      "Bibile, Monaragala   0.000126  0.000126            0.000053\n",
      "Colombo Proper       0.000154  0.000159            0.000065\n",
      "Deniyaya, Matara     0.000088  0.000092            0.000051\n",
      "Jaffna Proper        0.000105  0.000109            0.000051\n",
      "Kandy Proper         0.000106  0.000106            0.000055\n",
      "Kurunegala Proper    0.000132  0.000134            0.000058\n",
      "Nuwara Eliya Proper  0.000086  0.000088            0.000032\n"
     ]
    }
   ],
   "source": [
    "# city_stats is a DataFrame containing the calculated statistics\n",
    "# groupby will groups the dataset by unique values in the 'Location' column\n",
    "# agg will applies aggregation function to 'HCHO Reading' column, it is used to calculate statistics from large dataset\n",
    "city_stats = the_dataset.groupby('Location')['HCHO Reading'].agg(['mean', 'median', 'std'])\n",
    "\n",
    "# Rename the columns\n",
    "city_stats.columns = ['Mean', 'Median', 'Standard Deviation']\n",
    "print(city_stats)"
   ]
  },
  {
   "cell_type": "markdown",
   "metadata": {},
   "source": [
    "#### Visualization data distribution "
   ]
  },
  {
   "cell_type": "markdown",
   "metadata": {},
   "source": [
    "Plotting Histograms"
   ]
  },
  {
   "cell_type": "code",
   "execution_count": 502,
   "metadata": {},
   "outputs": [
    {
     "data": {
      "image/png": "[encoded data removed]",
      "text/plain": [
       "<Figure size 800x4200 with 7 Axes>"
      ]
     },
     "metadata": {},
     "output_type": "display_data"
    }
   ],
   "source": [
    "# Get unique cities in the dataset\n",
    "unique_cities = the_dataset['Location'].unique()\n",
    "\n",
    "# Define colors for the histograms\n",
    "colors = ['blue', 'green', 'red', 'orange', 'purple', 'yellow', 'brown']  # Add more colors if needed\n",
    "\n",
    "# Create subplots for each city\n",
    "fig, axes = plt.subplots(nrows=len(unique_cities), figsize=(8, 6 * len(unique_cities)), sharex=True)\n",
    "\n",
    "# Iterate over each city and create a histogram\n",
    "for i, (city, color) in enumerate(zip(unique_cities, colors)):\n",
    "    # Filter data for the current city\n",
    "    city_data = the_dataset[the_dataset['Location'] == city]\n",
    "    \n",
    "    # Plot histogram for the current city with specified color\n",
    "    axes[i].hist(city_data['HCHO Reading'], bins=10, color=color)  # Adjust the number of bins as needed\n",
    "    \n",
    "    # Add labels and title for the current subplot\n",
    "    axes[i].set_xlabel('HCHO Reading')\n",
    "    axes[i].set_ylabel('Frequency')\n",
    "    axes[i].set_title(f'Histogram of HCHO Reading for {city}')\n",
    "    \n",
    "# Adjust layout and show the plot\n",
    "plt.tight_layout()\n",
    "plt.show()"
   ]
  },
  {
   "cell_type": "markdown",
   "metadata": {},
   "source": [
    "Plotting Boxplots"
   ]
  },
  {
   "cell_type": "code",
   "execution_count": 503,
   "metadata": {},
   "outputs": [
    {
     "data": {
      "image/png": "[encoded data removed]",
      "text/plain": [
       "<Figure size 800x2800 with 7 Axes>"
      ]
     },
     "metadata": {},
     "output_type": "display_data"
    }
   ],
   "source": [
    "# Get unique cities in the dataset\n",
    "unique_cities = the_dataset['Location'].unique()\n",
    "\n",
    "# Define colors for the boxplots\n",
    "colors = ['blue', 'green', 'red', 'orange', 'purple', 'yellow', 'brown']  # Add more colors if needed\n",
    "\n",
    "# Create subplots for each city\n",
    "fig, axes = plt.subplots(nrows=len(unique_cities), figsize=(8, 4 * len(unique_cities)), sharex=True)\n",
    "\n",
    "# Iterate over each city and create a boxplot\n",
    "for i, (city, color) in enumerate(zip(unique_cities, colors)):\n",
    "    # Filter data for the current city\n",
    "    city_data = the_dataset[the_dataset['Location'] == city]\n",
    "    \n",
    "    # Plot boxplot for the current city with specified color\n",
    "    axes[i].boxplot(city_data['HCHO Reading'], vert=False, patch_artist=True, boxprops=dict(facecolor=color))\n",
    "    \n",
    "    # Add labels and title for the current subplot\n",
    "    axes[i].set_xlabel('HCHO Reading')\n",
    "    axes[i].set_title(f'Boxplot of HCHO Reading for {city}')\n",
    "    \n",
    "# Adjust layout and show the plot\n",
    "plt.tight_layout()\n",
    "plt.show()"
   ]
  }
 ],
 "metadata": {
  "kernelspec": {
   "display_name": "Python 3",
   "language": "python",
   "name": "python3"
  },
  "language_info": {
   "codemirror_mode": {
    "name": "ipython",
    "version": 3
   },
   "file_extension": ".py",
   "mimetype": "text/x-python",
   "name": "python",
   "nbconvert_exporter": "python",
   "pygments_lexer": "ipython3",
   "version": "3.12.1"
  }
 },
 "nbformat": 4,
 "nbformat_minor": 2
}
